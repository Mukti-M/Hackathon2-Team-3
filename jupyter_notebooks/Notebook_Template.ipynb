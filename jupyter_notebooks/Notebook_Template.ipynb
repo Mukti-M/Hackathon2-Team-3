{
  "cells": [
    {
      "cell_type": "markdown",
      "metadata": {
        "id": "0aStgWSO0E0E"
      },
      "source": [
        "#       **EUROTRIP INSIGHTS**\n",
        "A deep dive into tourist travel across Europe"
      ]
    },
    {
      "cell_type": "markdown",
      "metadata": {
        "id": "1eLEkw5O0ECa"
      },
      "source": [
        "## Objectives\n",
        "\n",
        "* Analyse tourist travel preferences across European destinations\n",
        "* Examine seasonal trends and cost variations\n",
        "* Identify budget friendly travel options\n",
        "* Test hypotheses relatedto travel behavior\n",
        "Develop visualisation and dashboard to present findings\n",
        "\n",
        "## Hypotheses: \n",
        "* Travel cost is significantly higher during peak season (summer & winter)\n",
        "* Business travellers prefer shorter trip duration compared to leisure travellers\n",
        "* Tourists travelling in larger group tend to have lower per-person travel cost \n",
        "\n",
        "## Data Process and Cleaning \n",
        "* Load raw dataset and inspect structure \n",
        "* Handle missing values, duplicates and outliers \n",
        "* Convert categorical variables where necessary \n",
        "* Ensure consistency in column formats \n",
        "\n",
        "## Inputs\n",
        "\n",
        "* The dataset \"https://www.kaggle.com/datasets/ashaychoudhary/tourist-travel-modes-in-europe-dataset/data\" was uploaded in its raw form for the ETL phase of the analysis.\n",
        "\n",
        "## Outputs\n",
        "\n",
        "* Cleaned and processed dataset (CSV file for analysis)\n",
        "* Visualisation highlighting key trends (bar charts, scatter plots and correlation analysis)\n",
        "* Statistical analysis on cost and travel patterns (regression and hypotheses testing)\n",
        "* Tableau dashboards summarising findings\n",
        "Python-based interactive dashboard\n",
        "\n",
        "## Additional Comments\n",
        "\n",
        "* Potential for integrating additional dataset to enhance insights\n",
        "* Futher analysis could include machine learning predictions for travel cost estimation\n",
        "* Automate ETL steps using Python workflows\n",
        "\n"
      ]
    },
    {
      "cell_type": "markdown",
      "metadata": {
        "id": "9uWZXH9LwoQg"
      },
      "source": [
        "---"
      ]
    },
    {
      "cell_type": "markdown",
      "metadata": {
        "id": "cqP-UeN-z3i2"
      },
      "source": [
        "## Data Loading & Exploration \n",
        "\n",
        "## Change working directory"
      ]
    },
    {
      "cell_type": "code",
      "execution_count": 22,
      "metadata": {
        "id": "wZfF_j-Bz3i4",
        "outputId": "66943449-1436-4c3d-85c7-b85f9f78349b"
      },
      "outputs": [
        {
          "data": {
            "text/plain": [
              "'c:\\\\Users\\\\mukti\\\\Desktop\\\\codeInstitute\\\\Project2'"
            ]
          },
          "execution_count": 22,
          "metadata": {},
          "output_type": "execute_result"
        }
      ],
      "source": [
        "import os\n",
        "current_dir = os.getcwd()\n",
        "current_dir"
      ]
    },
    {
      "cell_type": "code",
      "execution_count": 23,
      "metadata": {
        "id": "TwHsQRWjz3i9",
        "outputId": "86849db3-cd2f-4cc5-ebb8-2d0caafa1a2c"
      },
      "outputs": [
        {
          "name": "stdout",
          "output_type": "stream",
          "text": [
            "You set a new current directory\n"
          ]
        }
      ],
      "source": [
        "os.chdir(os.path.dirname(current_dir))\n",
        "print(\"You set a new current directory\")"
      ]
    },
    {
      "cell_type": "code",
      "execution_count": 24,
      "metadata": {
        "id": "vz3S-_kjz3jA",
        "outputId": "00b79ae4-75d0-4a96-d193-ac9ef9847ea2"
      },
      "outputs": [
        {
          "data": {
            "text/plain": [
              "'c:\\\\Users\\\\mukti\\\\Desktop\\\\codeInstitute'"
            ]
          },
          "execution_count": 24,
          "metadata": {},
          "output_type": "execute_result"
        }
      ],
      "source": [
        "current_dir = os.getcwd()\n",
        "current_dir"
      ]
    },
    {
      "cell_type": "markdown",
      "metadata": {
        "id": "-mavJ8DibrcQ"
      },
      "source": [
        "# Load and Inspect Dataset"
      ]
    },
    {
      "cell_type": "code",
      "execution_count": 25,
      "metadata": {},
      "outputs": [
        {
          "ename": "FileNotFoundError",
          "evalue": "[Errno 2] No such file or directory: 'Tourist_Travel_Europe.csv'",
          "output_type": "error",
          "traceback": [
            "\u001b[1;31m---------------------------------------------------------------------------\u001b[0m",
            "\u001b[1;31mFileNotFoundError\u001b[0m                         Traceback (most recent call last)",
            "Cell \u001b[1;32mIn[25], line 4\u001b[0m\n\u001b[0;32m      1\u001b[0m \u001b[38;5;28;01mimport\u001b[39;00m\u001b[38;5;250m \u001b[39m\u001b[38;5;21;01mpandas\u001b[39;00m\u001b[38;5;250m \u001b[39m\u001b[38;5;28;01mas\u001b[39;00m\u001b[38;5;250m \u001b[39m\u001b[38;5;21;01mpd\u001b[39;00m\n\u001b[0;32m      3\u001b[0m \u001b[38;5;66;03m# Load the dataset\u001b[39;00m\n\u001b[1;32m----> 4\u001b[0m df \u001b[38;5;241m=\u001b[39m \u001b[43mpd\u001b[49m\u001b[38;5;241;43m.\u001b[39;49m\u001b[43mread_csv\u001b[49m\u001b[43m(\u001b[49m\u001b[38;5;124;43m'\u001b[39;49m\u001b[38;5;124;43mTourist_Travel_Europe.csv\u001b[39;49m\u001b[38;5;124;43m'\u001b[39;49m\u001b[43m)\u001b[49m\n\u001b[0;32m      6\u001b[0m \u001b[38;5;66;03m# Display basic info\u001b[39;00m\n\u001b[0;32m      7\u001b[0m df\u001b[38;5;241m.\u001b[39minfo()\n",
            "File \u001b[1;32mc:\\Users\\mukti\\Desktop\\codeInstitute\\Project2\\Hackathon2-Team-3\\.venv\\Lib\\site-packages\\pandas\\io\\parsers\\readers.py:948\u001b[0m, in \u001b[0;36mread_csv\u001b[1;34m(filepath_or_buffer, sep, delimiter, header, names, index_col, usecols, dtype, engine, converters, true_values, false_values, skipinitialspace, skiprows, skipfooter, nrows, na_values, keep_default_na, na_filter, verbose, skip_blank_lines, parse_dates, infer_datetime_format, keep_date_col, date_parser, date_format, dayfirst, cache_dates, iterator, chunksize, compression, thousands, decimal, lineterminator, quotechar, quoting, doublequote, escapechar, comment, encoding, encoding_errors, dialect, on_bad_lines, delim_whitespace, low_memory, memory_map, float_precision, storage_options, dtype_backend)\u001b[0m\n\u001b[0;32m    935\u001b[0m kwds_defaults \u001b[38;5;241m=\u001b[39m _refine_defaults_read(\n\u001b[0;32m    936\u001b[0m     dialect,\n\u001b[0;32m    937\u001b[0m     delimiter,\n\u001b[1;32m   (...)\u001b[0m\n\u001b[0;32m    944\u001b[0m     dtype_backend\u001b[38;5;241m=\u001b[39mdtype_backend,\n\u001b[0;32m    945\u001b[0m )\n\u001b[0;32m    946\u001b[0m kwds\u001b[38;5;241m.\u001b[39mupdate(kwds_defaults)\n\u001b[1;32m--> 948\u001b[0m \u001b[38;5;28;01mreturn\u001b[39;00m \u001b[43m_read\u001b[49m\u001b[43m(\u001b[49m\u001b[43mfilepath_or_buffer\u001b[49m\u001b[43m,\u001b[49m\u001b[43m \u001b[49m\u001b[43mkwds\u001b[49m\u001b[43m)\u001b[49m\n",
            "File \u001b[1;32mc:\\Users\\mukti\\Desktop\\codeInstitute\\Project2\\Hackathon2-Team-3\\.venv\\Lib\\site-packages\\pandas\\io\\parsers\\readers.py:611\u001b[0m, in \u001b[0;36m_read\u001b[1;34m(filepath_or_buffer, kwds)\u001b[0m\n\u001b[0;32m    608\u001b[0m _validate_names(kwds\u001b[38;5;241m.\u001b[39mget(\u001b[38;5;124m\"\u001b[39m\u001b[38;5;124mnames\u001b[39m\u001b[38;5;124m\"\u001b[39m, \u001b[38;5;28;01mNone\u001b[39;00m))\n\u001b[0;32m    610\u001b[0m \u001b[38;5;66;03m# Create the parser.\u001b[39;00m\n\u001b[1;32m--> 611\u001b[0m parser \u001b[38;5;241m=\u001b[39m \u001b[43mTextFileReader\u001b[49m\u001b[43m(\u001b[49m\u001b[43mfilepath_or_buffer\u001b[49m\u001b[43m,\u001b[49m\u001b[43m \u001b[49m\u001b[38;5;241;43m*\u001b[39;49m\u001b[38;5;241;43m*\u001b[39;49m\u001b[43mkwds\u001b[49m\u001b[43m)\u001b[49m\n\u001b[0;32m    613\u001b[0m \u001b[38;5;28;01mif\u001b[39;00m chunksize \u001b[38;5;129;01mor\u001b[39;00m iterator:\n\u001b[0;32m    614\u001b[0m     \u001b[38;5;28;01mreturn\u001b[39;00m parser\n",
            "File \u001b[1;32mc:\\Users\\mukti\\Desktop\\codeInstitute\\Project2\\Hackathon2-Team-3\\.venv\\Lib\\site-packages\\pandas\\io\\parsers\\readers.py:1448\u001b[0m, in \u001b[0;36mTextFileReader.__init__\u001b[1;34m(self, f, engine, **kwds)\u001b[0m\n\u001b[0;32m   1445\u001b[0m     \u001b[38;5;28mself\u001b[39m\u001b[38;5;241m.\u001b[39moptions[\u001b[38;5;124m\"\u001b[39m\u001b[38;5;124mhas_index_names\u001b[39m\u001b[38;5;124m\"\u001b[39m] \u001b[38;5;241m=\u001b[39m kwds[\u001b[38;5;124m\"\u001b[39m\u001b[38;5;124mhas_index_names\u001b[39m\u001b[38;5;124m\"\u001b[39m]\n\u001b[0;32m   1447\u001b[0m \u001b[38;5;28mself\u001b[39m\u001b[38;5;241m.\u001b[39mhandles: IOHandles \u001b[38;5;241m|\u001b[39m \u001b[38;5;28;01mNone\u001b[39;00m \u001b[38;5;241m=\u001b[39m \u001b[38;5;28;01mNone\u001b[39;00m\n\u001b[1;32m-> 1448\u001b[0m \u001b[38;5;28mself\u001b[39m\u001b[38;5;241m.\u001b[39m_engine \u001b[38;5;241m=\u001b[39m \u001b[38;5;28;43mself\u001b[39;49m\u001b[38;5;241;43m.\u001b[39;49m\u001b[43m_make_engine\u001b[49m\u001b[43m(\u001b[49m\u001b[43mf\u001b[49m\u001b[43m,\u001b[49m\u001b[43m \u001b[49m\u001b[38;5;28;43mself\u001b[39;49m\u001b[38;5;241;43m.\u001b[39;49m\u001b[43mengine\u001b[49m\u001b[43m)\u001b[49m\n",
            "File \u001b[1;32mc:\\Users\\mukti\\Desktop\\codeInstitute\\Project2\\Hackathon2-Team-3\\.venv\\Lib\\site-packages\\pandas\\io\\parsers\\readers.py:1705\u001b[0m, in \u001b[0;36mTextFileReader._make_engine\u001b[1;34m(self, f, engine)\u001b[0m\n\u001b[0;32m   1703\u001b[0m     \u001b[38;5;28;01mif\u001b[39;00m \u001b[38;5;124m\"\u001b[39m\u001b[38;5;124mb\u001b[39m\u001b[38;5;124m\"\u001b[39m \u001b[38;5;129;01mnot\u001b[39;00m \u001b[38;5;129;01min\u001b[39;00m mode:\n\u001b[0;32m   1704\u001b[0m         mode \u001b[38;5;241m+\u001b[39m\u001b[38;5;241m=\u001b[39m \u001b[38;5;124m\"\u001b[39m\u001b[38;5;124mb\u001b[39m\u001b[38;5;124m\"\u001b[39m\n\u001b[1;32m-> 1705\u001b[0m \u001b[38;5;28mself\u001b[39m\u001b[38;5;241m.\u001b[39mhandles \u001b[38;5;241m=\u001b[39m \u001b[43mget_handle\u001b[49m\u001b[43m(\u001b[49m\n\u001b[0;32m   1706\u001b[0m \u001b[43m    \u001b[49m\u001b[43mf\u001b[49m\u001b[43m,\u001b[49m\n\u001b[0;32m   1707\u001b[0m \u001b[43m    \u001b[49m\u001b[43mmode\u001b[49m\u001b[43m,\u001b[49m\n\u001b[0;32m   1708\u001b[0m \u001b[43m    \u001b[49m\u001b[43mencoding\u001b[49m\u001b[38;5;241;43m=\u001b[39;49m\u001b[38;5;28;43mself\u001b[39;49m\u001b[38;5;241;43m.\u001b[39;49m\u001b[43moptions\u001b[49m\u001b[38;5;241;43m.\u001b[39;49m\u001b[43mget\u001b[49m\u001b[43m(\u001b[49m\u001b[38;5;124;43m\"\u001b[39;49m\u001b[38;5;124;43mencoding\u001b[39;49m\u001b[38;5;124;43m\"\u001b[39;49m\u001b[43m,\u001b[49m\u001b[43m \u001b[49m\u001b[38;5;28;43;01mNone\u001b[39;49;00m\u001b[43m)\u001b[49m\u001b[43m,\u001b[49m\n\u001b[0;32m   1709\u001b[0m \u001b[43m    \u001b[49m\u001b[43mcompression\u001b[49m\u001b[38;5;241;43m=\u001b[39;49m\u001b[38;5;28;43mself\u001b[39;49m\u001b[38;5;241;43m.\u001b[39;49m\u001b[43moptions\u001b[49m\u001b[38;5;241;43m.\u001b[39;49m\u001b[43mget\u001b[49m\u001b[43m(\u001b[49m\u001b[38;5;124;43m\"\u001b[39;49m\u001b[38;5;124;43mcompression\u001b[39;49m\u001b[38;5;124;43m\"\u001b[39;49m\u001b[43m,\u001b[49m\u001b[43m \u001b[49m\u001b[38;5;28;43;01mNone\u001b[39;49;00m\u001b[43m)\u001b[49m\u001b[43m,\u001b[49m\n\u001b[0;32m   1710\u001b[0m \u001b[43m    \u001b[49m\u001b[43mmemory_map\u001b[49m\u001b[38;5;241;43m=\u001b[39;49m\u001b[38;5;28;43mself\u001b[39;49m\u001b[38;5;241;43m.\u001b[39;49m\u001b[43moptions\u001b[49m\u001b[38;5;241;43m.\u001b[39;49m\u001b[43mget\u001b[49m\u001b[43m(\u001b[49m\u001b[38;5;124;43m\"\u001b[39;49m\u001b[38;5;124;43mmemory_map\u001b[39;49m\u001b[38;5;124;43m\"\u001b[39;49m\u001b[43m,\u001b[49m\u001b[43m \u001b[49m\u001b[38;5;28;43;01mFalse\u001b[39;49;00m\u001b[43m)\u001b[49m\u001b[43m,\u001b[49m\n\u001b[0;32m   1711\u001b[0m \u001b[43m    \u001b[49m\u001b[43mis_text\u001b[49m\u001b[38;5;241;43m=\u001b[39;49m\u001b[43mis_text\u001b[49m\u001b[43m,\u001b[49m\n\u001b[0;32m   1712\u001b[0m \u001b[43m    \u001b[49m\u001b[43merrors\u001b[49m\u001b[38;5;241;43m=\u001b[39;49m\u001b[38;5;28;43mself\u001b[39;49m\u001b[38;5;241;43m.\u001b[39;49m\u001b[43moptions\u001b[49m\u001b[38;5;241;43m.\u001b[39;49m\u001b[43mget\u001b[49m\u001b[43m(\u001b[49m\u001b[38;5;124;43m\"\u001b[39;49m\u001b[38;5;124;43mencoding_errors\u001b[39;49m\u001b[38;5;124;43m\"\u001b[39;49m\u001b[43m,\u001b[49m\u001b[43m \u001b[49m\u001b[38;5;124;43m\"\u001b[39;49m\u001b[38;5;124;43mstrict\u001b[39;49m\u001b[38;5;124;43m\"\u001b[39;49m\u001b[43m)\u001b[49m\u001b[43m,\u001b[49m\n\u001b[0;32m   1713\u001b[0m \u001b[43m    \u001b[49m\u001b[43mstorage_options\u001b[49m\u001b[38;5;241;43m=\u001b[39;49m\u001b[38;5;28;43mself\u001b[39;49m\u001b[38;5;241;43m.\u001b[39;49m\u001b[43moptions\u001b[49m\u001b[38;5;241;43m.\u001b[39;49m\u001b[43mget\u001b[49m\u001b[43m(\u001b[49m\u001b[38;5;124;43m\"\u001b[39;49m\u001b[38;5;124;43mstorage_options\u001b[39;49m\u001b[38;5;124;43m\"\u001b[39;49m\u001b[43m,\u001b[49m\u001b[43m \u001b[49m\u001b[38;5;28;43;01mNone\u001b[39;49;00m\u001b[43m)\u001b[49m\u001b[43m,\u001b[49m\n\u001b[0;32m   1714\u001b[0m \u001b[43m\u001b[49m\u001b[43m)\u001b[49m\n\u001b[0;32m   1715\u001b[0m \u001b[38;5;28;01massert\u001b[39;00m \u001b[38;5;28mself\u001b[39m\u001b[38;5;241m.\u001b[39mhandles \u001b[38;5;129;01mis\u001b[39;00m \u001b[38;5;129;01mnot\u001b[39;00m \u001b[38;5;28;01mNone\u001b[39;00m\n\u001b[0;32m   1716\u001b[0m f \u001b[38;5;241m=\u001b[39m \u001b[38;5;28mself\u001b[39m\u001b[38;5;241m.\u001b[39mhandles\u001b[38;5;241m.\u001b[39mhandle\n",
            "File \u001b[1;32mc:\\Users\\mukti\\Desktop\\codeInstitute\\Project2\\Hackathon2-Team-3\\.venv\\Lib\\site-packages\\pandas\\io\\common.py:863\u001b[0m, in \u001b[0;36mget_handle\u001b[1;34m(path_or_buf, mode, encoding, compression, memory_map, is_text, errors, storage_options)\u001b[0m\n\u001b[0;32m    858\u001b[0m \u001b[38;5;28;01melif\u001b[39;00m \u001b[38;5;28misinstance\u001b[39m(handle, \u001b[38;5;28mstr\u001b[39m):\n\u001b[0;32m    859\u001b[0m     \u001b[38;5;66;03m# Check whether the filename is to be opened in binary mode.\u001b[39;00m\n\u001b[0;32m    860\u001b[0m     \u001b[38;5;66;03m# Binary mode does not support 'encoding' and 'newline'.\u001b[39;00m\n\u001b[0;32m    861\u001b[0m     \u001b[38;5;28;01mif\u001b[39;00m ioargs\u001b[38;5;241m.\u001b[39mencoding \u001b[38;5;129;01mand\u001b[39;00m \u001b[38;5;124m\"\u001b[39m\u001b[38;5;124mb\u001b[39m\u001b[38;5;124m\"\u001b[39m \u001b[38;5;129;01mnot\u001b[39;00m \u001b[38;5;129;01min\u001b[39;00m ioargs\u001b[38;5;241m.\u001b[39mmode:\n\u001b[0;32m    862\u001b[0m         \u001b[38;5;66;03m# Encoding\u001b[39;00m\n\u001b[1;32m--> 863\u001b[0m         handle \u001b[38;5;241m=\u001b[39m \u001b[38;5;28;43mopen\u001b[39;49m\u001b[43m(\u001b[49m\n\u001b[0;32m    864\u001b[0m \u001b[43m            \u001b[49m\u001b[43mhandle\u001b[49m\u001b[43m,\u001b[49m\n\u001b[0;32m    865\u001b[0m \u001b[43m            \u001b[49m\u001b[43mioargs\u001b[49m\u001b[38;5;241;43m.\u001b[39;49m\u001b[43mmode\u001b[49m\u001b[43m,\u001b[49m\n\u001b[0;32m    866\u001b[0m \u001b[43m            \u001b[49m\u001b[43mencoding\u001b[49m\u001b[38;5;241;43m=\u001b[39;49m\u001b[43mioargs\u001b[49m\u001b[38;5;241;43m.\u001b[39;49m\u001b[43mencoding\u001b[49m\u001b[43m,\u001b[49m\n\u001b[0;32m    867\u001b[0m \u001b[43m            \u001b[49m\u001b[43merrors\u001b[49m\u001b[38;5;241;43m=\u001b[39;49m\u001b[43merrors\u001b[49m\u001b[43m,\u001b[49m\n\u001b[0;32m    868\u001b[0m \u001b[43m            \u001b[49m\u001b[43mnewline\u001b[49m\u001b[38;5;241;43m=\u001b[39;49m\u001b[38;5;124;43m\"\u001b[39;49m\u001b[38;5;124;43m\"\u001b[39;49m\u001b[43m,\u001b[49m\n\u001b[0;32m    869\u001b[0m \u001b[43m        \u001b[49m\u001b[43m)\u001b[49m\n\u001b[0;32m    870\u001b[0m     \u001b[38;5;28;01melse\u001b[39;00m:\n\u001b[0;32m    871\u001b[0m         \u001b[38;5;66;03m# Binary mode\u001b[39;00m\n\u001b[0;32m    872\u001b[0m         handle \u001b[38;5;241m=\u001b[39m \u001b[38;5;28mopen\u001b[39m(handle, ioargs\u001b[38;5;241m.\u001b[39mmode)\n",
            "\u001b[1;31mFileNotFoundError\u001b[0m: [Errno 2] No such file or directory: 'Tourist_Travel_Europe.csv'"
          ]
        }
      ],
      "source": [
        "\n",
        "import pandas as pd\n",
        "\n",
        "# Load the dataset\n",
        "df = pd.read_csv('Tourist_Travel_Europe.csv')\n",
        "\n",
        "# Display basic info\n",
        "df.info()\n",
        "df.head()"
      ]
    },
    {
      "cell_type": "markdown",
      "metadata": {},
      "source": [
        "## Check for Missing Values "
      ]
    },
    {
      "cell_type": "code",
      "execution_count": null,
      "metadata": {},
      "outputs": [
        {
          "data": {
            "text/plain": [
              "Tourist_ID              0\n",
              "Country_Visited         0\n",
              "City_Visited            0\n",
              "Mode_of_Travel          0\n",
              "Travel_Duration_Days    0\n",
              "Number_of_Companions    0\n",
              "Total_Travel_Cost       0\n",
              "Accommodation_Type      0\n",
              "Main_Purpose            0\n",
              "Season_of_Visit         0\n",
              "dtype: int64"
            ]
          },
          "execution_count": 5,
          "metadata": {},
          "output_type": "execute_result"
        }
      ],
      "source": [
        "# Check for missing values\n",
        "df.isnull().sum()"
      ]
    },
    {
      "cell_type": "markdown",
      "metadata": {},
      "source": [
        "## Check for Duplicates "
      ]
    },
    {
      "cell_type": "code",
      "execution_count": null,
      "metadata": {},
      "outputs": [
        {
          "data": {
            "text/plain": [
              "0      False\n",
              "1      False\n",
              "2      False\n",
              "3      False\n",
              "4      False\n",
              "       ...  \n",
              "995    False\n",
              "996    False\n",
              "997    False\n",
              "998    False\n",
              "999    False\n",
              "Length: 1000, dtype: bool"
            ]
          },
          "execution_count": 6,
          "metadata": {},
          "output_type": "execute_result"
        }
      ],
      "source": [
        "# Check for duplicates\n",
        "df.duplicated()"
      ]
    },
    {
      "cell_type": "markdown",
      "metadata": {},
      "source": [
        "## Check for Negative Values "
      ]
    },
    {
      "cell_type": "code",
      "execution_count": null,
      "metadata": {},
      "outputs": [
        {
          "name": "stdout",
          "output_type": "stream",
          "text": [
            "Empty DataFrame\n",
            "Columns: [Tourist_ID, Travel_Duration_Days, Number_of_Companions, Total_Travel_Cost]\n",
            "Index: []\n"
          ]
        }
      ],
      "source": [
        "# Check for negative values\n",
        "negative_values = df.select_dtypes(include=['number'])[df.select_dtypes(include=['number']) < 0].dropna(how='all')\n",
        "print(negative_values)"
      ]
    },
    {
      "cell_type": "markdown",
      "metadata": {},
      "source": [
        "## Check for Unique Values"
      ]
    },
    {
      "cell_type": "code",
      "execution_count": null,
      "metadata": {},
      "outputs": [
        {
          "name": "stdout",
          "output_type": "stream",
          "text": [
            "Unique values in 'Country_Visited':\n",
            "['Germany' 'UK' 'Greece' 'Portugal' 'Spain' 'Austria' 'Italy'\n",
            " 'Netherlands' 'France' 'Switzerland']\n",
            "Unique values in 'City_Visited':\n",
            "['Hamburg' 'Berlin' 'Manchester' 'Thessaloniki' 'Athens' 'Lisbon' 'Faro'\n",
            " 'Madrid' 'Salzburg' 'London' 'Rome' 'Utrecht' 'Paris' 'Lucerne' 'Porto'\n",
            " 'Lyon' 'Edinburgh' 'Seville' 'Rotterdam' 'Vienna' 'Santorini' 'Innsbruck'\n",
            " 'Barcelona' 'Zurich' 'Nice' 'Geneva' 'Amsterdam' 'Venice' 'Milan'\n",
            " 'Munich']\n",
            "Unique values in 'Mode_of_Travel':\n",
            "['Flight' 'Car' 'Bicycle' 'Bus' 'Train']\n",
            "Unique values in 'Accommodation_Type':\n",
            "['Hotel' 'Hostel' 'Camping' 'Airbnb']\n",
            "Unique values in 'Main_Purpose':\n",
            "['Family Visit' 'Business' 'Leisure']\n",
            "Unique values in 'Season_of_Visit':\n",
            "['Summer' 'Winter' 'Spring' 'Fall']\n"
          ]
        }
      ],
      "source": [
        "# Checking for unique values in categorical columns in case of duplicates due to typos\n",
        "for col in df.select_dtypes(include=['object']).columns:\n",
        "    print(f\"Unique values in '{col}':\")\n",
        "    print(df[col].unique())"
      ]
    },
    {
      "cell_type": "markdown",
      "metadata": {},
      "source": [
        "## Section 2: Exploratory Data Analysis (EDA)"
      ]
    },
    {
      "cell_type": "markdown",
      "metadata": {},
      "source": [
        "Data Visualisation for EuroTrip Insights\n",
        "\n",
        "Outliers exist in travel-related numerical variables (e.g., total travel cost, travel duration, number of companions), indicating extreme variations in travel behaviors."
      ]
    },
    {
      "cell_type": "code",
      "execution_count": null,
      "metadata": {},
      "outputs": [],
      "source": [
        "import numpy as np\n",
        "import pandas as pd"
      ]
    },
    {
      "cell_type": "code",
      "execution_count": null,
      "metadata": {},
      "outputs": [
        {
          "data": {
            "application/vnd.plotly.v1+json": {
              "config": {
                "plotlyServerURL": "https://plot.ly"
              },
              "data": [
                {
                  "alignmentgroup": "True",
                  "hovertemplate": "Tourist_ID=%{y}<extra></extra>",
                  "legendgroup": "",
                  "marker": {
                    "color": "#636efa"
                  },
                  "name": "",
                  "notched": false,
                  "offsetgroup": "",
                  "orientation": "v",
                  "showlegend": false,
                  "type": "box",
                  "x0": " ",
                  "xaxis": "x",
                  "y": [
                    1,
                    2,
                    3,
                    4,
                    5,
                    6,
                    7,
                    8,
                    9,
                    10,
                    11,
                    12,
                    13,
                    14,
                    15,
                    16,
                    17,
                    18,
                    19,
                    20,
                    21,
                    22,
                    23,
                    24,
                    25,
                    26,
                    27,
                    28,
                    29,
                    30,
                    31,
                    32,
                    33,
                    34,
                    35,
                    36,
                    37,
                    38,
                    39,
                    40,
                    41,
                    42,
                    43,
                    44,
                    45,
                    46,
                    47,
                    48,
                    49,
                    50,
                    51,
                    52,
                    53,
                    54,
                    55,
                    56,
                    57,
                    58,
                    59,
                    60,
                    61,
                    62,
                    63,
                    64,
                    65,
                    66,
                    67,
                    68,
                    69,
                    70,
                    71,
                    72,
                    73,
                    74,
                    75,
                    76,
                    77,
                    78,
                    79,
                    80,
                    81,
                    82,
                    83,
                    84,
                    85,
                    86,
                    87,
                    88,
                    89,
                    90,
                    91,
                    92,
                    93,
                    94,
                    95,
                    96,
                    97,
                    98,
                    99,
                    100,
                    101,
                    102,
                    103,
                    104,
                    105,
                    106,
                    107,
                    108,
                    109,
                    110,
                    111,
                    112,
                    113,
                    114,
                    115,
                    116,
                    117,
                    118,
                    119,
                    120,
                    121,
                    122,
                    123,
                    124,
                    125,
                    126,
                    127,
                    128,
                    129,
                    130,
                    131,
                    132,
                    133,
                    134,
                    135,
                    136,
                    137,
                    138,
                    139,
                    140,
                    141,
                    142,
                    143,
                    144,
                    145,
                    146,
                    147,
                    148,
                    149,
                    150,
                    151,
                    152,
                    153,
                    154,
                    155,
                    156,
                    157,
                    158,
                    159,
                    160,
                    161,
                    162,
                    163,
                    164,
                    165,
                    166,
                    167,
                    168,
                    169,
                    170,
                    171,
                    172,
                    173,
                    174,
                    175,
                    176,
                    177,
                    178,
                    179,
                    180,
                    181,
                    182,
                    183,
                    184,
                    185,
                    186,
                    187,
                    188,
                    189,
                    190,
                    191,
                    192,
                    193,
                    194,
                    195,
                    196,
                    197,
                    198,
                    199,
                    200,
                    201,
                    202,
                    203,
                    204,
                    205,
                    206,
                    207,
                    208,
                    209,
                    210,
                    211,
                    212,
                    213,
                    214,
                    215,
                    216,
                    217,
                    218,
                    219,
                    220,
                    221,
                    222,
                    223,
                    224,
                    225,
                    226,
                    227,
                    228,
                    229,
                    230,
                    231,
                    232,
                    233,
                    234,
                    235,
                    236,
                    237,
                    238,
                    239,
                    240,
                    241,
                    242,
                    243,
                    244,
                    245,
                    246,
                    247,
                    248,
                    249,
                    250,
                    251,
                    252,
                    253,
                    254,
                    255,
                    256,
                    257,
                    258,
                    259,
                    260,
                    261,
                    262,
                    263,
                    264,
                    265,
                    266,
                    267,
                    268,
                    269,
                    270,
                    271,
                    272,
                    273,
                    274,
                    275,
                    276,
                    277,
                    278,
                    279,
                    280,
                    281,
                    282,
                    283,
                    284,
                    285,
                    286,
                    287,
                    288,
                    289,
                    290,
                    291,
                    292,
                    293,
                    294,
                    295,
                    296,
                    297,
                    298,
                    299,
                    300,
                    301,
                    302,
                    303,
                    304,
                    305,
                    306,
                    307,
                    308,
                    309,
                    310,
                    311,
                    312,
                    313,
                    314,
                    315,
                    316,
                    317,
                    318,
                    319,
                    320,
                    321,
                    322,
                    323,
                    324,
                    325,
                    326,
                    327,
                    328,
                    329,
                    330,
                    331,
                    332,
                    333,
                    334,
                    335,
                    336,
                    337,
                    338,
                    339,
                    340,
                    341,
                    342,
                    343,
                    344,
                    345,
                    346,
                    347,
                    348,
                    349,
                    350,
                    351,
                    352,
                    353,
                    354,
                    355,
                    356,
                    357,
                    358,
                    359,
                    360,
                    361,
                    362,
                    363,
                    364,
                    365,
                    366,
                    367,
                    368,
                    369,
                    370,
                    371,
                    372,
                    373,
                    374,
                    375,
                    376,
                    377,
                    378,
                    379,
                    380,
                    381,
                    382,
                    383,
                    384,
                    385,
                    386,
                    387,
                    388,
                    389,
                    390,
                    391,
                    392,
                    393,
                    394,
                    395,
                    396,
                    397,
                    398,
                    399,
                    400,
                    401,
                    402,
                    403,
                    404,
                    405,
                    406,
                    407,
                    408,
                    409,
                    410,
                    411,
                    412,
                    413,
                    414,
                    415,
                    416,
                    417,
                    418,
                    419,
                    420,
                    421,
                    422,
                    423,
                    424,
                    425,
                    426,
                    427,
                    428,
                    429,
                    430,
                    431,
                    432,
                    433,
                    434,
                    435,
                    436,
                    437,
                    438,
                    439,
                    440,
                    441,
                    442,
                    443,
                    444,
                    445,
                    446,
                    447,
                    448,
                    449,
                    450,
                    451,
                    452,
                    453,
                    454,
                    455,
                    456,
                    457,
                    458,
                    459,
                    460,
                    461,
                    462,
                    463,
                    464,
                    465,
                    466,
                    467,
                    468,
                    469,
                    470,
                    471,
                    472,
                    473,
                    474,
                    475,
                    476,
                    477,
                    478,
                    479,
                    480,
                    481,
                    482,
                    483,
                    484,
                    485,
                    486,
                    487,
                    488,
                    489,
                    490,
                    491,
                    492,
                    493,
                    494,
                    495,
                    496,
                    497,
                    498,
                    499,
                    500,
                    501,
                    502,
                    503,
                    504,
                    505,
                    506,
                    507,
                    508,
                    509,
                    510,
                    511,
                    512,
                    513,
                    514,
                    515,
                    516,
                    517,
                    518,
                    519,
                    520,
                    521,
                    522,
                    523,
                    524,
                    525,
                    526,
                    527,
                    528,
                    529,
                    530,
                    531,
                    532,
                    533,
                    534,
                    535,
                    536,
                    537,
                    538,
                    539,
                    540,
                    541,
                    542,
                    543,
                    544,
                    545,
                    546,
                    547,
                    548,
                    549,
                    550,
                    551,
                    552,
                    553,
                    554,
                    555,
                    556,
                    557,
                    558,
                    559,
                    560,
                    561,
                    562,
                    563,
                    564,
                    565,
                    566,
                    567,
                    568,
                    569,
                    570,
                    571,
                    572,
                    573,
                    574,
                    575,
                    576,
                    577,
                    578,
                    579,
                    580,
                    581,
                    582,
                    583,
                    584,
                    585,
                    586,
                    587,
                    588,
                    589,
                    590,
                    591,
                    592,
                    593,
                    594,
                    595,
                    596,
                    597,
                    598,
                    599,
                    600,
                    601,
                    602,
                    603,
                    604,
                    605,
                    606,
                    607,
                    608,
                    609,
                    610,
                    611,
                    612,
                    613,
                    614,
                    615,
                    616,
                    617,
                    618,
                    619,
                    620,
                    621,
                    622,
                    623,
                    624,
                    625,
                    626,
                    627,
                    628,
                    629,
                    630,
                    631,
                    632,
                    633,
                    634,
                    635,
                    636,
                    637,
                    638,
                    639,
                    640,
                    641,
                    642,
                    643,
                    644,
                    645,
                    646,
                    647,
                    648,
                    649,
                    650,
                    651,
                    652,
                    653,
                    654,
                    655,
                    656,
                    657,
                    658,
                    659,
                    660,
                    661,
                    662,
                    663,
                    664,
                    665,
                    666,
                    667,
                    668,
                    669,
                    670,
                    671,
                    672,
                    673,
                    674,
                    675,
                    676,
                    677,
                    678,
                    679,
                    680,
                    681,
                    682,
                    683,
                    684,
                    685,
                    686,
                    687,
                    688,
                    689,
                    690,
                    691,
                    692,
                    693,
                    694,
                    695,
                    696,
                    697,
                    698,
                    699,
                    700,
                    701,
                    702,
                    703,
                    704,
                    705,
                    706,
                    707,
                    708,
                    709,
                    710,
                    711,
                    712,
                    713,
                    714,
                    715,
                    716,
                    717,
                    718,
                    719,
                    720,
                    721,
                    722,
                    723,
                    724,
                    725,
                    726,
                    727,
                    728,
                    729,
                    730,
                    731,
                    732,
                    733,
                    734,
                    735,
                    736,
                    737,
                    738,
                    739,
                    740,
                    741,
                    742,
                    743,
                    744,
                    745,
                    746,
                    747,
                    748,
                    749,
                    750,
                    751,
                    752,
                    753,
                    754,
                    755,
                    756,
                    757,
                    758,
                    759,
                    760,
                    761,
                    762,
                    763,
                    764,
                    765,
                    766,
                    767,
                    768,
                    769,
                    770,
                    771,
                    772,
                    773,
                    774,
                    775,
                    776,
                    777,
                    778,
                    779,
                    780,
                    781,
                    782,
                    783,
                    784,
                    785,
                    786,
                    787,
                    788,
                    789,
                    790,
                    791,
                    792,
                    793,
                    794,
                    795,
                    796,
                    797,
                    798,
                    799,
                    800,
                    801,
                    802,
                    803,
                    804,
                    805,
                    806,
                    807,
                    808,
                    809,
                    810,
                    811,
                    812,
                    813,
                    814,
                    815,
                    816,
                    817,
                    818,
                    819,
                    820,
                    821,
                    822,
                    823,
                    824,
                    825,
                    826,
                    827,
                    828,
                    829,
                    830,
                    831,
                    832,
                    833,
                    834,
                    835,
                    836,
                    837,
                    838,
                    839,
                    840,
                    841,
                    842,
                    843,
                    844,
                    845,
                    846,
                    847,
                    848,
                    849,
                    850,
                    851,
                    852,
                    853,
                    854,
                    855,
                    856,
                    857,
                    858,
                    859,
                    860,
                    861,
                    862,
                    863,
                    864,
                    865,
                    866,
                    867,
                    868,
                    869,
                    870,
                    871,
                    872,
                    873,
                    874,
                    875,
                    876,
                    877,
                    878,
                    879,
                    880,
                    881,
                    882,
                    883,
                    884,
                    885,
                    886,
                    887,
                    888,
                    889,
                    890,
                    891,
                    892,
                    893,
                    894,
                    895,
                    896,
                    897,
                    898,
                    899,
                    900,
                    901,
                    902,
                    903,
                    904,
                    905,
                    906,
                    907,
                    908,
                    909,
                    910,
                    911,
                    912,
                    913,
                    914,
                    915,
                    916,
                    917,
                    918,
                    919,
                    920,
                    921,
                    922,
                    923,
                    924,
                    925,
                    926,
                    927,
                    928,
                    929,
                    930,
                    931,
                    932,
                    933,
                    934,
                    935,
                    936,
                    937,
                    938,
                    939,
                    940,
                    941,
                    942,
                    943,
                    944,
                    945,
                    946,
                    947,
                    948,
                    949,
                    950,
                    951,
                    952,
                    953,
                    954,
                    955,
                    956,
                    957,
                    958,
                    959,
                    960,
                    961,
                    962,
                    963,
                    964,
                    965,
                    966,
                    967,
                    968,
                    969,
                    970,
                    971,
                    972,
                    973,
                    974,
                    975,
                    976,
                    977,
                    978,
                    979,
                    980,
                    981,
                    982,
                    983,
                    984,
                    985,
                    986,
                    987,
                    988,
                    989,
                    990,
                    991,
                    992,
                    993,
                    994,
                    995,
                    996,
                    997,
                    998,
                    999,
                    1000
                  ],
                  "y0": " ",
                  "yaxis": "y"
                }
              ],
              "layout": {
                "boxmode": "group",
                "legend": {
                  "tracegroupgap": 0
                },
                "template": {
                  "data": {
                    "bar": [
                      {
                        "error_x": {
                          "color": "#2a3f5f"
                        },
                        "error_y": {
                          "color": "#2a3f5f"
                        },
                        "marker": {
                          "line": {
                            "color": "#E5ECF6",
                            "width": 0.5
                          },
                          "pattern": {
                            "fillmode": "overlay",
                            "size": 10,
                            "solidity": 0.2
                          }
                        },
                        "type": "bar"
                      }
                    ],
                    "barpolar": [
                      {
                        "marker": {
                          "line": {
                            "color": "#E5ECF6",
                            "width": 0.5
                          },
                          "pattern": {
                            "fillmode": "overlay",
                            "size": 10,
                            "solidity": 0.2
                          }
                        },
                        "type": "barpolar"
                      }
                    ],
                    "carpet": [
                      {
                        "aaxis": {
                          "endlinecolor": "#2a3f5f",
                          "gridcolor": "white",
                          "linecolor": "white",
                          "minorgridcolor": "white",
                          "startlinecolor": "#2a3f5f"
                        },
                        "baxis": {
                          "endlinecolor": "#2a3f5f",
                          "gridcolor": "white",
                          "linecolor": "white",
                          "minorgridcolor": "white",
                          "startlinecolor": "#2a3f5f"
                        },
                        "type": "carpet"
                      }
                    ],
                    "choropleth": [
                      {
                        "colorbar": {
                          "outlinewidth": 0,
                          "ticks": ""
                        },
                        "type": "choropleth"
                      }
                    ],
                    "contour": [
                      {
                        "colorbar": {
                          "outlinewidth": 0,
                          "ticks": ""
                        },
                        "colorscale": [
                          [
                            0,
                            "#0d0887"
                          ],
                          [
                            0.1111111111111111,
                            "#46039f"
                          ],
                          [
                            0.2222222222222222,
                            "#7201a8"
                          ],
                          [
                            0.3333333333333333,
                            "#9c179e"
                          ],
                          [
                            0.4444444444444444,
                            "#bd3786"
                          ],
                          [
                            0.5555555555555556,
                            "#d8576b"
                          ],
                          [
                            0.6666666666666666,
                            "#ed7953"
                          ],
                          [
                            0.7777777777777778,
                            "#fb9f3a"
                          ],
                          [
                            0.8888888888888888,
                            "#fdca26"
                          ],
                          [
                            1,
                            "#f0f921"
                          ]
                        ],
                        "type": "contour"
                      }
                    ],
                    "contourcarpet": [
                      {
                        "colorbar": {
                          "outlinewidth": 0,
                          "ticks": ""
                        },
                        "type": "contourcarpet"
                      }
                    ],
                    "heatmap": [
                      {
                        "colorbar": {
                          "outlinewidth": 0,
                          "ticks": ""
                        },
                        "colorscale": [
                          [
                            0,
                            "#0d0887"
                          ],
                          [
                            0.1111111111111111,
                            "#46039f"
                          ],
                          [
                            0.2222222222222222,
                            "#7201a8"
                          ],
                          [
                            0.3333333333333333,
                            "#9c179e"
                          ],
                          [
                            0.4444444444444444,
                            "#bd3786"
                          ],
                          [
                            0.5555555555555556,
                            "#d8576b"
                          ],
                          [
                            0.6666666666666666,
                            "#ed7953"
                          ],
                          [
                            0.7777777777777778,
                            "#fb9f3a"
                          ],
                          [
                            0.8888888888888888,
                            "#fdca26"
                          ],
                          [
                            1,
                            "#f0f921"
                          ]
                        ],
                        "type": "heatmap"
                      }
                    ],
                    "heatmapgl": [
                      {
                        "colorbar": {
                          "outlinewidth": 0,
                          "ticks": ""
                        },
                        "colorscale": [
                          [
                            0,
                            "#0d0887"
                          ],
                          [
                            0.1111111111111111,
                            "#46039f"
                          ],
                          [
                            0.2222222222222222,
                            "#7201a8"
                          ],
                          [
                            0.3333333333333333,
                            "#9c179e"
                          ],
                          [
                            0.4444444444444444,
                            "#bd3786"
                          ],
                          [
                            0.5555555555555556,
                            "#d8576b"
                          ],
                          [
                            0.6666666666666666,
                            "#ed7953"
                          ],
                          [
                            0.7777777777777778,
                            "#fb9f3a"
                          ],
                          [
                            0.8888888888888888,
                            "#fdca26"
                          ],
                          [
                            1,
                            "#f0f921"
                          ]
                        ],
                        "type": "heatmapgl"
                      }
                    ],
                    "histogram": [
                      {
                        "marker": {
                          "pattern": {
                            "fillmode": "overlay",
                            "size": 10,
                            "solidity": 0.2
                          }
                        },
                        "type": "histogram"
                      }
                    ],
                    "histogram2d": [
                      {
                        "colorbar": {
                          "outlinewidth": 0,
                          "ticks": ""
                        },
                        "colorscale": [
                          [
                            0,
                            "#0d0887"
                          ],
                          [
                            0.1111111111111111,
                            "#46039f"
                          ],
                          [
                            0.2222222222222222,
                            "#7201a8"
                          ],
                          [
                            0.3333333333333333,
                            "#9c179e"
                          ],
                          [
                            0.4444444444444444,
                            "#bd3786"
                          ],
                          [
                            0.5555555555555556,
                            "#d8576b"
                          ],
                          [
                            0.6666666666666666,
                            "#ed7953"
                          ],
                          [
                            0.7777777777777778,
                            "#fb9f3a"
                          ],
                          [
                            0.8888888888888888,
                            "#fdca26"
                          ],
                          [
                            1,
                            "#f0f921"
                          ]
                        ],
                        "type": "histogram2d"
                      }
                    ],
                    "histogram2dcontour": [
                      {
                        "colorbar": {
                          "outlinewidth": 0,
                          "ticks": ""
                        },
                        "colorscale": [
                          [
                            0,
                            "#0d0887"
                          ],
                          [
                            0.1111111111111111,
                            "#46039f"
                          ],
                          [
                            0.2222222222222222,
                            "#7201a8"
                          ],
                          [
                            0.3333333333333333,
                            "#9c179e"
                          ],
                          [
                            0.4444444444444444,
                            "#bd3786"
                          ],
                          [
                            0.5555555555555556,
                            "#d8576b"
                          ],
                          [
                            0.6666666666666666,
                            "#ed7953"
                          ],
                          [
                            0.7777777777777778,
                            "#fb9f3a"
                          ],
                          [
                            0.8888888888888888,
                            "#fdca26"
                          ],
                          [
                            1,
                            "#f0f921"
                          ]
                        ],
                        "type": "histogram2dcontour"
                      }
                    ],
                    "mesh3d": [
                      {
                        "colorbar": {
                          "outlinewidth": 0,
                          "ticks": ""
                        },
                        "type": "mesh3d"
                      }
                    ],
                    "parcoords": [
                      {
                        "line": {
                          "colorbar": {
                            "outlinewidth": 0,
                            "ticks": ""
                          }
                        },
                        "type": "parcoords"
                      }
                    ],
                    "pie": [
                      {
                        "automargin": true,
                        "type": "pie"
                      }
                    ],
                    "scatter": [
                      {
                        "fillpattern": {
                          "fillmode": "overlay",
                          "size": 10,
                          "solidity": 0.2
                        },
                        "type": "scatter"
                      }
                    ],
                    "scatter3d": [
                      {
                        "line": {
                          "colorbar": {
                            "outlinewidth": 0,
                            "ticks": ""
                          }
                        },
                        "marker": {
                          "colorbar": {
                            "outlinewidth": 0,
                            "ticks": ""
                          }
                        },
                        "type": "scatter3d"
                      }
                    ],
                    "scattercarpet": [
                      {
                        "marker": {
                          "colorbar": {
                            "outlinewidth": 0,
                            "ticks": ""
                          }
                        },
                        "type": "scattercarpet"
                      }
                    ],
                    "scattergeo": [
                      {
                        "marker": {
                          "colorbar": {
                            "outlinewidth": 0,
                            "ticks": ""
                          }
                        },
                        "type": "scattergeo"
                      }
                    ],
                    "scattergl": [
                      {
                        "marker": {
                          "colorbar": {
                            "outlinewidth": 0,
                            "ticks": ""
                          }
                        },
                        "type": "scattergl"
                      }
                    ],
                    "scattermapbox": [
                      {
                        "marker": {
                          "colorbar": {
                            "outlinewidth": 0,
                            "ticks": ""
                          }
                        },
                        "type": "scattermapbox"
                      }
                    ],
                    "scatterpolar": [
                      {
                        "marker": {
                          "colorbar": {
                            "outlinewidth": 0,
                            "ticks": ""
                          }
                        },
                        "type": "scatterpolar"
                      }
                    ],
                    "scatterpolargl": [
                      {
                        "marker": {
                          "colorbar": {
                            "outlinewidth": 0,
                            "ticks": ""
                          }
                        },
                        "type": "scatterpolargl"
                      }
                    ],
                    "scatterternary": [
                      {
                        "marker": {
                          "colorbar": {
                            "outlinewidth": 0,
                            "ticks": ""
                          }
                        },
                        "type": "scatterternary"
                      }
                    ],
                    "surface": [
                      {
                        "colorbar": {
                          "outlinewidth": 0,
                          "ticks": ""
                        },
                        "colorscale": [
                          [
                            0,
                            "#0d0887"
                          ],
                          [
                            0.1111111111111111,
                            "#46039f"
                          ],
                          [
                            0.2222222222222222,
                            "#7201a8"
                          ],
                          [
                            0.3333333333333333,
                            "#9c179e"
                          ],
                          [
                            0.4444444444444444,
                            "#bd3786"
                          ],
                          [
                            0.5555555555555556,
                            "#d8576b"
                          ],
                          [
                            0.6666666666666666,
                            "#ed7953"
                          ],
                          [
                            0.7777777777777778,
                            "#fb9f3a"
                          ],
                          [
                            0.8888888888888888,
                            "#fdca26"
                          ],
                          [
                            1,
                            "#f0f921"
                          ]
                        ],
                        "type": "surface"
                      }
                    ],
                    "table": [
                      {
                        "cells": {
                          "fill": {
                            "color": "#EBF0F8"
                          },
                          "line": {
                            "color": "white"
                          }
                        },
                        "header": {
                          "fill": {
                            "color": "#C8D4E3"
                          },
                          "line": {
                            "color": "white"
                          }
                        },
                        "type": "table"
                      }
                    ]
                  },
                  "layout": {
                    "annotationdefaults": {
                      "arrowcolor": "#2a3f5f",
                      "arrowhead": 0,
                      "arrowwidth": 1
                    },
                    "autotypenumbers": "strict",
                    "coloraxis": {
                      "colorbar": {
                        "outlinewidth": 0,
                        "ticks": ""
                      }
                    },
                    "colorscale": {
                      "diverging": [
                        [
                          0,
                          "#8e0152"
                        ],
                        [
                          0.1,
                          "#c51b7d"
                        ],
                        [
                          0.2,
                          "#de77ae"
                        ],
                        [
                          0.3,
                          "#f1b6da"
                        ],
                        [
                          0.4,
                          "#fde0ef"
                        ],
                        [
                          0.5,
                          "#f7f7f7"
                        ],
                        [
                          0.6,
                          "#e6f5d0"
                        ],
                        [
                          0.7,
                          "#b8e186"
                        ],
                        [
                          0.8,
                          "#7fbc41"
                        ],
                        [
                          0.9,
                          "#4d9221"
                        ],
                        [
                          1,
                          "#276419"
                        ]
                      ],
                      "sequential": [
                        [
                          0,
                          "#0d0887"
                        ],
                        [
                          0.1111111111111111,
                          "#46039f"
                        ],
                        [
                          0.2222222222222222,
                          "#7201a8"
                        ],
                        [
                          0.3333333333333333,
                          "#9c179e"
                        ],
                        [
                          0.4444444444444444,
                          "#bd3786"
                        ],
                        [
                          0.5555555555555556,
                          "#d8576b"
                        ],
                        [
                          0.6666666666666666,
                          "#ed7953"
                        ],
                        [
                          0.7777777777777778,
                          "#fb9f3a"
                        ],
                        [
                          0.8888888888888888,
                          "#fdca26"
                        ],
                        [
                          1,
                          "#f0f921"
                        ]
                      ],
                      "sequentialminus": [
                        [
                          0,
                          "#0d0887"
                        ],
                        [
                          0.1111111111111111,
                          "#46039f"
                        ],
                        [
                          0.2222222222222222,
                          "#7201a8"
                        ],
                        [
                          0.3333333333333333,
                          "#9c179e"
                        ],
                        [
                          0.4444444444444444,
                          "#bd3786"
                        ],
                        [
                          0.5555555555555556,
                          "#d8576b"
                        ],
                        [
                          0.6666666666666666,
                          "#ed7953"
                        ],
                        [
                          0.7777777777777778,
                          "#fb9f3a"
                        ],
                        [
                          0.8888888888888888,
                          "#fdca26"
                        ],
                        [
                          1,
                          "#f0f921"
                        ]
                      ]
                    },
                    "colorway": [
                      "#636efa",
                      "#EF553B",
                      "#00cc96",
                      "#ab63fa",
                      "#FFA15A",
                      "#19d3f3",
                      "#FF6692",
                      "#B6E880",
                      "#FF97FF",
                      "#FECB52"
                    ],
                    "font": {
                      "color": "#2a3f5f"
                    },
                    "geo": {
                      "bgcolor": "white",
                      "lakecolor": "white",
                      "landcolor": "#E5ECF6",
                      "showlakes": true,
                      "showland": true,
                      "subunitcolor": "white"
                    },
                    "hoverlabel": {
                      "align": "left"
                    },
                    "hovermode": "closest",
                    "mapbox": {
                      "style": "light"
                    },
                    "paper_bgcolor": "white",
                    "plot_bgcolor": "#E5ECF6",
                    "polar": {
                      "angularaxis": {
                        "gridcolor": "white",
                        "linecolor": "white",
                        "ticks": ""
                      },
                      "bgcolor": "#E5ECF6",
                      "radialaxis": {
                        "gridcolor": "white",
                        "linecolor": "white",
                        "ticks": ""
                      }
                    },
                    "scene": {
                      "xaxis": {
                        "backgroundcolor": "#E5ECF6",
                        "gridcolor": "white",
                        "gridwidth": 2,
                        "linecolor": "white",
                        "showbackground": true,
                        "ticks": "",
                        "zerolinecolor": "white"
                      },
                      "yaxis": {
                        "backgroundcolor": "#E5ECF6",
                        "gridcolor": "white",
                        "gridwidth": 2,
                        "linecolor": "white",
                        "showbackground": true,
                        "ticks": "",
                        "zerolinecolor": "white"
                      },
                      "zaxis": {
                        "backgroundcolor": "#E5ECF6",
                        "gridcolor": "white",
                        "gridwidth": 2,
                        "linecolor": "white",
                        "showbackground": true,
                        "ticks": "",
                        "zerolinecolor": "white"
                      }
                    },
                    "shapedefaults": {
                      "line": {
                        "color": "#2a3f5f"
                      }
                    },
                    "ternary": {
                      "aaxis": {
                        "gridcolor": "white",
                        "linecolor": "white",
                        "ticks": ""
                      },
                      "baxis": {
                        "gridcolor": "white",
                        "linecolor": "white",
                        "ticks": ""
                      },
                      "bgcolor": "#E5ECF6",
                      "caxis": {
                        "gridcolor": "white",
                        "linecolor": "white",
                        "ticks": ""
                      }
                    },
                    "title": {
                      "x": 0.05
                    },
                    "xaxis": {
                      "automargin": true,
                      "gridcolor": "white",
                      "linecolor": "white",
                      "ticks": "",
                      "title": {
                        "standoff": 15
                      },
                      "zerolinecolor": "white",
                      "zerolinewidth": 2
                    },
                    "yaxis": {
                      "automargin": true,
                      "gridcolor": "white",
                      "linecolor": "white",
                      "ticks": "",
                      "title": {
                        "standoff": 15
                      },
                      "zerolinecolor": "white",
                      "zerolinewidth": 2
                    }
                  }
                },
                "title": {
                  "text": "Outlier Detection in Tourist_ID"
                },
                "xaxis": {
                  "anchor": "y",
                  "domain": [
                    0,
                    1
                  ]
                },
                "yaxis": {
                  "anchor": "x",
                  "domain": [
                    0,
                    1
                  ],
                  "title": {
                    "text": "Tourist_ID"
                  }
                }
              }
            }
          },
          "metadata": {},
          "output_type": "display_data"
        },
        {
          "data": {
            "application/vnd.plotly.v1+json": {
              "config": {
                "plotlyServerURL": "https://plot.ly"
              },
              "data": [
                {
                  "alignmentgroup": "True",
                  "hovertemplate": "Travel_Duration_Days=%{y}<extra></extra>",
                  "legendgroup": "",
                  "marker": {
                    "color": "#636efa"
                  },
                  "name": "",
                  "notched": false,
                  "offsetgroup": "",
                  "orientation": "v",
                  "showlegend": false,
                  "type": "box",
                  "x0": " ",
                  "xaxis": "x",
                  "y": [
                    8,
                    16,
                    8,
                    12,
                    5,
                    3,
                    2,
                    13,
                    11,
                    17,
                    4,
                    8,
                    8,
                    15,
                    10,
                    3,
                    13,
                    16,
                    5,
                    5,
                    7,
                    19,
                    11,
                    9,
                    9,
                    16,
                    14,
                    14,
                    2,
                    12,
                    4,
                    6,
                    10,
                    9,
                    17,
                    9,
                    2,
                    2,
                    15,
                    16,
                    20,
                    5,
                    12,
                    14,
                    3,
                    7,
                    12,
                    8,
                    14,
                    8,
                    6,
                    16,
                    10,
                    18,
                    13,
                    18,
                    18,
                    6,
                    3,
                    7,
                    12,
                    7,
                    3,
                    17,
                    7,
                    5,
                    4,
                    8,
                    2,
                    2,
                    11,
                    17,
                    18,
                    6,
                    10,
                    20,
                    2,
                    18,
                    9,
                    4,
                    19,
                    4,
                    2,
                    17,
                    9,
                    2,
                    20,
                    9,
                    2,
                    2,
                    17,
                    18,
                    15,
                    4,
                    18,
                    4,
                    2,
                    19,
                    4,
                    3,
                    3,
                    9,
                    17,
                    4,
                    14,
                    5,
                    2,
                    3,
                    20,
                    18,
                    7,
                    6,
                    13,
                    8,
                    16,
                    19,
                    20,
                    20,
                    6,
                    10,
                    2,
                    2,
                    9,
                    8,
                    4,
                    17,
                    15,
                    18,
                    13,
                    8,
                    6,
                    11,
                    2,
                    17,
                    13,
                    2,
                    12,
                    12,
                    14,
                    3,
                    19,
                    18,
                    11,
                    3,
                    8,
                    19,
                    5,
                    5,
                    4,
                    17,
                    6,
                    14,
                    10,
                    17,
                    14,
                    10,
                    10,
                    20,
                    6,
                    5,
                    17,
                    14,
                    15,
                    4,
                    12,
                    13,
                    7,
                    11,
                    3,
                    7,
                    17,
                    18,
                    5,
                    20,
                    8,
                    20,
                    14,
                    9,
                    10,
                    18,
                    2,
                    13,
                    16,
                    12,
                    20,
                    19,
                    15,
                    4,
                    17,
                    9,
                    9,
                    6,
                    18,
                    17,
                    15,
                    7,
                    6,
                    19,
                    2,
                    16,
                    18,
                    3,
                    2,
                    18,
                    7,
                    6,
                    11,
                    18,
                    20,
                    5,
                    3,
                    3,
                    19,
                    13,
                    18,
                    3,
                    8,
                    3,
                    20,
                    7,
                    11,
                    6,
                    18,
                    6,
                    12,
                    12,
                    17,
                    17,
                    5,
                    4,
                    19,
                    20,
                    11,
                    15,
                    15,
                    16,
                    16,
                    17,
                    5,
                    18,
                    16,
                    15,
                    15,
                    15,
                    14,
                    16,
                    11,
                    8,
                    13,
                    5,
                    10,
                    16,
                    3,
                    6,
                    14,
                    2,
                    7,
                    12,
                    9,
                    7,
                    12,
                    18,
                    16,
                    5,
                    2,
                    13,
                    7,
                    12,
                    4,
                    19,
                    11,
                    9,
                    2,
                    18,
                    16,
                    18,
                    13,
                    12,
                    4,
                    9,
                    10,
                    6,
                    15,
                    5,
                    19,
                    16,
                    18,
                    3,
                    9,
                    20,
                    9,
                    8,
                    7,
                    6,
                    2,
                    3,
                    11,
                    14,
                    9,
                    16,
                    14,
                    20,
                    5,
                    6,
                    11,
                    12,
                    14,
                    2,
                    13,
                    17,
                    6,
                    10,
                    9,
                    12,
                    6,
                    15,
                    2,
                    16,
                    10,
                    10,
                    12,
                    3,
                    12,
                    8,
                    2,
                    12,
                    19,
                    8,
                    18,
                    9,
                    2,
                    20,
                    20,
                    14,
                    17,
                    2,
                    3,
                    7,
                    8,
                    20,
                    2,
                    19,
                    2,
                    4,
                    16,
                    16,
                    15,
                    5,
                    15,
                    8,
                    20,
                    5,
                    3,
                    11,
                    13,
                    7,
                    13,
                    15,
                    20,
                    10,
                    8,
                    12,
                    14,
                    6,
                    11,
                    7,
                    11,
                    7,
                    3,
                    11,
                    15,
                    12,
                    5,
                    12,
                    8,
                    3,
                    5,
                    12,
                    12,
                    3,
                    10,
                    12,
                    8,
                    19,
                    13,
                    7,
                    6,
                    18,
                    18,
                    17,
                    18,
                    17,
                    10,
                    11,
                    8,
                    20,
                    19,
                    4,
                    11,
                    4,
                    6,
                    13,
                    14,
                    14,
                    3,
                    3,
                    14,
                    8,
                    18,
                    13,
                    13,
                    8,
                    2,
                    14,
                    6,
                    2,
                    16,
                    13,
                    6,
                    12,
                    15,
                    3,
                    20,
                    11,
                    10,
                    4,
                    16,
                    18,
                    11,
                    19,
                    4,
                    16,
                    5,
                    12,
                    10,
                    11,
                    6,
                    3,
                    7,
                    17,
                    7,
                    17,
                    6,
                    19,
                    20,
                    9,
                    14,
                    7,
                    9,
                    14,
                    11,
                    7,
                    20,
                    12,
                    8,
                    3,
                    13,
                    18,
                    9,
                    14,
                    7,
                    11,
                    3,
                    16,
                    5,
                    5,
                    13,
                    2,
                    19,
                    16,
                    4,
                    13,
                    2,
                    3,
                    5,
                    16,
                    12,
                    3,
                    12,
                    18,
                    16,
                    7,
                    7,
                    4,
                    13,
                    9,
                    18,
                    9,
                    8,
                    13,
                    4,
                    15,
                    13,
                    10,
                    3,
                    18,
                    19,
                    2,
                    10,
                    20,
                    13,
                    16,
                    11,
                    2,
                    2,
                    8,
                    15,
                    3,
                    13,
                    12,
                    7,
                    8,
                    9,
                    16,
                    8,
                    5,
                    4,
                    12,
                    13,
                    14,
                    20,
                    9,
                    20,
                    7,
                    6,
                    4,
                    4,
                    8,
                    6,
                    13,
                    19,
                    10,
                    3,
                    16,
                    7,
                    13,
                    9,
                    2,
                    5,
                    15,
                    6,
                    14,
                    16,
                    3,
                    3,
                    6,
                    5,
                    12,
                    15,
                    10,
                    12,
                    6,
                    18,
                    13,
                    16,
                    19,
                    6,
                    2,
                    6,
                    20,
                    19,
                    3,
                    8,
                    13,
                    17,
                    9,
                    2,
                    16,
                    11,
                    18,
                    16,
                    9,
                    20,
                    6,
                    3,
                    7,
                    10,
                    14,
                    14,
                    3,
                    15,
                    20,
                    20,
                    8,
                    16,
                    8,
                    2,
                    18,
                    4,
                    15,
                    9,
                    13,
                    6,
                    12,
                    12,
                    12,
                    20,
                    20,
                    17,
                    15,
                    16,
                    5,
                    18,
                    12,
                    18,
                    11,
                    8,
                    11,
                    10,
                    16,
                    11,
                    6,
                    20,
                    19,
                    19,
                    4,
                    2,
                    17,
                    8,
                    10,
                    3,
                    19,
                    8,
                    15,
                    7,
                    14,
                    5,
                    9,
                    7,
                    5,
                    6,
                    9,
                    13,
                    4,
                    13,
                    18,
                    9,
                    6,
                    16,
                    17,
                    17,
                    17,
                    4,
                    20,
                    13,
                    7,
                    8,
                    17,
                    3,
                    5,
                    10,
                    10,
                    5,
                    7,
                    12,
                    11,
                    11,
                    11,
                    8,
                    16,
                    4,
                    3,
                    15,
                    17,
                    4,
                    14,
                    9,
                    16,
                    14,
                    7,
                    3,
                    20,
                    11,
                    12,
                    16,
                    10,
                    10,
                    15,
                    2,
                    9,
                    8,
                    5,
                    8,
                    4,
                    15,
                    6,
                    7,
                    2,
                    19,
                    6,
                    5,
                    18,
                    5,
                    19,
                    7,
                    18,
                    10,
                    17,
                    11,
                    9,
                    3,
                    18,
                    14,
                    9,
                    12,
                    4,
                    9,
                    15,
                    16,
                    20,
                    6,
                    9,
                    16,
                    9,
                    3,
                    18,
                    10,
                    19,
                    5,
                    14,
                    3,
                    16,
                    19,
                    15,
                    13,
                    18,
                    8,
                    16,
                    14,
                    9,
                    12,
                    14,
                    16,
                    19,
                    13,
                    12,
                    2,
                    20,
                    6,
                    9,
                    4,
                    11,
                    11,
                    15,
                    3,
                    14,
                    5,
                    13,
                    3,
                    17,
                    20,
                    5,
                    11,
                    7,
                    8,
                    15,
                    14,
                    8,
                    15,
                    5,
                    20,
                    20,
                    15,
                    14,
                    7,
                    5,
                    14,
                    18,
                    18,
                    16,
                    14,
                    7,
                    17,
                    7,
                    8,
                    17,
                    11,
                    14,
                    20,
                    11,
                    6,
                    11,
                    7,
                    8,
                    2,
                    7,
                    13,
                    5,
                    13,
                    8,
                    15,
                    11,
                    7,
                    14,
                    12,
                    12,
                    2,
                    16,
                    12,
                    17,
                    13,
                    19,
                    6,
                    20,
                    13,
                    2,
                    5,
                    2,
                    3,
                    10,
                    3,
                    11,
                    3,
                    11,
                    17,
                    8,
                    16,
                    11,
                    20,
                    8,
                    5,
                    16,
                    10,
                    18,
                    9,
                    4,
                    19,
                    12,
                    9,
                    10,
                    9,
                    16,
                    7,
                    17,
                    4,
                    9,
                    2,
                    12,
                    7,
                    10,
                    17,
                    14,
                    14,
                    7,
                    6,
                    5,
                    3,
                    6,
                    10,
                    19,
                    13,
                    3,
                    17,
                    2,
                    3,
                    12,
                    17,
                    16,
                    2,
                    17,
                    4,
                    8,
                    2,
                    16,
                    15,
                    18,
                    14,
                    2,
                    3,
                    9,
                    18,
                    15,
                    17,
                    15,
                    11,
                    14,
                    20,
                    7,
                    9,
                    10,
                    15,
                    10,
                    10,
                    9,
                    17,
                    18,
                    15,
                    6,
                    4,
                    10,
                    18,
                    2,
                    16,
                    15,
                    9,
                    20,
                    8,
                    13,
                    13,
                    3,
                    10,
                    7,
                    18,
                    9,
                    11,
                    14,
                    4,
                    7,
                    18,
                    2,
                    18,
                    10,
                    18,
                    8,
                    12,
                    15,
                    9,
                    13,
                    13,
                    2,
                    6,
                    14,
                    19,
                    5,
                    5,
                    9,
                    13,
                    10,
                    10,
                    20,
                    11,
                    10,
                    7,
                    3,
                    17,
                    13,
                    2,
                    6,
                    18,
                    7,
                    12,
                    14,
                    7,
                    13,
                    4,
                    16,
                    9,
                    5,
                    8,
                    8,
                    2,
                    20,
                    19,
                    12,
                    12,
                    7,
                    17,
                    13,
                    5,
                    19,
                    4,
                    5,
                    15,
                    20,
                    16,
                    11,
                    6,
                    6,
                    7,
                    10,
                    14,
                    14,
                    6,
                    14,
                    20,
                    14,
                    15,
                    13,
                    5,
                    4,
                    3,
                    19,
                    20,
                    9,
                    6,
                    20,
                    3,
                    14,
                    12,
                    10,
                    20,
                    13,
                    5,
                    16,
                    20,
                    20,
                    19,
                    16,
                    14,
                    10
                  ],
                  "y0": " ",
                  "yaxis": "y"
                }
              ],
              "layout": {
                "boxmode": "group",
                "legend": {
                  "tracegroupgap": 0
                },
                "template": {
                  "data": {
                    "bar": [
                      {
                        "error_x": {
                          "color": "#2a3f5f"
                        },
                        "error_y": {
                          "color": "#2a3f5f"
                        },
                        "marker": {
                          "line": {
                            "color": "#E5ECF6",
                            "width": 0.5
                          },
                          "pattern": {
                            "fillmode": "overlay",
                            "size": 10,
                            "solidity": 0.2
                          }
                        },
                        "type": "bar"
                      }
                    ],
                    "barpolar": [
                      {
                        "marker": {
                          "line": {
                            "color": "#E5ECF6",
                            "width": 0.5
                          },
                          "pattern": {
                            "fillmode": "overlay",
                            "size": 10,
                            "solidity": 0.2
                          }
                        },
                        "type": "barpolar"
                      }
                    ],
                    "carpet": [
                      {
                        "aaxis": {
                          "endlinecolor": "#2a3f5f",
                          "gridcolor": "white",
                          "linecolor": "white",
                          "minorgridcolor": "white",
                          "startlinecolor": "#2a3f5f"
                        },
                        "baxis": {
                          "endlinecolor": "#2a3f5f",
                          "gridcolor": "white",
                          "linecolor": "white",
                          "minorgridcolor": "white",
                          "startlinecolor": "#2a3f5f"
                        },
                        "type": "carpet"
                      }
                    ],
                    "choropleth": [
                      {
                        "colorbar": {
                          "outlinewidth": 0,
                          "ticks": ""
                        },
                        "type": "choropleth"
                      }
                    ],
                    "contour": [
                      {
                        "colorbar": {
                          "outlinewidth": 0,
                          "ticks": ""
                        },
                        "colorscale": [
                          [
                            0,
                            "#0d0887"
                          ],
                          [
                            0.1111111111111111,
                            "#46039f"
                          ],
                          [
                            0.2222222222222222,
                            "#7201a8"
                          ],
                          [
                            0.3333333333333333,
                            "#9c179e"
                          ],
                          [
                            0.4444444444444444,
                            "#bd3786"
                          ],
                          [
                            0.5555555555555556,
                            "#d8576b"
                          ],
                          [
                            0.6666666666666666,
                            "#ed7953"
                          ],
                          [
                            0.7777777777777778,
                            "#fb9f3a"
                          ],
                          [
                            0.8888888888888888,
                            "#fdca26"
                          ],
                          [
                            1,
                            "#f0f921"
                          ]
                        ],
                        "type": "contour"
                      }
                    ],
                    "contourcarpet": [
                      {
                        "colorbar": {
                          "outlinewidth": 0,
                          "ticks": ""
                        },
                        "type": "contourcarpet"
                      }
                    ],
                    "heatmap": [
                      {
                        "colorbar": {
                          "outlinewidth": 0,
                          "ticks": ""
                        },
                        "colorscale": [
                          [
                            0,
                            "#0d0887"
                          ],
                          [
                            0.1111111111111111,
                            "#46039f"
                          ],
                          [
                            0.2222222222222222,
                            "#7201a8"
                          ],
                          [
                            0.3333333333333333,
                            "#9c179e"
                          ],
                          [
                            0.4444444444444444,
                            "#bd3786"
                          ],
                          [
                            0.5555555555555556,
                            "#d8576b"
                          ],
                          [
                            0.6666666666666666,
                            "#ed7953"
                          ],
                          [
                            0.7777777777777778,
                            "#fb9f3a"
                          ],
                          [
                            0.8888888888888888,
                            "#fdca26"
                          ],
                          [
                            1,
                            "#f0f921"
                          ]
                        ],
                        "type": "heatmap"
                      }
                    ],
                    "heatmapgl": [
                      {
                        "colorbar": {
                          "outlinewidth": 0,
                          "ticks": ""
                        },
                        "colorscale": [
                          [
                            0,
                            "#0d0887"
                          ],
                          [
                            0.1111111111111111,
                            "#46039f"
                          ],
                          [
                            0.2222222222222222,
                            "#7201a8"
                          ],
                          [
                            0.3333333333333333,
                            "#9c179e"
                          ],
                          [
                            0.4444444444444444,
                            "#bd3786"
                          ],
                          [
                            0.5555555555555556,
                            "#d8576b"
                          ],
                          [
                            0.6666666666666666,
                            "#ed7953"
                          ],
                          [
                            0.7777777777777778,
                            "#fb9f3a"
                          ],
                          [
                            0.8888888888888888,
                            "#fdca26"
                          ],
                          [
                            1,
                            "#f0f921"
                          ]
                        ],
                        "type": "heatmapgl"
                      }
                    ],
                    "histogram": [
                      {
                        "marker": {
                          "pattern": {
                            "fillmode": "overlay",
                            "size": 10,
                            "solidity": 0.2
                          }
                        },
                        "type": "histogram"
                      }
                    ],
                    "histogram2d": [
                      {
                        "colorbar": {
                          "outlinewidth": 0,
                          "ticks": ""
                        },
                        "colorscale": [
                          [
                            0,
                            "#0d0887"
                          ],
                          [
                            0.1111111111111111,
                            "#46039f"
                          ],
                          [
                            0.2222222222222222,
                            "#7201a8"
                          ],
                          [
                            0.3333333333333333,
                            "#9c179e"
                          ],
                          [
                            0.4444444444444444,
                            "#bd3786"
                          ],
                          [
                            0.5555555555555556,
                            "#d8576b"
                          ],
                          [
                            0.6666666666666666,
                            "#ed7953"
                          ],
                          [
                            0.7777777777777778,
                            "#fb9f3a"
                          ],
                          [
                            0.8888888888888888,
                            "#fdca26"
                          ],
                          [
                            1,
                            "#f0f921"
                          ]
                        ],
                        "type": "histogram2d"
                      }
                    ],
                    "histogram2dcontour": [
                      {
                        "colorbar": {
                          "outlinewidth": 0,
                          "ticks": ""
                        },
                        "colorscale": [
                          [
                            0,
                            "#0d0887"
                          ],
                          [
                            0.1111111111111111,
                            "#46039f"
                          ],
                          [
                            0.2222222222222222,
                            "#7201a8"
                          ],
                          [
                            0.3333333333333333,
                            "#9c179e"
                          ],
                          [
                            0.4444444444444444,
                            "#bd3786"
                          ],
                          [
                            0.5555555555555556,
                            "#d8576b"
                          ],
                          [
                            0.6666666666666666,
                            "#ed7953"
                          ],
                          [
                            0.7777777777777778,
                            "#fb9f3a"
                          ],
                          [
                            0.8888888888888888,
                            "#fdca26"
                          ],
                          [
                            1,
                            "#f0f921"
                          ]
                        ],
                        "type": "histogram2dcontour"
                      }
                    ],
                    "mesh3d": [
                      {
                        "colorbar": {
                          "outlinewidth": 0,
                          "ticks": ""
                        },
                        "type": "mesh3d"
                      }
                    ],
                    "parcoords": [
                      {
                        "line": {
                          "colorbar": {
                            "outlinewidth": 0,
                            "ticks": ""
                          }
                        },
                        "type": "parcoords"
                      }
                    ],
                    "pie": [
                      {
                        "automargin": true,
                        "type": "pie"
                      }
                    ],
                    "scatter": [
                      {
                        "fillpattern": {
                          "fillmode": "overlay",
                          "size": 10,
                          "solidity": 0.2
                        },
                        "type": "scatter"
                      }
                    ],
                    "scatter3d": [
                      {
                        "line": {
                          "colorbar": {
                            "outlinewidth": 0,
                            "ticks": ""
                          }
                        },
                        "marker": {
                          "colorbar": {
                            "outlinewidth": 0,
                            "ticks": ""
                          }
                        },
                        "type": "scatter3d"
                      }
                    ],
                    "scattercarpet": [
                      {
                        "marker": {
                          "colorbar": {
                            "outlinewidth": 0,
                            "ticks": ""
                          }
                        },
                        "type": "scattercarpet"
                      }
                    ],
                    "scattergeo": [
                      {
                        "marker": {
                          "colorbar": {
                            "outlinewidth": 0,
                            "ticks": ""
                          }
                        },
                        "type": "scattergeo"
                      }
                    ],
                    "scattergl": [
                      {
                        "marker": {
                          "colorbar": {
                            "outlinewidth": 0,
                            "ticks": ""
                          }
                        },
                        "type": "scattergl"
                      }
                    ],
                    "scattermapbox": [
                      {
                        "marker": {
                          "colorbar": {
                            "outlinewidth": 0,
                            "ticks": ""
                          }
                        },
                        "type": "scattermapbox"
                      }
                    ],
                    "scatterpolar": [
                      {
                        "marker": {
                          "colorbar": {
                            "outlinewidth": 0,
                            "ticks": ""
                          }
                        },
                        "type": "scatterpolar"
                      }
                    ],
                    "scatterpolargl": [
                      {
                        "marker": {
                          "colorbar": {
                            "outlinewidth": 0,
                            "ticks": ""
                          }
                        },
                        "type": "scatterpolargl"
                      }
                    ],
                    "scatterternary": [
                      {
                        "marker": {
                          "colorbar": {
                            "outlinewidth": 0,
                            "ticks": ""
                          }
                        },
                        "type": "scatterternary"
                      }
                    ],
                    "surface": [
                      {
                        "colorbar": {
                          "outlinewidth": 0,
                          "ticks": ""
                        },
                        "colorscale": [
                          [
                            0,
                            "#0d0887"
                          ],
                          [
                            0.1111111111111111,
                            "#46039f"
                          ],
                          [
                            0.2222222222222222,
                            "#7201a8"
                          ],
                          [
                            0.3333333333333333,
                            "#9c179e"
                          ],
                          [
                            0.4444444444444444,
                            "#bd3786"
                          ],
                          [
                            0.5555555555555556,
                            "#d8576b"
                          ],
                          [
                            0.6666666666666666,
                            "#ed7953"
                          ],
                          [
                            0.7777777777777778,
                            "#fb9f3a"
                          ],
                          [
                            0.8888888888888888,
                            "#fdca26"
                          ],
                          [
                            1,
                            "#f0f921"
                          ]
                        ],
                        "type": "surface"
                      }
                    ],
                    "table": [
                      {
                        "cells": {
                          "fill": {
                            "color": "#EBF0F8"
                          },
                          "line": {
                            "color": "white"
                          }
                        },
                        "header": {
                          "fill": {
                            "color": "#C8D4E3"
                          },
                          "line": {
                            "color": "white"
                          }
                        },
                        "type": "table"
                      }
                    ]
                  },
                  "layout": {
                    "annotationdefaults": {
                      "arrowcolor": "#2a3f5f",
                      "arrowhead": 0,
                      "arrowwidth": 1
                    },
                    "autotypenumbers": "strict",
                    "coloraxis": {
                      "colorbar": {
                        "outlinewidth": 0,
                        "ticks": ""
                      }
                    },
                    "colorscale": {
                      "diverging": [
                        [
                          0,
                          "#8e0152"
                        ],
                        [
                          0.1,
                          "#c51b7d"
                        ],
                        [
                          0.2,
                          "#de77ae"
                        ],
                        [
                          0.3,
                          "#f1b6da"
                        ],
                        [
                          0.4,
                          "#fde0ef"
                        ],
                        [
                          0.5,
                          "#f7f7f7"
                        ],
                        [
                          0.6,
                          "#e6f5d0"
                        ],
                        [
                          0.7,
                          "#b8e186"
                        ],
                        [
                          0.8,
                          "#7fbc41"
                        ],
                        [
                          0.9,
                          "#4d9221"
                        ],
                        [
                          1,
                          "#276419"
                        ]
                      ],
                      "sequential": [
                        [
                          0,
                          "#0d0887"
                        ],
                        [
                          0.1111111111111111,
                          "#46039f"
                        ],
                        [
                          0.2222222222222222,
                          "#7201a8"
                        ],
                        [
                          0.3333333333333333,
                          "#9c179e"
                        ],
                        [
                          0.4444444444444444,
                          "#bd3786"
                        ],
                        [
                          0.5555555555555556,
                          "#d8576b"
                        ],
                        [
                          0.6666666666666666,
                          "#ed7953"
                        ],
                        [
                          0.7777777777777778,
                          "#fb9f3a"
                        ],
                        [
                          0.8888888888888888,
                          "#fdca26"
                        ],
                        [
                          1,
                          "#f0f921"
                        ]
                      ],
                      "sequentialminus": [
                        [
                          0,
                          "#0d0887"
                        ],
                        [
                          0.1111111111111111,
                          "#46039f"
                        ],
                        [
                          0.2222222222222222,
                          "#7201a8"
                        ],
                        [
                          0.3333333333333333,
                          "#9c179e"
                        ],
                        [
                          0.4444444444444444,
                          "#bd3786"
                        ],
                        [
                          0.5555555555555556,
                          "#d8576b"
                        ],
                        [
                          0.6666666666666666,
                          "#ed7953"
                        ],
                        [
                          0.7777777777777778,
                          "#fb9f3a"
                        ],
                        [
                          0.8888888888888888,
                          "#fdca26"
                        ],
                        [
                          1,
                          "#f0f921"
                        ]
                      ]
                    },
                    "colorway": [
                      "#636efa",
                      "#EF553B",
                      "#00cc96",
                      "#ab63fa",
                      "#FFA15A",
                      "#19d3f3",
                      "#FF6692",
                      "#B6E880",
                      "#FF97FF",
                      "#FECB52"
                    ],
                    "font": {
                      "color": "#2a3f5f"
                    },
                    "geo": {
                      "bgcolor": "white",
                      "lakecolor": "white",
                      "landcolor": "#E5ECF6",
                      "showlakes": true,
                      "showland": true,
                      "subunitcolor": "white"
                    },
                    "hoverlabel": {
                      "align": "left"
                    },
                    "hovermode": "closest",
                    "mapbox": {
                      "style": "light"
                    },
                    "paper_bgcolor": "white",
                    "plot_bgcolor": "#E5ECF6",
                    "polar": {
                      "angularaxis": {
                        "gridcolor": "white",
                        "linecolor": "white",
                        "ticks": ""
                      },
                      "bgcolor": "#E5ECF6",
                      "radialaxis": {
                        "gridcolor": "white",
                        "linecolor": "white",
                        "ticks": ""
                      }
                    },
                    "scene": {
                      "xaxis": {
                        "backgroundcolor": "#E5ECF6",
                        "gridcolor": "white",
                        "gridwidth": 2,
                        "linecolor": "white",
                        "showbackground": true,
                        "ticks": "",
                        "zerolinecolor": "white"
                      },
                      "yaxis": {
                        "backgroundcolor": "#E5ECF6",
                        "gridcolor": "white",
                        "gridwidth": 2,
                        "linecolor": "white",
                        "showbackground": true,
                        "ticks": "",
                        "zerolinecolor": "white"
                      },
                      "zaxis": {
                        "backgroundcolor": "#E5ECF6",
                        "gridcolor": "white",
                        "gridwidth": 2,
                        "linecolor": "white",
                        "showbackground": true,
                        "ticks": "",
                        "zerolinecolor": "white"
                      }
                    },
                    "shapedefaults": {
                      "line": {
                        "color": "#2a3f5f"
                      }
                    },
                    "ternary": {
                      "aaxis": {
                        "gridcolor": "white",
                        "linecolor": "white",
                        "ticks": ""
                      },
                      "baxis": {
                        "gridcolor": "white",
                        "linecolor": "white",
                        "ticks": ""
                      },
                      "bgcolor": "#E5ECF6",
                      "caxis": {
                        "gridcolor": "white",
                        "linecolor": "white",
                        "ticks": ""
                      }
                    },
                    "title": {
                      "x": 0.05
                    },
                    "xaxis": {
                      "automargin": true,
                      "gridcolor": "white",
                      "linecolor": "white",
                      "ticks": "",
                      "title": {
                        "standoff": 15
                      },
                      "zerolinecolor": "white",
                      "zerolinewidth": 2
                    },
                    "yaxis": {
                      "automargin": true,
                      "gridcolor": "white",
                      "linecolor": "white",
                      "ticks": "",
                      "title": {
                        "standoff": 15
                      },
                      "zerolinecolor": "white",
                      "zerolinewidth": 2
                    }
                  }
                },
                "title": {
                  "text": "Outlier Detection in Travel_Duration_Days"
                },
                "xaxis": {
                  "anchor": "y",
                  "domain": [
                    0,
                    1
                  ]
                },
                "yaxis": {
                  "anchor": "x",
                  "domain": [
                    0,
                    1
                  ],
                  "title": {
                    "text": "Travel_Duration_Days"
                  }
                }
              }
            }
          },
          "metadata": {},
          "output_type": "display_data"
        },
        {
          "data": {
            "application/vnd.plotly.v1+json": {
              "config": {
                "plotlyServerURL": "https://plot.ly"
              },
              "data": [
                {
                  "alignmentgroup": "True",
                  "hovertemplate": "Number_of_Companions=%{y}<extra></extra>",
                  "legendgroup": "",
                  "marker": {
                    "color": "#636efa"
                  },
                  "name": "",
                  "notched": false,
                  "offsetgroup": "",
                  "orientation": "v",
                  "showlegend": false,
                  "type": "box",
                  "x0": " ",
                  "xaxis": "x",
                  "y": [
                    4,
                    3,
                    2,
                    3,
                    3,
                    4,
                    4,
                    1,
                    4,
                    3,
                    5,
                    5,
                    2,
                    2,
                    2,
                    4,
                    5,
                    3,
                    2,
                    2,
                    2,
                    2,
                    4,
                    4,
                    5,
                    5,
                    1,
                    1,
                    4,
                    3,
                    3,
                    2,
                    4,
                    4,
                    5,
                    3,
                    3,
                    5,
                    3,
                    2,
                    1,
                    5,
                    5,
                    3,
                    2,
                    4,
                    2,
                    1,
                    1,
                    3,
                    1,
                    3,
                    4,
                    2,
                    2,
                    1,
                    2,
                    1,
                    5,
                    4,
                    3,
                    5,
                    3,
                    1,
                    5,
                    3,
                    3,
                    4,
                    2,
                    3,
                    3,
                    2,
                    2,
                    5,
                    1,
                    3,
                    4,
                    4,
                    4,
                    1,
                    2,
                    5,
                    4,
                    4,
                    3,
                    4,
                    5,
                    3,
                    4,
                    5,
                    3,
                    1,
                    5,
                    4,
                    5,
                    4,
                    3,
                    1,
                    2,
                    3,
                    2,
                    1,
                    5,
                    2,
                    4,
                    5,
                    4,
                    2,
                    1,
                    4,
                    3,
                    1,
                    4,
                    4,
                    3,
                    4,
                    1,
                    4,
                    2,
                    4,
                    2,
                    2,
                    5,
                    5,
                    4,
                    3,
                    4,
                    4,
                    2,
                    4,
                    2,
                    2,
                    5,
                    2,
                    2,
                    1,
                    5,
                    4,
                    4,
                    5,
                    3,
                    2,
                    2,
                    3,
                    4,
                    5,
                    1,
                    2,
                    1,
                    4,
                    4,
                    1,
                    1,
                    1,
                    3,
                    3,
                    4,
                    2,
                    3,
                    5,
                    1,
                    5,
                    2,
                    5,
                    2,
                    1,
                    5,
                    1,
                    5,
                    3,
                    5,
                    1,
                    4,
                    5,
                    3,
                    3,
                    2,
                    5,
                    1,
                    1,
                    5,
                    5,
                    5,
                    4,
                    4,
                    1,
                    1,
                    1,
                    4,
                    2,
                    2,
                    1,
                    1,
                    5,
                    3,
                    2,
                    1,
                    3,
                    1,
                    1,
                    5,
                    1,
                    5,
                    5,
                    3,
                    5,
                    2,
                    5,
                    5,
                    1,
                    4,
                    3,
                    4,
                    5,
                    5,
                    3,
                    4,
                    2,
                    2,
                    1,
                    3,
                    5,
                    2,
                    2,
                    3,
                    3,
                    3,
                    4,
                    1,
                    3,
                    5,
                    5,
                    5,
                    2,
                    2,
                    1,
                    3,
                    5,
                    1,
                    3,
                    2,
                    2,
                    3,
                    3,
                    2,
                    1,
                    1,
                    2,
                    1,
                    2,
                    5,
                    4,
                    1,
                    4,
                    5,
                    5,
                    4,
                    1,
                    5,
                    2,
                    4,
                    3,
                    3,
                    3,
                    4,
                    1,
                    5,
                    4,
                    1,
                    2,
                    4,
                    2,
                    5,
                    1,
                    3,
                    5,
                    2,
                    1,
                    3,
                    4,
                    5,
                    5,
                    2,
                    1,
                    3,
                    1,
                    1,
                    5,
                    3,
                    3,
                    2,
                    3,
                    1,
                    3,
                    4,
                    2,
                    1,
                    4,
                    5,
                    4,
                    2,
                    3,
                    2,
                    4,
                    2,
                    4,
                    2,
                    4,
                    4,
                    4,
                    2,
                    3,
                    1,
                    1,
                    5,
                    4,
                    3,
                    1,
                    2,
                    3,
                    2,
                    3,
                    3,
                    4,
                    1,
                    2,
                    5,
                    1,
                    4,
                    1,
                    5,
                    3,
                    5,
                    5,
                    3,
                    3,
                    4,
                    3,
                    3,
                    2,
                    4,
                    5,
                    1,
                    3,
                    5,
                    2,
                    3,
                    4,
                    2,
                    1,
                    5,
                    5,
                    1,
                    2,
                    4,
                    1,
                    1,
                    1,
                    1,
                    2,
                    1,
                    4,
                    2,
                    3,
                    4,
                    2,
                    5,
                    3,
                    4,
                    5,
                    2,
                    1,
                    3,
                    3,
                    3,
                    5,
                    4,
                    1,
                    2,
                    5,
                    1,
                    2,
                    3,
                    5,
                    3,
                    2,
                    4,
                    5,
                    4,
                    3,
                    5,
                    1,
                    5,
                    1,
                    5,
                    2,
                    4,
                    2,
                    1,
                    4,
                    3,
                    1,
                    2,
                    2,
                    3,
                    3,
                    2,
                    4,
                    5,
                    1,
                    1,
                    4,
                    1,
                    2,
                    1,
                    5,
                    1,
                    3,
                    5,
                    4,
                    3,
                    1,
                    5,
                    3,
                    1,
                    5,
                    1,
                    5,
                    3,
                    1,
                    5,
                    1,
                    5,
                    1,
                    3,
                    1,
                    3,
                    4,
                    3,
                    2,
                    5,
                    5,
                    5,
                    5,
                    2,
                    2,
                    5,
                    3,
                    4,
                    3,
                    4,
                    4,
                    2,
                    5,
                    2,
                    5,
                    2,
                    1,
                    2,
                    3,
                    3,
                    1,
                    4,
                    5,
                    4,
                    2,
                    1,
                    2,
                    2,
                    5,
                    4,
                    5,
                    3,
                    2,
                    1,
                    5,
                    4,
                    4,
                    3,
                    4,
                    5,
                    3,
                    2,
                    1,
                    2,
                    4,
                    5,
                    3,
                    3,
                    5,
                    4,
                    1,
                    4,
                    1,
                    3,
                    5,
                    3,
                    4,
                    3,
                    1,
                    1,
                    4,
                    2,
                    1,
                    5,
                    2,
                    2,
                    2,
                    1,
                    5,
                    1,
                    1,
                    2,
                    3,
                    3,
                    2,
                    1,
                    2,
                    5,
                    3,
                    4,
                    5,
                    4,
                    2,
                    1,
                    4,
                    5,
                    4,
                    4,
                    4,
                    1,
                    4,
                    4,
                    2,
                    2,
                    3,
                    5,
                    3,
                    2,
                    2,
                    5,
                    1,
                    1,
                    1,
                    3,
                    1,
                    5,
                    2,
                    2,
                    1,
                    5,
                    4,
                    1,
                    4,
                    4,
                    2,
                    4,
                    3,
                    5,
                    4,
                    3,
                    1,
                    3,
                    4,
                    2,
                    2,
                    5,
                    2,
                    2,
                    2,
                    1,
                    1,
                    5,
                    1,
                    2,
                    1,
                    1,
                    1,
                    1,
                    5,
                    4,
                    2,
                    5,
                    1,
                    1,
                    5,
                    1,
                    3,
                    2,
                    1,
                    2,
                    5,
                    4,
                    2,
                    5,
                    5,
                    4,
                    2,
                    5,
                    3,
                    4,
                    2,
                    5,
                    4,
                    2,
                    4,
                    1,
                    3,
                    2,
                    2,
                    1,
                    4,
                    4,
                    3,
                    5,
                    4,
                    5,
                    5,
                    3,
                    5,
                    3,
                    3,
                    1,
                    3,
                    2,
                    4,
                    3,
                    1,
                    1,
                    5,
                    4,
                    2,
                    5,
                    2,
                    2,
                    3,
                    4,
                    5,
                    1,
                    2,
                    4,
                    4,
                    5,
                    5,
                    1,
                    2,
                    1,
                    4,
                    5,
                    1,
                    5,
                    1,
                    2,
                    3,
                    4,
                    4,
                    2,
                    3,
                    4,
                    5,
                    2,
                    1,
                    1,
                    5,
                    1,
                    5,
                    5,
                    4,
                    4,
                    5,
                    4,
                    3,
                    1,
                    2,
                    1,
                    3,
                    4,
                    3,
                    4,
                    1,
                    4,
                    4,
                    2,
                    3,
                    5,
                    2,
                    5,
                    5,
                    5,
                    5,
                    1,
                    4,
                    2,
                    3,
                    2,
                    1,
                    1,
                    5,
                    2,
                    5,
                    3,
                    1,
                    3,
                    5,
                    1,
                    1,
                    2,
                    4,
                    3,
                    3,
                    5,
                    2,
                    4,
                    1,
                    2,
                    4,
                    1,
                    2,
                    4,
                    5,
                    3,
                    1,
                    1,
                    4,
                    3,
                    5,
                    1,
                    2,
                    5,
                    4,
                    3,
                    2,
                    4,
                    3,
                    5,
                    5,
                    3,
                    5,
                    2,
                    1,
                    1,
                    2,
                    5,
                    3,
                    1,
                    1,
                    2,
                    1,
                    5,
                    3,
                    5,
                    5,
                    3,
                    5,
                    5,
                    4,
                    4,
                    4,
                    3,
                    2,
                    4,
                    1,
                    3,
                    4,
                    5,
                    3,
                    4,
                    1,
                    3,
                    3,
                    1,
                    4,
                    3,
                    4,
                    1,
                    5,
                    2,
                    1,
                    5,
                    3,
                    4,
                    5,
                    2,
                    2,
                    1,
                    1,
                    4,
                    5,
                    2,
                    3,
                    2,
                    1,
                    4,
                    4,
                    4,
                    1,
                    3,
                    2,
                    4,
                    5,
                    1,
                    5,
                    1,
                    1,
                    1,
                    2,
                    2,
                    1,
                    4,
                    1,
                    2,
                    5,
                    1,
                    2,
                    3,
                    4,
                    4,
                    3,
                    1,
                    5,
                    4,
                    4,
                    2,
                    2,
                    4,
                    4,
                    3,
                    4,
                    4,
                    4,
                    1,
                    2,
                    4,
                    3,
                    3,
                    1,
                    5,
                    5,
                    3,
                    4,
                    1,
                    5,
                    2,
                    2,
                    1,
                    1,
                    2,
                    3,
                    4,
                    3,
                    4,
                    3,
                    5,
                    5,
                    1,
                    1,
                    1,
                    3,
                    4,
                    2,
                    4,
                    1,
                    3,
                    5,
                    4,
                    1,
                    2,
                    3,
                    4,
                    3,
                    1,
                    2,
                    1,
                    3,
                    3,
                    1,
                    4,
                    5,
                    1,
                    1,
                    3,
                    3,
                    4,
                    2,
                    5,
                    4,
                    2,
                    4,
                    4,
                    5,
                    2,
                    5,
                    4,
                    1,
                    5,
                    4,
                    4,
                    5,
                    2,
                    3,
                    1,
                    1,
                    5,
                    3,
                    1,
                    1,
                    5,
                    1,
                    3,
                    2,
                    2,
                    1,
                    5,
                    1,
                    3,
                    5,
                    4,
                    5,
                    5,
                    5,
                    1,
                    1,
                    2,
                    1,
                    2,
                    4,
                    2,
                    2,
                    2,
                    3,
                    2,
                    1,
                    3,
                    5,
                    2,
                    3,
                    5,
                    5,
                    1,
                    4,
                    2,
                    1,
                    2,
                    2,
                    3,
                    1,
                    3,
                    4,
                    2,
                    4,
                    1,
                    5,
                    4,
                    3,
                    1,
                    5,
                    4,
                    1,
                    1,
                    5,
                    3,
                    2,
                    3,
                    2,
                    5,
                    5,
                    2,
                    3,
                    4,
                    1,
                    3,
                    4,
                    1,
                    2,
                    3,
                    3,
                    4,
                    3,
                    3,
                    5,
                    3,
                    1,
                    5,
                    4,
                    4,
                    3,
                    3,
                    4,
                    4,
                    2,
                    2,
                    4,
                    3,
                    3,
                    2,
                    5,
                    4,
                    4,
                    3,
                    4
                  ],
                  "y0": " ",
                  "yaxis": "y"
                }
              ],
              "layout": {
                "boxmode": "group",
                "legend": {
                  "tracegroupgap": 0
                },
                "template": {
                  "data": {
                    "bar": [
                      {
                        "error_x": {
                          "color": "#2a3f5f"
                        },
                        "error_y": {
                          "color": "#2a3f5f"
                        },
                        "marker": {
                          "line": {
                            "color": "#E5ECF6",
                            "width": 0.5
                          },
                          "pattern": {
                            "fillmode": "overlay",
                            "size": 10,
                            "solidity": 0.2
                          }
                        },
                        "type": "bar"
                      }
                    ],
                    "barpolar": [
                      {
                        "marker": {
                          "line": {
                            "color": "#E5ECF6",
                            "width": 0.5
                          },
                          "pattern": {
                            "fillmode": "overlay",
                            "size": 10,
                            "solidity": 0.2
                          }
                        },
                        "type": "barpolar"
                      }
                    ],
                    "carpet": [
                      {
                        "aaxis": {
                          "endlinecolor": "#2a3f5f",
                          "gridcolor": "white",
                          "linecolor": "white",
                          "minorgridcolor": "white",
                          "startlinecolor": "#2a3f5f"
                        },
                        "baxis": {
                          "endlinecolor": "#2a3f5f",
                          "gridcolor": "white",
                          "linecolor": "white",
                          "minorgridcolor": "white",
                          "startlinecolor": "#2a3f5f"
                        },
                        "type": "carpet"
                      }
                    ],
                    "choropleth": [
                      {
                        "colorbar": {
                          "outlinewidth": 0,
                          "ticks": ""
                        },
                        "type": "choropleth"
                      }
                    ],
                    "contour": [
                      {
                        "colorbar": {
                          "outlinewidth": 0,
                          "ticks": ""
                        },
                        "colorscale": [
                          [
                            0,
                            "#0d0887"
                          ],
                          [
                            0.1111111111111111,
                            "#46039f"
                          ],
                          [
                            0.2222222222222222,
                            "#7201a8"
                          ],
                          [
                            0.3333333333333333,
                            "#9c179e"
                          ],
                          [
                            0.4444444444444444,
                            "#bd3786"
                          ],
                          [
                            0.5555555555555556,
                            "#d8576b"
                          ],
                          [
                            0.6666666666666666,
                            "#ed7953"
                          ],
                          [
                            0.7777777777777778,
                            "#fb9f3a"
                          ],
                          [
                            0.8888888888888888,
                            "#fdca26"
                          ],
                          [
                            1,
                            "#f0f921"
                          ]
                        ],
                        "type": "contour"
                      }
                    ],
                    "contourcarpet": [
                      {
                        "colorbar": {
                          "outlinewidth": 0,
                          "ticks": ""
                        },
                        "type": "contourcarpet"
                      }
                    ],
                    "heatmap": [
                      {
                        "colorbar": {
                          "outlinewidth": 0,
                          "ticks": ""
                        },
                        "colorscale": [
                          [
                            0,
                            "#0d0887"
                          ],
                          [
                            0.1111111111111111,
                            "#46039f"
                          ],
                          [
                            0.2222222222222222,
                            "#7201a8"
                          ],
                          [
                            0.3333333333333333,
                            "#9c179e"
                          ],
                          [
                            0.4444444444444444,
                            "#bd3786"
                          ],
                          [
                            0.5555555555555556,
                            "#d8576b"
                          ],
                          [
                            0.6666666666666666,
                            "#ed7953"
                          ],
                          [
                            0.7777777777777778,
                            "#fb9f3a"
                          ],
                          [
                            0.8888888888888888,
                            "#fdca26"
                          ],
                          [
                            1,
                            "#f0f921"
                          ]
                        ],
                        "type": "heatmap"
                      }
                    ],
                    "heatmapgl": [
                      {
                        "colorbar": {
                          "outlinewidth": 0,
                          "ticks": ""
                        },
                        "colorscale": [
                          [
                            0,
                            "#0d0887"
                          ],
                          [
                            0.1111111111111111,
                            "#46039f"
                          ],
                          [
                            0.2222222222222222,
                            "#7201a8"
                          ],
                          [
                            0.3333333333333333,
                            "#9c179e"
                          ],
                          [
                            0.4444444444444444,
                            "#bd3786"
                          ],
                          [
                            0.5555555555555556,
                            "#d8576b"
                          ],
                          [
                            0.6666666666666666,
                            "#ed7953"
                          ],
                          [
                            0.7777777777777778,
                            "#fb9f3a"
                          ],
                          [
                            0.8888888888888888,
                            "#fdca26"
                          ],
                          [
                            1,
                            "#f0f921"
                          ]
                        ],
                        "type": "heatmapgl"
                      }
                    ],
                    "histogram": [
                      {
                        "marker": {
                          "pattern": {
                            "fillmode": "overlay",
                            "size": 10,
                            "solidity": 0.2
                          }
                        },
                        "type": "histogram"
                      }
                    ],
                    "histogram2d": [
                      {
                        "colorbar": {
                          "outlinewidth": 0,
                          "ticks": ""
                        },
                        "colorscale": [
                          [
                            0,
                            "#0d0887"
                          ],
                          [
                            0.1111111111111111,
                            "#46039f"
                          ],
                          [
                            0.2222222222222222,
                            "#7201a8"
                          ],
                          [
                            0.3333333333333333,
                            "#9c179e"
                          ],
                          [
                            0.4444444444444444,
                            "#bd3786"
                          ],
                          [
                            0.5555555555555556,
                            "#d8576b"
                          ],
                          [
                            0.6666666666666666,
                            "#ed7953"
                          ],
                          [
                            0.7777777777777778,
                            "#fb9f3a"
                          ],
                          [
                            0.8888888888888888,
                            "#fdca26"
                          ],
                          [
                            1,
                            "#f0f921"
                          ]
                        ],
                        "type": "histogram2d"
                      }
                    ],
                    "histogram2dcontour": [
                      {
                        "colorbar": {
                          "outlinewidth": 0,
                          "ticks": ""
                        },
                        "colorscale": [
                          [
                            0,
                            "#0d0887"
                          ],
                          [
                            0.1111111111111111,
                            "#46039f"
                          ],
                          [
                            0.2222222222222222,
                            "#7201a8"
                          ],
                          [
                            0.3333333333333333,
                            "#9c179e"
                          ],
                          [
                            0.4444444444444444,
                            "#bd3786"
                          ],
                          [
                            0.5555555555555556,
                            "#d8576b"
                          ],
                          [
                            0.6666666666666666,
                            "#ed7953"
                          ],
                          [
                            0.7777777777777778,
                            "#fb9f3a"
                          ],
                          [
                            0.8888888888888888,
                            "#fdca26"
                          ],
                          [
                            1,
                            "#f0f921"
                          ]
                        ],
                        "type": "histogram2dcontour"
                      }
                    ],
                    "mesh3d": [
                      {
                        "colorbar": {
                          "outlinewidth": 0,
                          "ticks": ""
                        },
                        "type": "mesh3d"
                      }
                    ],
                    "parcoords": [
                      {
                        "line": {
                          "colorbar": {
                            "outlinewidth": 0,
                            "ticks": ""
                          }
                        },
                        "type": "parcoords"
                      }
                    ],
                    "pie": [
                      {
                        "automargin": true,
                        "type": "pie"
                      }
                    ],
                    "scatter": [
                      {
                        "fillpattern": {
                          "fillmode": "overlay",
                          "size": 10,
                          "solidity": 0.2
                        },
                        "type": "scatter"
                      }
                    ],
                    "scatter3d": [
                      {
                        "line": {
                          "colorbar": {
                            "outlinewidth": 0,
                            "ticks": ""
                          }
                        },
                        "marker": {
                          "colorbar": {
                            "outlinewidth": 0,
                            "ticks": ""
                          }
                        },
                        "type": "scatter3d"
                      }
                    ],
                    "scattercarpet": [
                      {
                        "marker": {
                          "colorbar": {
                            "outlinewidth": 0,
                            "ticks": ""
                          }
                        },
                        "type": "scattercarpet"
                      }
                    ],
                    "scattergeo": [
                      {
                        "marker": {
                          "colorbar": {
                            "outlinewidth": 0,
                            "ticks": ""
                          }
                        },
                        "type": "scattergeo"
                      }
                    ],
                    "scattergl": [
                      {
                        "marker": {
                          "colorbar": {
                            "outlinewidth": 0,
                            "ticks": ""
                          }
                        },
                        "type": "scattergl"
                      }
                    ],
                    "scattermapbox": [
                      {
                        "marker": {
                          "colorbar": {
                            "outlinewidth": 0,
                            "ticks": ""
                          }
                        },
                        "type": "scattermapbox"
                      }
                    ],
                    "scatterpolar": [
                      {
                        "marker": {
                          "colorbar": {
                            "outlinewidth": 0,
                            "ticks": ""
                          }
                        },
                        "type": "scatterpolar"
                      }
                    ],
                    "scatterpolargl": [
                      {
                        "marker": {
                          "colorbar": {
                            "outlinewidth": 0,
                            "ticks": ""
                          }
                        },
                        "type": "scatterpolargl"
                      }
                    ],
                    "scatterternary": [
                      {
                        "marker": {
                          "colorbar": {
                            "outlinewidth": 0,
                            "ticks": ""
                          }
                        },
                        "type": "scatterternary"
                      }
                    ],
                    "surface": [
                      {
                        "colorbar": {
                          "outlinewidth": 0,
                          "ticks": ""
                        },
                        "colorscale": [
                          [
                            0,
                            "#0d0887"
                          ],
                          [
                            0.1111111111111111,
                            "#46039f"
                          ],
                          [
                            0.2222222222222222,
                            "#7201a8"
                          ],
                          [
                            0.3333333333333333,
                            "#9c179e"
                          ],
                          [
                            0.4444444444444444,
                            "#bd3786"
                          ],
                          [
                            0.5555555555555556,
                            "#d8576b"
                          ],
                          [
                            0.6666666666666666,
                            "#ed7953"
                          ],
                          [
                            0.7777777777777778,
                            "#fb9f3a"
                          ],
                          [
                            0.8888888888888888,
                            "#fdca26"
                          ],
                          [
                            1,
                            "#f0f921"
                          ]
                        ],
                        "type": "surface"
                      }
                    ],
                    "table": [
                      {
                        "cells": {
                          "fill": {
                            "color": "#EBF0F8"
                          },
                          "line": {
                            "color": "white"
                          }
                        },
                        "header": {
                          "fill": {
                            "color": "#C8D4E3"
                          },
                          "line": {
                            "color": "white"
                          }
                        },
                        "type": "table"
                      }
                    ]
                  },
                  "layout": {
                    "annotationdefaults": {
                      "arrowcolor": "#2a3f5f",
                      "arrowhead": 0,
                      "arrowwidth": 1
                    },
                    "autotypenumbers": "strict",
                    "coloraxis": {
                      "colorbar": {
                        "outlinewidth": 0,
                        "ticks": ""
                      }
                    },
                    "colorscale": {
                      "diverging": [
                        [
                          0,
                          "#8e0152"
                        ],
                        [
                          0.1,
                          "#c51b7d"
                        ],
                        [
                          0.2,
                          "#de77ae"
                        ],
                        [
                          0.3,
                          "#f1b6da"
                        ],
                        [
                          0.4,
                          "#fde0ef"
                        ],
                        [
                          0.5,
                          "#f7f7f7"
                        ],
                        [
                          0.6,
                          "#e6f5d0"
                        ],
                        [
                          0.7,
                          "#b8e186"
                        ],
                        [
                          0.8,
                          "#7fbc41"
                        ],
                        [
                          0.9,
                          "#4d9221"
                        ],
                        [
                          1,
                          "#276419"
                        ]
                      ],
                      "sequential": [
                        [
                          0,
                          "#0d0887"
                        ],
                        [
                          0.1111111111111111,
                          "#46039f"
                        ],
                        [
                          0.2222222222222222,
                          "#7201a8"
                        ],
                        [
                          0.3333333333333333,
                          "#9c179e"
                        ],
                        [
                          0.4444444444444444,
                          "#bd3786"
                        ],
                        [
                          0.5555555555555556,
                          "#d8576b"
                        ],
                        [
                          0.6666666666666666,
                          "#ed7953"
                        ],
                        [
                          0.7777777777777778,
                          "#fb9f3a"
                        ],
                        [
                          0.8888888888888888,
                          "#fdca26"
                        ],
                        [
                          1,
                          "#f0f921"
                        ]
                      ],
                      "sequentialminus": [
                        [
                          0,
                          "#0d0887"
                        ],
                        [
                          0.1111111111111111,
                          "#46039f"
                        ],
                        [
                          0.2222222222222222,
                          "#7201a8"
                        ],
                        [
                          0.3333333333333333,
                          "#9c179e"
                        ],
                        [
                          0.4444444444444444,
                          "#bd3786"
                        ],
                        [
                          0.5555555555555556,
                          "#d8576b"
                        ],
                        [
                          0.6666666666666666,
                          "#ed7953"
                        ],
                        [
                          0.7777777777777778,
                          "#fb9f3a"
                        ],
                        [
                          0.8888888888888888,
                          "#fdca26"
                        ],
                        [
                          1,
                          "#f0f921"
                        ]
                      ]
                    },
                    "colorway": [
                      "#636efa",
                      "#EF553B",
                      "#00cc96",
                      "#ab63fa",
                      "#FFA15A",
                      "#19d3f3",
                      "#FF6692",
                      "#B6E880",
                      "#FF97FF",
                      "#FECB52"
                    ],
                    "font": {
                      "color": "#2a3f5f"
                    },
                    "geo": {
                      "bgcolor": "white",
                      "lakecolor": "white",
                      "landcolor": "#E5ECF6",
                      "showlakes": true,
                      "showland": true,
                      "subunitcolor": "white"
                    },
                    "hoverlabel": {
                      "align": "left"
                    },
                    "hovermode": "closest",
                    "mapbox": {
                      "style": "light"
                    },
                    "paper_bgcolor": "white",
                    "plot_bgcolor": "#E5ECF6",
                    "polar": {
                      "angularaxis": {
                        "gridcolor": "white",
                        "linecolor": "white",
                        "ticks": ""
                      },
                      "bgcolor": "#E5ECF6",
                      "radialaxis": {
                        "gridcolor": "white",
                        "linecolor": "white",
                        "ticks": ""
                      }
                    },
                    "scene": {
                      "xaxis": {
                        "backgroundcolor": "#E5ECF6",
                        "gridcolor": "white",
                        "gridwidth": 2,
                        "linecolor": "white",
                        "showbackground": true,
                        "ticks": "",
                        "zerolinecolor": "white"
                      },
                      "yaxis": {
                        "backgroundcolor": "#E5ECF6",
                        "gridcolor": "white",
                        "gridwidth": 2,
                        "linecolor": "white",
                        "showbackground": true,
                        "ticks": "",
                        "zerolinecolor": "white"
                      },
                      "zaxis": {
                        "backgroundcolor": "#E5ECF6",
                        "gridcolor": "white",
                        "gridwidth": 2,
                        "linecolor": "white",
                        "showbackground": true,
                        "ticks": "",
                        "zerolinecolor": "white"
                      }
                    },
                    "shapedefaults": {
                      "line": {
                        "color": "#2a3f5f"
                      }
                    },
                    "ternary": {
                      "aaxis": {
                        "gridcolor": "white",
                        "linecolor": "white",
                        "ticks": ""
                      },
                      "baxis": {
                        "gridcolor": "white",
                        "linecolor": "white",
                        "ticks": ""
                      },
                      "bgcolor": "#E5ECF6",
                      "caxis": {
                        "gridcolor": "white",
                        "linecolor": "white",
                        "ticks": ""
                      }
                    },
                    "title": {
                      "x": 0.05
                    },
                    "xaxis": {
                      "automargin": true,
                      "gridcolor": "white",
                      "linecolor": "white",
                      "ticks": "",
                      "title": {
                        "standoff": 15
                      },
                      "zerolinecolor": "white",
                      "zerolinewidth": 2
                    },
                    "yaxis": {
                      "automargin": true,
                      "gridcolor": "white",
                      "linecolor": "white",
                      "ticks": "",
                      "title": {
                        "standoff": 15
                      },
                      "zerolinecolor": "white",
                      "zerolinewidth": 2
                    }
                  }
                },
                "title": {
                  "text": "Outlier Detection in Number_of_Companions"
                },
                "xaxis": {
                  "anchor": "y",
                  "domain": [
                    0,
                    1
                  ]
                },
                "yaxis": {
                  "anchor": "x",
                  "domain": [
                    0,
                    1
                  ],
                  "title": {
                    "text": "Number_of_Companions"
                  }
                }
              }
            }
          },
          "metadata": {},
          "output_type": "display_data"
        },
        {
          "data": {
            "application/vnd.plotly.v1+json": {
              "config": {
                "plotlyServerURL": "https://plot.ly"
              },
              "data": [
                {
                  "alignmentgroup": "True",
                  "hovertemplate": "Total_Travel_Cost=%{y}<extra></extra>",
                  "legendgroup": "",
                  "marker": {
                    "color": "#636efa"
                  },
                  "name": "",
                  "notched": false,
                  "offsetgroup": "",
                  "orientation": "v",
                  "showlegend": false,
                  "type": "box",
                  "x0": " ",
                  "xaxis": "x",
                  "y": [
                    1060,
                    3972,
                    666,
                    3644,
                    1885,
                    2633,
                    3585,
                    674,
                    2947,
                    2099,
                    4090,
                    3088,
                    2635,
                    2241,
                    2812,
                    1678,
                    975,
                    3352,
                    4143,
                    1221,
                    4043,
                    361,
                    3542,
                    1216,
                    537,
                    4193,
                    2262,
                    2768,
                    2895,
                    591,
                    4674,
                    2478,
                    400,
                    3304,
                    2931,
                    1770,
                    2890,
                    702,
                    4688,
                    1684,
                    763,
                    1878,
                    1259,
                    3514,
                    1797,
                    3827,
                    2238,
                    1506,
                    1482,
                    4944,
                    4979,
                    3645,
                    2053,
                    4859,
                    1836,
                    898,
                    4937,
                    3674,
                    1907,
                    3710,
                    4696,
                    3131,
                    3782,
                    3472,
                    1994,
                    1569,
                    3419,
                    688,
                    3119,
                    4261,
                    462,
                    823,
                    3923,
                    4290,
                    3370,
                    4699,
                    4882,
                    1645,
                    453,
                    298,
                    3977,
                    4267,
                    4693,
                    1727,
                    4696,
                    1154,
                    762,
                    425,
                    1159,
                    3267,
                    4842,
                    1443,
                    2765,
                    1260,
                    806,
                    1339,
                    327,
                    769,
                    4214,
                    2737,
                    984,
                    4541,
                    3006,
                    2655,
                    3150,
                    4315,
                    1366,
                    2974,
                    3969,
                    4977,
                    2691,
                    3324,
                    204,
                    1076,
                    4564,
                    1893,
                    319,
                    1569,
                    316,
                    1212,
                    4929,
                    759,
                    3543,
                    2494,
                    4449,
                    2944,
                    3318,
                    4748,
                    2679,
                    1957,
                    3049,
                    3930,
                    4811,
                    4792,
                    3946,
                    2938,
                    4113,
                    4580,
                    3573,
                    2746,
                    2974,
                    975,
                    3269,
                    816,
                    1025,
                    3346,
                    3548,
                    2704,
                    1322,
                    2343,
                    3640,
                    3114,
                    4152,
                    1565,
                    595,
                    4371,
                    917,
                    343,
                    4691,
                    3422,
                    1262,
                    3182,
                    1356,
                    4530,
                    1153,
                    3524,
                    1391,
                    3193,
                    3436,
                    3919,
                    2056,
                    1524,
                    3341,
                    3123,
                    913,
                    4468,
                    1443,
                    1094,
                    2196,
                    1023,
                    333,
                    2052,
                    4375,
                    1450,
                    3712,
                    3576,
                    1596,
                    1553,
                    867,
                    4385,
                    739,
                    3975,
                    2708,
                    3156,
                    3524,
                    455,
                    209,
                    1215,
                    2393,
                    4358,
                    4200,
                    710,
                    4813,
                    1868,
                    1660,
                    2924,
                    4378,
                    2248,
                    916,
                    4783,
                    1774,
                    4162,
                    2184,
                    3237,
                    4181,
                    4730,
                    1529,
                    1558,
                    1531,
                    1558,
                    2328,
                    337,
                    3032,
                    4500,
                    4023,
                    960,
                    3645,
                    4655,
                    3466,
                    4388,
                    3322,
                    4899,
                    723,
                    2168,
                    2496,
                    2461,
                    3078,
                    4632,
                    2255,
                    1476,
                    4323,
                    564,
                    1846,
                    1731,
                    2106,
                    4780,
                    1496,
                    325,
                    3796,
                    266,
                    1369,
                    4406,
                    2672,
                    1961,
                    3648,
                    2909,
                    3621,
                    442,
                    2795,
                    667,
                    845,
                    4489,
                    1341,
                    923,
                    4408,
                    4949,
                    2117,
                    2226,
                    1101,
                    460,
                    2260,
                    1819,
                    2576,
                    2194,
                    3877,
                    4227,
                    4629,
                    2835,
                    2760,
                    4050,
                    1514,
                    3098,
                    2821,
                    1265,
                    4870,
                    2912,
                    3254,
                    3887,
                    3310,
                    1402,
                    2235,
                    619,
                    1320,
                    1150,
                    2845,
                    4812,
                    3053,
                    3428,
                    3428,
                    3091,
                    294,
                    2155,
                    2034,
                    4306,
                    2549,
                    2465,
                    1184,
                    2930,
                    4651,
                    3135,
                    3256,
                    3733,
                    3997,
                    3061,
                    3617,
                    1405,
                    2908,
                    1532,
                    3707,
                    774,
                    3481,
                    3800,
                    1405,
                    3772,
                    4580,
                    2403,
                    3320,
                    3632,
                    3901,
                    4622,
                    1189,
                    1151,
                    3576,
                    485,
                    2265,
                    3257,
                    2361,
                    3535,
                    1681,
                    3651,
                    2023,
                    3279,
                    3006,
                    527,
                    3875,
                    2343,
                    4183,
                    364,
                    4625,
                    2398,
                    1114,
                    4377,
                    3794,
                    4766,
                    1004,
                    3777,
                    2961,
                    4153,
                    2773,
                    436,
                    1501,
                    641,
                    3998,
                    2375,
                    240,
                    4883,
                    2274,
                    4463,
                    654,
                    3672,
                    3267,
                    3066,
                    4324,
                    1336,
                    1533,
                    1985,
                    1962,
                    4660,
                    353,
                    2320,
                    1440,
                    4320,
                    4426,
                    4403,
                    3749,
                    2522,
                    4290,
                    529,
                    1541,
                    4262,
                    2621,
                    3926,
                    246,
                    4190,
                    4432,
                    1026,
                    1134,
                    1666,
                    1382,
                    330,
                    3183,
                    3787,
                    4311,
                    1331,
                    3441,
                    2004,
                    4010,
                    4324,
                    4613,
                    471,
                    4561,
                    4684,
                    2250,
                    345,
                    631,
                    2832,
                    1163,
                    2241,
                    4268,
                    1006,
                    2068,
                    1084,
                    1589,
                    4521,
                    2753,
                    1996,
                    3370,
                    2114,
                    2937,
                    202,
                    1092,
                    2576,
                    3881,
                    2882,
                    1555,
                    4335,
                    1154,
                    1174,
                    4172,
                    1113,
                    3587,
                    995,
                    4888,
                    517,
                    1791,
                    4130,
                    1512,
                    2583,
                    1904,
                    2804,
                    4486,
                    756,
                    2919,
                    3941,
                    2603,
                    2212,
                    3317,
                    2264,
                    4995,
                    1207,
                    3726,
                    1447,
                    771,
                    477,
                    2087,
                    1240,
                    1085,
                    3391,
                    4999,
                    3947,
                    2628,
                    1106,
                    2706,
                    3556,
                    238,
                    2404,
                    2023,
                    3293,
                    3978,
                    3711,
                    4226,
                    4865,
                    2180,
                    992,
                    2455,
                    1184,
                    3580,
                    3833,
                    4644,
                    4099,
                    726,
                    4165,
                    1963,
                    316,
                    3988,
                    473,
                    928,
                    4397,
                    413,
                    2648,
                    3317,
                    2920,
                    201,
                    4244,
                    1117,
                    289,
                    4438,
                    1086,
                    2095,
                    834,
                    3344,
                    915,
                    3589,
                    2630,
                    407,
                    221,
                    4309,
                    2334,
                    1760,
                    2369,
                    4980,
                    3902,
                    3865,
                    861,
                    1282,
                    954,
                    552,
                    4088,
                    2979,
                    1155,
                    4903,
                    1473,
                    2825,
                    3179,
                    1594,
                    729,
                    3158,
                    3791,
                    1139,
                    574,
                    4205,
                    2565,
                    3355,
                    3138,
                    1452,
                    4755,
                    3574,
                    3978,
                    3091,
                    2560,
                    2934,
                    2412,
                    1855,
                    1590,
                    1474,
                    1168,
                    481,
                    4493,
                    1208,
                    4785,
                    325,
                    4068,
                    3449,
                    4603,
                    2993,
                    1564,
                    4812,
                    2674,
                    4249,
                    3919,
                    4883,
                    3272,
                    1527,
                    3873,
                    903,
                    3432,
                    4983,
                    4028,
                    1547,
                    3373,
                    1837,
                    1200,
                    3912,
                    2972,
                    3347,
                    4186,
                    935,
                    3538,
                    1161,
                    1226,
                    2701,
                    4599,
                    3030,
                    2611,
                    220,
                    914,
                    340,
                    1163,
                    3835,
                    1892,
                    305,
                    4297,
                    2337,
                    3854,
                    644,
                    1675,
                    1908,
                    1500,
                    4816,
                    2625,
                    3425,
                    4345,
                    3473,
                    3240,
                    1784,
                    1449,
                    861,
                    2666,
                    849,
                    640,
                    4558,
                    1777,
                    3551,
                    1441,
                    1390,
                    4648,
                    272,
                    2114,
                    3246,
                    3913,
                    3810,
                    266,
                    4353,
                    2974,
                    2861,
                    2601,
                    3819,
                    2534,
                    4606,
                    2693,
                    4952,
                    3919,
                    4643,
                    4143,
                    485,
                    4751,
                    1212,
                    1723,
                    3925,
                    1801,
                    3017,
                    1925,
                    4606,
                    605,
                    443,
                    760,
                    2026,
                    4119,
                    272,
                    4425,
                    4561,
                    4459,
                    1333,
                    3146,
                    1248,
                    2729,
                    1163,
                    4423,
                    3236,
                    4338,
                    2910,
                    2153,
                    4937,
                    2150,
                    2330,
                    4444,
                    4485,
                    599,
                    1838,
                    2348,
                    1019,
                    4717,
                    1708,
                    2339,
                    2845,
                    2493,
                    1100,
                    2209,
                    2585,
                    871,
                    3242,
                    2642,
                    4919,
                    4004,
                    2644,
                    216,
                    771,
                    1320,
                    4097,
                    914,
                    2447,
                    4126,
                    2348,
                    3471,
                    3706,
                    1868,
                    2150,
                    1874,
                    2746,
                    2689,
                    2237,
                    1773,
                    1446,
                    2576,
                    1162,
                    1813,
                    4512,
                    2396,
                    969,
                    4183,
                    721,
                    1135,
                    4783,
                    3897,
                    885,
                    4266,
                    1456,
                    2396,
                    501,
                    1959,
                    1568,
                    4508,
                    482,
                    4383,
                    2525,
                    1924,
                    902,
                    1504,
                    3927,
                    1484,
                    2055,
                    3762,
                    4167,
                    1122,
                    2359,
                    2747,
                    2849,
                    1237,
                    2834,
                    4095,
                    897,
                    1243,
                    2028,
                    2223,
                    2285,
                    4483,
                    2520,
                    3492,
                    4631,
                    793,
                    4355,
                    3590,
                    4701,
                    741,
                    3174,
                    631,
                    4478,
                    1369,
                    675,
                    1219,
                    2648,
                    859,
                    598,
                    274,
                    4897,
                    699,
                    3896,
                    2100,
                    4186,
                    4876,
                    2296,
                    2603,
                    3531,
                    3178,
                    2859,
                    885,
                    1819,
                    1631,
                    2661,
                    2174,
                    3671,
                    404,
                    1040,
                    1919,
                    2497,
                    889,
                    3341,
                    871,
                    3926,
                    1649,
                    4460,
                    3870,
                    2138,
                    4679,
                    624,
                    4924,
                    797,
                    1887,
                    2290,
                    4824,
                    3848,
                    3788,
                    3337,
                    3415,
                    4932,
                    543,
                    4866,
                    1927,
                    2279,
                    4827,
                    2991,
                    981,
                    4067,
                    4170,
                    1777,
                    2014,
                    4602,
                    3857,
                    675,
                    684,
                    4854,
                    4763,
                    3022,
                    3124,
                    2098,
                    2467,
                    887,
                    2507,
                    2791,
                    4158,
                    774,
                    3804,
                    1483,
                    1794,
                    2600,
                    2139,
                    3269,
                    3747,
                    3757,
                    3190,
                    2704,
                    787,
                    4031,
                    1898,
                    4633,
                    2526,
                    1874,
                    1130,
                    3140,
                    1289,
                    1270,
                    4419,
                    641,
                    1536,
                    659,
                    4138,
                    1338,
                    2654,
                    4796,
                    4117,
                    623,
                    1950,
                    4378,
                    3146,
                    2531,
                    3010,
                    4693,
                    2923,
                    485,
                    3647,
                    1962,
                    2581,
                    267,
                    4208,
                    1285,
                    978,
                    1692,
                    4140,
                    2244,
                    1258,
                    927,
                    542,
                    3859,
                    4954,
                    1773,
                    2046,
                    971,
                    778,
                    2207,
                    3198,
                    1310,
                    3993,
                    4557,
                    3651,
                    4736,
                    341,
                    4996,
                    1525,
                    4699,
                    540,
                    2629,
                    4848,
                    3066,
                    4692,
                    1556,
                    4296,
                    218,
                    1332,
                    3511,
                    1187,
                    373,
                    2075,
                    4233,
                    2886,
                    1974,
                    4008,
                    2902,
                    4068,
                    2697,
                    2196,
                    4858,
                    970,
                    4924,
                    586,
                    4208,
                    2482,
                    2198,
                    4869,
                    1631,
                    2524,
                    2858,
                    4220,
                    3459,
                    2023,
                    3443,
                    3334,
                    2241,
                    4200,
                    3180,
                    1791,
                    2806,
                    3473,
                    1642,
                    4421,
                    3128,
                    1129,
                    1663,
                    1254,
                    2100,
                    1599,
                    4852,
                    1378,
                    1457,
                    2509,
                    4837,
                    2369,
                    323,
                    3358,
                    985,
                    996,
                    2136,
                    3340,
                    2552,
                    564,
                    1577,
                    540,
                    1756,
                    558,
                    3656,
                    1334,
                    3370,
                    3935,
                    1198,
                    856,
                    2109,
                    1340,
                    2045,
                    2493,
                    1176,
                    1082,
                    2867,
                    4877,
                    3688,
                    4999,
                    3736,
                    4002,
                    2170,
                    1102,
                    3319,
                    2584
                  ],
                  "y0": " ",
                  "yaxis": "y"
                }
              ],
              "layout": {
                "boxmode": "group",
                "legend": {
                  "tracegroupgap": 0
                },
                "template": {
                  "data": {
                    "bar": [
                      {
                        "error_x": {
                          "color": "#2a3f5f"
                        },
                        "error_y": {
                          "color": "#2a3f5f"
                        },
                        "marker": {
                          "line": {
                            "color": "#E5ECF6",
                            "width": 0.5
                          },
                          "pattern": {
                            "fillmode": "overlay",
                            "size": 10,
                            "solidity": 0.2
                          }
                        },
                        "type": "bar"
                      }
                    ],
                    "barpolar": [
                      {
                        "marker": {
                          "line": {
                            "color": "#E5ECF6",
                            "width": 0.5
                          },
                          "pattern": {
                            "fillmode": "overlay",
                            "size": 10,
                            "solidity": 0.2
                          }
                        },
                        "type": "barpolar"
                      }
                    ],
                    "carpet": [
                      {
                        "aaxis": {
                          "endlinecolor": "#2a3f5f",
                          "gridcolor": "white",
                          "linecolor": "white",
                          "minorgridcolor": "white",
                          "startlinecolor": "#2a3f5f"
                        },
                        "baxis": {
                          "endlinecolor": "#2a3f5f",
                          "gridcolor": "white",
                          "linecolor": "white",
                          "minorgridcolor": "white",
                          "startlinecolor": "#2a3f5f"
                        },
                        "type": "carpet"
                      }
                    ],
                    "choropleth": [
                      {
                        "colorbar": {
                          "outlinewidth": 0,
                          "ticks": ""
                        },
                        "type": "choropleth"
                      }
                    ],
                    "contour": [
                      {
                        "colorbar": {
                          "outlinewidth": 0,
                          "ticks": ""
                        },
                        "colorscale": [
                          [
                            0,
                            "#0d0887"
                          ],
                          [
                            0.1111111111111111,
                            "#46039f"
                          ],
                          [
                            0.2222222222222222,
                            "#7201a8"
                          ],
                          [
                            0.3333333333333333,
                            "#9c179e"
                          ],
                          [
                            0.4444444444444444,
                            "#bd3786"
                          ],
                          [
                            0.5555555555555556,
                            "#d8576b"
                          ],
                          [
                            0.6666666666666666,
                            "#ed7953"
                          ],
                          [
                            0.7777777777777778,
                            "#fb9f3a"
                          ],
                          [
                            0.8888888888888888,
                            "#fdca26"
                          ],
                          [
                            1,
                            "#f0f921"
                          ]
                        ],
                        "type": "contour"
                      }
                    ],
                    "contourcarpet": [
                      {
                        "colorbar": {
                          "outlinewidth": 0,
                          "ticks": ""
                        },
                        "type": "contourcarpet"
                      }
                    ],
                    "heatmap": [
                      {
                        "colorbar": {
                          "outlinewidth": 0,
                          "ticks": ""
                        },
                        "colorscale": [
                          [
                            0,
                            "#0d0887"
                          ],
                          [
                            0.1111111111111111,
                            "#46039f"
                          ],
                          [
                            0.2222222222222222,
                            "#7201a8"
                          ],
                          [
                            0.3333333333333333,
                            "#9c179e"
                          ],
                          [
                            0.4444444444444444,
                            "#bd3786"
                          ],
                          [
                            0.5555555555555556,
                            "#d8576b"
                          ],
                          [
                            0.6666666666666666,
                            "#ed7953"
                          ],
                          [
                            0.7777777777777778,
                            "#fb9f3a"
                          ],
                          [
                            0.8888888888888888,
                            "#fdca26"
                          ],
                          [
                            1,
                            "#f0f921"
                          ]
                        ],
                        "type": "heatmap"
                      }
                    ],
                    "heatmapgl": [
                      {
                        "colorbar": {
                          "outlinewidth": 0,
                          "ticks": ""
                        },
                        "colorscale": [
                          [
                            0,
                            "#0d0887"
                          ],
                          [
                            0.1111111111111111,
                            "#46039f"
                          ],
                          [
                            0.2222222222222222,
                            "#7201a8"
                          ],
                          [
                            0.3333333333333333,
                            "#9c179e"
                          ],
                          [
                            0.4444444444444444,
                            "#bd3786"
                          ],
                          [
                            0.5555555555555556,
                            "#d8576b"
                          ],
                          [
                            0.6666666666666666,
                            "#ed7953"
                          ],
                          [
                            0.7777777777777778,
                            "#fb9f3a"
                          ],
                          [
                            0.8888888888888888,
                            "#fdca26"
                          ],
                          [
                            1,
                            "#f0f921"
                          ]
                        ],
                        "type": "heatmapgl"
                      }
                    ],
                    "histogram": [
                      {
                        "marker": {
                          "pattern": {
                            "fillmode": "overlay",
                            "size": 10,
                            "solidity": 0.2
                          }
                        },
                        "type": "histogram"
                      }
                    ],
                    "histogram2d": [
                      {
                        "colorbar": {
                          "outlinewidth": 0,
                          "ticks": ""
                        },
                        "colorscale": [
                          [
                            0,
                            "#0d0887"
                          ],
                          [
                            0.1111111111111111,
                            "#46039f"
                          ],
                          [
                            0.2222222222222222,
                            "#7201a8"
                          ],
                          [
                            0.3333333333333333,
                            "#9c179e"
                          ],
                          [
                            0.4444444444444444,
                            "#bd3786"
                          ],
                          [
                            0.5555555555555556,
                            "#d8576b"
                          ],
                          [
                            0.6666666666666666,
                            "#ed7953"
                          ],
                          [
                            0.7777777777777778,
                            "#fb9f3a"
                          ],
                          [
                            0.8888888888888888,
                            "#fdca26"
                          ],
                          [
                            1,
                            "#f0f921"
                          ]
                        ],
                        "type": "histogram2d"
                      }
                    ],
                    "histogram2dcontour": [
                      {
                        "colorbar": {
                          "outlinewidth": 0,
                          "ticks": ""
                        },
                        "colorscale": [
                          [
                            0,
                            "#0d0887"
                          ],
                          [
                            0.1111111111111111,
                            "#46039f"
                          ],
                          [
                            0.2222222222222222,
                            "#7201a8"
                          ],
                          [
                            0.3333333333333333,
                            "#9c179e"
                          ],
                          [
                            0.4444444444444444,
                            "#bd3786"
                          ],
                          [
                            0.5555555555555556,
                            "#d8576b"
                          ],
                          [
                            0.6666666666666666,
                            "#ed7953"
                          ],
                          [
                            0.7777777777777778,
                            "#fb9f3a"
                          ],
                          [
                            0.8888888888888888,
                            "#fdca26"
                          ],
                          [
                            1,
                            "#f0f921"
                          ]
                        ],
                        "type": "histogram2dcontour"
                      }
                    ],
                    "mesh3d": [
                      {
                        "colorbar": {
                          "outlinewidth": 0,
                          "ticks": ""
                        },
                        "type": "mesh3d"
                      }
                    ],
                    "parcoords": [
                      {
                        "line": {
                          "colorbar": {
                            "outlinewidth": 0,
                            "ticks": ""
                          }
                        },
                        "type": "parcoords"
                      }
                    ],
                    "pie": [
                      {
                        "automargin": true,
                        "type": "pie"
                      }
                    ],
                    "scatter": [
                      {
                        "fillpattern": {
                          "fillmode": "overlay",
                          "size": 10,
                          "solidity": 0.2
                        },
                        "type": "scatter"
                      }
                    ],
                    "scatter3d": [
                      {
                        "line": {
                          "colorbar": {
                            "outlinewidth": 0,
                            "ticks": ""
                          }
                        },
                        "marker": {
                          "colorbar": {
                            "outlinewidth": 0,
                            "ticks": ""
                          }
                        },
                        "type": "scatter3d"
                      }
                    ],
                    "scattercarpet": [
                      {
                        "marker": {
                          "colorbar": {
                            "outlinewidth": 0,
                            "ticks": ""
                          }
                        },
                        "type": "scattercarpet"
                      }
                    ],
                    "scattergeo": [
                      {
                        "marker": {
                          "colorbar": {
                            "outlinewidth": 0,
                            "ticks": ""
                          }
                        },
                        "type": "scattergeo"
                      }
                    ],
                    "scattergl": [
                      {
                        "marker": {
                          "colorbar": {
                            "outlinewidth": 0,
                            "ticks": ""
                          }
                        },
                        "type": "scattergl"
                      }
                    ],
                    "scattermapbox": [
                      {
                        "marker": {
                          "colorbar": {
                            "outlinewidth": 0,
                            "ticks": ""
                          }
                        },
                        "type": "scattermapbox"
                      }
                    ],
                    "scatterpolar": [
                      {
                        "marker": {
                          "colorbar": {
                            "outlinewidth": 0,
                            "ticks": ""
                          }
                        },
                        "type": "scatterpolar"
                      }
                    ],
                    "scatterpolargl": [
                      {
                        "marker": {
                          "colorbar": {
                            "outlinewidth": 0,
                            "ticks": ""
                          }
                        },
                        "type": "scatterpolargl"
                      }
                    ],
                    "scatterternary": [
                      {
                        "marker": {
                          "colorbar": {
                            "outlinewidth": 0,
                            "ticks": ""
                          }
                        },
                        "type": "scatterternary"
                      }
                    ],
                    "surface": [
                      {
                        "colorbar": {
                          "outlinewidth": 0,
                          "ticks": ""
                        },
                        "colorscale": [
                          [
                            0,
                            "#0d0887"
                          ],
                          [
                            0.1111111111111111,
                            "#46039f"
                          ],
                          [
                            0.2222222222222222,
                            "#7201a8"
                          ],
                          [
                            0.3333333333333333,
                            "#9c179e"
                          ],
                          [
                            0.4444444444444444,
                            "#bd3786"
                          ],
                          [
                            0.5555555555555556,
                            "#d8576b"
                          ],
                          [
                            0.6666666666666666,
                            "#ed7953"
                          ],
                          [
                            0.7777777777777778,
                            "#fb9f3a"
                          ],
                          [
                            0.8888888888888888,
                            "#fdca26"
                          ],
                          [
                            1,
                            "#f0f921"
                          ]
                        ],
                        "type": "surface"
                      }
                    ],
                    "table": [
                      {
                        "cells": {
                          "fill": {
                            "color": "#EBF0F8"
                          },
                          "line": {
                            "color": "white"
                          }
                        },
                        "header": {
                          "fill": {
                            "color": "#C8D4E3"
                          },
                          "line": {
                            "color": "white"
                          }
                        },
                        "type": "table"
                      }
                    ]
                  },
                  "layout": {
                    "annotationdefaults": {
                      "arrowcolor": "#2a3f5f",
                      "arrowhead": 0,
                      "arrowwidth": 1
                    },
                    "autotypenumbers": "strict",
                    "coloraxis": {
                      "colorbar": {
                        "outlinewidth": 0,
                        "ticks": ""
                      }
                    },
                    "colorscale": {
                      "diverging": [
                        [
                          0,
                          "#8e0152"
                        ],
                        [
                          0.1,
                          "#c51b7d"
                        ],
                        [
                          0.2,
                          "#de77ae"
                        ],
                        [
                          0.3,
                          "#f1b6da"
                        ],
                        [
                          0.4,
                          "#fde0ef"
                        ],
                        [
                          0.5,
                          "#f7f7f7"
                        ],
                        [
                          0.6,
                          "#e6f5d0"
                        ],
                        [
                          0.7,
                          "#b8e186"
                        ],
                        [
                          0.8,
                          "#7fbc41"
                        ],
                        [
                          0.9,
                          "#4d9221"
                        ],
                        [
                          1,
                          "#276419"
                        ]
                      ],
                      "sequential": [
                        [
                          0,
                          "#0d0887"
                        ],
                        [
                          0.1111111111111111,
                          "#46039f"
                        ],
                        [
                          0.2222222222222222,
                          "#7201a8"
                        ],
                        [
                          0.3333333333333333,
                          "#9c179e"
                        ],
                        [
                          0.4444444444444444,
                          "#bd3786"
                        ],
                        [
                          0.5555555555555556,
                          "#d8576b"
                        ],
                        [
                          0.6666666666666666,
                          "#ed7953"
                        ],
                        [
                          0.7777777777777778,
                          "#fb9f3a"
                        ],
                        [
                          0.8888888888888888,
                          "#fdca26"
                        ],
                        [
                          1,
                          "#f0f921"
                        ]
                      ],
                      "sequentialminus": [
                        [
                          0,
                          "#0d0887"
                        ],
                        [
                          0.1111111111111111,
                          "#46039f"
                        ],
                        [
                          0.2222222222222222,
                          "#7201a8"
                        ],
                        [
                          0.3333333333333333,
                          "#9c179e"
                        ],
                        [
                          0.4444444444444444,
                          "#bd3786"
                        ],
                        [
                          0.5555555555555556,
                          "#d8576b"
                        ],
                        [
                          0.6666666666666666,
                          "#ed7953"
                        ],
                        [
                          0.7777777777777778,
                          "#fb9f3a"
                        ],
                        [
                          0.8888888888888888,
                          "#fdca26"
                        ],
                        [
                          1,
                          "#f0f921"
                        ]
                      ]
                    },
                    "colorway": [
                      "#636efa",
                      "#EF553B",
                      "#00cc96",
                      "#ab63fa",
                      "#FFA15A",
                      "#19d3f3",
                      "#FF6692",
                      "#B6E880",
                      "#FF97FF",
                      "#FECB52"
                    ],
                    "font": {
                      "color": "#2a3f5f"
                    },
                    "geo": {
                      "bgcolor": "white",
                      "lakecolor": "white",
                      "landcolor": "#E5ECF6",
                      "showlakes": true,
                      "showland": true,
                      "subunitcolor": "white"
                    },
                    "hoverlabel": {
                      "align": "left"
                    },
                    "hovermode": "closest",
                    "mapbox": {
                      "style": "light"
                    },
                    "paper_bgcolor": "white",
                    "plot_bgcolor": "#E5ECF6",
                    "polar": {
                      "angularaxis": {
                        "gridcolor": "white",
                        "linecolor": "white",
                        "ticks": ""
                      },
                      "bgcolor": "#E5ECF6",
                      "radialaxis": {
                        "gridcolor": "white",
                        "linecolor": "white",
                        "ticks": ""
                      }
                    },
                    "scene": {
                      "xaxis": {
                        "backgroundcolor": "#E5ECF6",
                        "gridcolor": "white",
                        "gridwidth": 2,
                        "linecolor": "white",
                        "showbackground": true,
                        "ticks": "",
                        "zerolinecolor": "white"
                      },
                      "yaxis": {
                        "backgroundcolor": "#E5ECF6",
                        "gridcolor": "white",
                        "gridwidth": 2,
                        "linecolor": "white",
                        "showbackground": true,
                        "ticks": "",
                        "zerolinecolor": "white"
                      },
                      "zaxis": {
                        "backgroundcolor": "#E5ECF6",
                        "gridcolor": "white",
                        "gridwidth": 2,
                        "linecolor": "white",
                        "showbackground": true,
                        "ticks": "",
                        "zerolinecolor": "white"
                      }
                    },
                    "shapedefaults": {
                      "line": {
                        "color": "#2a3f5f"
                      }
                    },
                    "ternary": {
                      "aaxis": {
                        "gridcolor": "white",
                        "linecolor": "white",
                        "ticks": ""
                      },
                      "baxis": {
                        "gridcolor": "white",
                        "linecolor": "white",
                        "ticks": ""
                      },
                      "bgcolor": "#E5ECF6",
                      "caxis": {
                        "gridcolor": "white",
                        "linecolor": "white",
                        "ticks": ""
                      }
                    },
                    "title": {
                      "x": 0.05
                    },
                    "xaxis": {
                      "automargin": true,
                      "gridcolor": "white",
                      "linecolor": "white",
                      "ticks": "",
                      "title": {
                        "standoff": 15
                      },
                      "zerolinecolor": "white",
                      "zerolinewidth": 2
                    },
                    "yaxis": {
                      "automargin": true,
                      "gridcolor": "white",
                      "linecolor": "white",
                      "ticks": "",
                      "title": {
                        "standoff": 15
                      },
                      "zerolinecolor": "white",
                      "zerolinewidth": 2
                    }
                  }
                },
                "title": {
                  "text": "Outlier Detection in Total_Travel_Cost"
                },
                "xaxis": {
                  "anchor": "y",
                  "domain": [
                    0,
                    1
                  ]
                },
                "yaxis": {
                  "anchor": "x",
                  "domain": [
                    0,
                    1
                  ],
                  "title": {
                    "text": "Total_Travel_Cost"
                  }
                }
              }
            }
          },
          "metadata": {},
          "output_type": "display_data"
        },
        {
          "name": "stdout",
          "output_type": "stream",
          "text": [
            "Outlier Counts per Column:\n",
            "{'Tourist_ID': 0, 'Travel_Duration_Days': 0, 'Number_of_Companions': 0, 'Total_Travel_Cost': 0}\n"
          ]
        }
      ],
      "source": [
        "import plotly.express as px  \n",
        "\n",
        "# Select numerical columns only\n",
        "numerical_cols = df.select_dtypes(include=['number']).columns\n",
        "\n",
        "# Store outlier counts\n",
        "outlier_counts = {}\n",
        "\n",
        "# Iterate through each numerical column\n",
        "for col in numerical_cols:\n",
        "    Q1 = df[col].quantile(0.25)\n",
        "    Q3 = df[col].quantile(0.75)\n",
        "    IQR = Q3 - Q1\n",
        "\n",
        "    # Define outlier thresholds\n",
        "    lower_bound = Q1 - 1.5 * IQR\n",
        "    upper_bound = Q3 + 1.5 * IQR\n",
        "\n",
        "    # Identify outliers\n",
        "    outliers = df[(df[col] < lower_bound) | (df[col] > upper_bound)]\n",
        "    outlier_counts[col] = outliers.shape[0]\n",
        "\n",
        "    # Display box plot for each numerical column\n",
        "    fig = px.box(df, y=col, title=f\"Outlier Detection in {col}\")\n",
        "    fig.show()\n",
        "\n",
        "# Print outlier summary\n",
        "print(\"Outlier Counts per Column:\")\n",
        "print(outlier_counts)"
      ]
    },
    {
      "cell_type": "markdown",
      "metadata": {
        "id": "ZY3l0-AxO93d"
      },
      "source": [
        "---"
      ]
    },
    {
      "cell_type": "markdown",
      "metadata": {
        "id": "uFQo3ycuO-v6"
      },
      "source": [
        "# Statistical Analysis & Insights "
      ]
    },
    {
      "cell_type": "markdown",
      "metadata": {},
      "source": [
        "1. Correlation Analysis\n",
        "-  To check  for the correlation between Total_Travel_Cost and Travel_Duration_Days using scatterplot with trend lines"
      ]
    },
    {
      "cell_type": "markdown",
      "metadata": {},
      "source": [
        "---"
      ]
    },
    {
      "cell_type": "code",
      "execution_count": null,
      "metadata": {},
      "outputs": [
        {
          "data": {
            "image/png": "[encoded data removed]",
            "text/plain": [
              "<Figure size 1500x600 with 2 Axes>"
            ]
          },
          "metadata": {},
          "output_type": "display_data"
        },
        {
          "data": {
            "text/plain": [
              "(0.022974554234132964,\n",
              " 0.46801883299520997,\n",
              " -0.6239126133813776,\n",
              " 5.576011858974995e-109)"
            ]
          },
          "execution_count": 11,
          "metadata": {},
          "output_type": "execute_result"
        }
      ],
      "source": [
        "import seaborn as sns\n",
        "import matplotlib.pyplot as plt\n",
        "import scipy.stats as stats\n",
        "\n",
        "# Step 2: Create a new column for Cost Per Day\n",
        "df[\"Cost_Per_Day\"] = df[\"Total_Travel_Cost\"] / df[\"Travel_Duration_Days\"]\n",
        "\n",
        "# Step 3: Analyze correlations\n",
        "correlation_total_cost, p_value_total_cost = stats.pearsonr(df[\"Travel_Duration_Days\"], df[\"Total_Travel_Cost\"])\n",
        "correlation_cost_per_day, p_value_cost_per_day = stats.pearsonr(df[\"Travel_Duration_Days\"], df[\"Cost_Per_Day\"])\n",
        "\n",
        "# Step 4: Visualize results\n",
        "fig, axes = plt.subplots(1, 2, figsize=(15, 6))\n",
        "\n",
        "# Scatter plot for Total Travel Cost vs. Travel Duration\n",
        "sns.regplot(x=\"Travel_Duration_Days\", y=\"Total_Travel_Cost\", data=df, scatter_kws={\"alpha\": 0.5}, line_kws={\"color\": \"red\"}, ax=axes[0])\n",
        "axes[0].set_title(f\"Travel Duration vs. Total Travel Cost\\nCorrelation: {correlation_total_cost:.2f} (p={p_value_total_cost:.4f})\")\n",
        "axes[0].set_xlabel(\"Travel Duration (Days)\")\n",
        "axes[0].set_ylabel(\"Total Travel Cost ($)\")\n",
        "\n",
        "# Scatter plot for Travel Duration vs. Cost Per Day\n",
        "sns.regplot(x=\"Travel_Duration_Days\", y=\"Cost_Per_Day\", data=df, scatter_kws={\"alpha\": 0.5}, line_kws={\"color\": \"blue\"}, ax=axes[1])\n",
        "axes[1].set_title(f\"Travel Duration vs. Cost Per Day\\nCorrelation: {correlation_cost_per_day:.2f} (p={p_value_cost_per_day:.4f})\")\n",
        "axes[1].set_xlabel(\"Travel Duration (Days)\")\n",
        "axes[1].set_ylabel(\"Cost Per Day ($)\")\n",
        "\n",
        "plt.tight_layout()\n",
        "plt.show()\n",
        "\n",
        "# Return correlation results\n",
        "correlation_total_cost, p_value_total_cost, correlation_cost_per_day, p_value_cost_per_day\n"
      ]
    },
    {
      "cell_type": "markdown",
      "metadata": {},
      "source": [
        "2. Regression Analysis on Cost per Day Across Different Trip Durations:\n",
        "- By removing potential outliers in the Total_Travel_Cost and Travel_Duration_Days we avoided skewed results. Also perform a regression analysis to quantify the impact of duration on cost per day"
      ]
    },
    {
      "cell_type": "code",
      "execution_count": null,
      "metadata": {},
      "outputs": [
        {
          "data": {
            "image/png": "[encoded data removed]",
            "text/plain": [
              "<Figure size 1500x600 with 2 Axes>"
            ]
          },
          "metadata": {},
          "output_type": "display_data"
        },
        {
          "data": {
            "text/html": [
              "<table class=\"simpletable\">\n",
              "<caption>OLS Regression Results</caption>\n",
              "<tr>\n",
              "  <th>Dep. Variable:</th>      <td>Cost_Per_Day</td>   <th>  R-squared:         </th> <td>   0.389</td> \n",
              "</tr>\n",
              "<tr>\n",
              "  <th>Model:</th>                   <td>OLS</td>       <th>  Adj. R-squared:    </th> <td>   0.389</td> \n",
              "</tr>\n",
              "<tr>\n",
              "  <th>Method:</th>             <td>Least Squares</td>  <th>  F-statistic:       </th> <td>   636.1</td> \n",
              "</tr>\n",
              "<tr>\n",
              "  <th>Date:</th>             <td>Sat, 08 Feb 2025</td> <th>  Prob (F-statistic):</th> <td>5.58e-109</td>\n",
              "</tr>\n",
              "<tr>\n",
              "  <th>Time:</th>                 <td>09:43:39</td>     <th>  Log-Likelihood:    </th> <td> -7157.0</td> \n",
              "</tr>\n",
              "<tr>\n",
              "  <th>No. Observations:</th>      <td>  1000</td>      <th>  AIC:               </th> <td>1.432e+04</td>\n",
              "</tr>\n",
              "<tr>\n",
              "  <th>Df Residuals:</th>          <td>   998</td>      <th>  BIC:               </th> <td>1.433e+04</td>\n",
              "</tr>\n",
              "<tr>\n",
              "  <th>Df Model:</th>              <td>     1</td>      <th>                     </th>     <td> </td>    \n",
              "</tr>\n",
              "<tr>\n",
              "  <th>Covariance Type:</th>      <td>nonrobust</td>    <th>                     </th>     <td> </td>    \n",
              "</tr>\n",
              "</table>\n",
              "<table class=\"simpletable\">\n",
              "<tr>\n",
              "            <td></td>              <th>coef</th>     <th>std err</th>      <th>t</th>      <th>P>|t|</th>  <th>[0.025</th>    <th>0.975]</th>  \n",
              "</tr>\n",
              "<tr>\n",
              "  <th>const</th>                <td>  854.7947</td> <td>   21.729</td> <td>   39.339</td> <td> 0.000</td> <td>  812.155</td> <td>  897.434</td>\n",
              "</tr>\n",
              "<tr>\n",
              "  <th>Travel_Duration_Days</th> <td>  -45.1726</td> <td>    1.791</td> <td>  -25.221</td> <td> 0.000</td> <td>  -48.687</td> <td>  -41.658</td>\n",
              "</tr>\n",
              "</table>\n",
              "<table class=\"simpletable\">\n",
              "<tr>\n",
              "  <th>Omnibus:</th>       <td>439.329</td> <th>  Durbin-Watson:     </th> <td>   2.118</td>\n",
              "</tr>\n",
              "<tr>\n",
              "  <th>Prob(Omnibus):</th> <td> 0.000</td>  <th>  Jarque-Bera (JB):  </th> <td>2936.961</td>\n",
              "</tr>\n",
              "<tr>\n",
              "  <th>Skew:</th>          <td> 1.891</td>  <th>  Prob(JB):          </th> <td>    0.00</td>\n",
              "</tr>\n",
              "<tr>\n",
              "  <th>Kurtosis:</th>      <td>10.496</td>  <th>  Cond. No.          </th> <td>    27.0</td>\n",
              "</tr>\n",
              "</table><br/><br/>Notes:<br/>[1] Standard Errors assume that the covariance matrix of the errors is correctly specified."
            ],
            "text/latex": [
              "\\begin{center}\n",
              "\\begin{tabular}{lclc}\n",
              "\\toprule\n",
              "\\textbf{Dep. Variable:}         &  Cost\\_Per\\_Day  & \\textbf{  R-squared:         } &     0.389   \\\\\n",
              "\\textbf{Model:}                 &       OLS        & \\textbf{  Adj. R-squared:    } &     0.389   \\\\\n",
              "\\textbf{Method:}                &  Least Squares   & \\textbf{  F-statistic:       } &     636.1   \\\\\n",
              "\\textbf{Date:}                  & Sat, 08 Feb 2025 & \\textbf{  Prob (F-statistic):} & 5.58e-109   \\\\\n",
              "\\textbf{Time:}                  &     09:43:39     & \\textbf{  Log-Likelihood:    } &   -7157.0   \\\\\n",
              "\\textbf{No. Observations:}      &        1000      & \\textbf{  AIC:               } & 1.432e+04   \\\\\n",
              "\\textbf{Df Residuals:}          &         998      & \\textbf{  BIC:               } & 1.433e+04   \\\\\n",
              "\\textbf{Df Model:}              &           1      & \\textbf{                     } &             \\\\\n",
              "\\textbf{Covariance Type:}       &    nonrobust     & \\textbf{                     } &             \\\\\n",
              "\\bottomrule\n",
              "\\end{tabular}\n",
              "\\begin{tabular}{lcccccc}\n",
              "                                & \\textbf{coef} & \\textbf{std err} & \\textbf{t} & \\textbf{P$> |$t$|$} & \\textbf{[0.025} & \\textbf{0.975]}  \\\\\n",
              "\\midrule\n",
              "\\textbf{const}                  &     854.7947  &       21.729     &    39.339  &         0.000        &      812.155    &      897.434     \\\\\n",
              "\\textbf{Travel\\_Duration\\_Days} &     -45.1726  &        1.791     &   -25.221  &         0.000        &      -48.687    &      -41.658     \\\\\n",
              "\\bottomrule\n",
              "\\end{tabular}\n",
              "\\begin{tabular}{lclc}\n",
              "\\textbf{Omnibus:}       & 439.329 & \\textbf{  Durbin-Watson:     } &    2.118  \\\\\n",
              "\\textbf{Prob(Omnibus):} &   0.000 & \\textbf{  Jarque-Bera (JB):  } & 2936.961  \\\\\n",
              "\\textbf{Skew:}          &   1.891 & \\textbf{  Prob(JB):          } &     0.00  \\\\\n",
              "\\textbf{Kurtosis:}      &  10.496 & \\textbf{  Cond. No.          } &     27.0  \\\\\n",
              "\\bottomrule\n",
              "\\end{tabular}\n",
              "%\\caption{OLS Regression Results}\n",
              "\\end{center}\n",
              "\n",
              "Notes: \\newline\n",
              " [1] Standard Errors assume that the covariance matrix of the errors is correctly specified."
            ],
            "text/plain": [
              "<class 'statsmodels.iolib.summary.Summary'>\n",
              "\"\"\"\n",
              "                            OLS Regression Results                            \n",
              "==============================================================================\n",
              "Dep. Variable:           Cost_Per_Day   R-squared:                       0.389\n",
              "Model:                            OLS   Adj. R-squared:                  0.389\n",
              "Method:                 Least Squares   F-statistic:                     636.1\n",
              "Date:                Sat, 08 Feb 2025   Prob (F-statistic):          5.58e-109\n",
              "Time:                        09:43:39   Log-Likelihood:                -7157.0\n",
              "No. Observations:                1000   AIC:                         1.432e+04\n",
              "Df Residuals:                     998   BIC:                         1.433e+04\n",
              "Df Model:                           1                                         \n",
              "Covariance Type:            nonrobust                                         \n",
              "========================================================================================\n",
              "                           coef    std err          t      P>|t|      [0.025      0.975]\n",
              "----------------------------------------------------------------------------------------\n",
              "const                  854.7947     21.729     39.339      0.000     812.155     897.434\n",
              "Travel_Duration_Days   -45.1726      1.791    -25.221      0.000     -48.687     -41.658\n",
              "==============================================================================\n",
              "Omnibus:                      439.329   Durbin-Watson:                   2.118\n",
              "Prob(Omnibus):                  0.000   Jarque-Bera (JB):             2936.961\n",
              "Skew:                           1.891   Prob(JB):                         0.00\n",
              "Kurtosis:                      10.496   Cond. No.                         27.0\n",
              "==============================================================================\n",
              "\n",
              "Notes:\n",
              "[1] Standard Errors assume that the covariance matrix of the errors is correctly specified.\n",
              "\"\"\""
            ]
          },
          "execution_count": 12,
          "metadata": {},
          "output_type": "execute_result"
        }
      ],
      "source": [
        "import numpy as np\n",
        "import statsmodels.api as sm\n",
        "import warnings\n",
        "warnings.filterwarnings(\"ignore\")\n",
        "\n",
        "# Step 1: Remove Outliers using IQR (Interquartile Range)\n",
        "def remove_outliers(df, column):\n",
        "    Q1 = df[column].quantile(0.25)\n",
        "    Q3 = df[column].quantile(0.75)\n",
        "    IQR = Q3 - Q1\n",
        "    lower_bound = Q1 - 1.5 * IQR\n",
        "    upper_bound = Q3 + 1.5 * IQR\n",
        "    return df[(df[column] >= lower_bound) & (df[column] <= upper_bound)]\n",
        "\n",
        "df_cleaned = remove_outliers(df, \"Total_Travel_Cost\")\n",
        "df_cleaned = remove_outliers(df_cleaned, \"Travel_Duration_Days\")\n",
        "\n",
        "# Step 2: Categorize Travel Durations\n",
        "bins = [0, 5, 10, np.inf]  # Define short, medium, long trips\n",
        "labels = [\"Short Trip (≤5 days)\", \"Medium Trip (6-10 days)\", \"Long Trip (>10 days)\"]\n",
        "df_cleaned[\"Trip_Category\"] = pd.cut(df_cleaned[\"Travel_Duration_Days\"], bins=bins, labels=labels)\n",
        "\n",
        "# Step 3: Perform Regression Analysis (Cost Per Day ~ Travel Duration)\n",
        "X = sm.add_constant(df_cleaned[\"Travel_Duration_Days\"])  # Add intercept\n",
        "y = df_cleaned[\"Cost_Per_Day\"]\n",
        "model = sm.OLS(y, X).fit()\n",
        "regression_summary = model.summary()\n",
        "\n",
        "# Step 4: Enhanced Visualizations\n",
        "fig, axes = plt.subplots(1, 2, figsize=(15, 6))\n",
        "\n",
        "# Boxplot: Cost Per Day by Trip Category\n",
        "sns.boxplot(x=\"Trip_Category\", y=\"Cost_Per_Day\",data=df_cleaned, ax=axes[0], palette=\"coolwarm\")\n",
        "axes[0].set_title(\"Cost Per Day by Trip Category\")\n",
        "axes[0].set_xlabel(\"Trip Category\")\n",
        "axes[0].set_ylabel(\"Cost Per Day ($)\")\n",
        "\n",
        "# Scatter Plot with Regression Line: Travel Duration vs. Cost Per Day\n",
        "sns.regplot(x=\"Travel_Duration_Days\", y=\"Cost_Per_Day\", data=df_cleaned, scatter_kws={\"alpha\": 0.5}, line_kws={\"color\": \"blue\"}, ax=axes[1])\n",
        "axes[1].set_title(f\"Travel Duration vs. Cost Per Day\\nRegression Slope: {model.params[1]:.2f}\")\n",
        "axes[1].set_xlabel(\"Travel Duration (Days)\")\n",
        "axes[1].set_ylabel(\"Cost Per Day ($)\")\n",
        "\n",
        "plt.tight_layout()\n",
        "plt.show()\n",
        "\n",
        "# Output regression summary\n",
        "regression_summary\n"
      ]
    },
    {
      "cell_type": "markdown",
      "metadata": {},
      "source": [
        "## Travel Costs and Duration Insights \n",
        "To create visualisation showing the travel cost of each city with regards to length of travel and season.\n",
        "Firstly, the dataset is grouped by City_Visited and Country_Visited, along with Latitude & Longitude. This was then used yo create a Mapbox using the geographical location of the destination."
      ]
    },
    {
      "cell_type": "code",
      "execution_count": null,
      "metadata": {},
      "outputs": [
        {
          "data": {
            "text/html": [
              "<div>\n",
              "<style scoped>\n",
              "    .dataframe tbody tr th:only-of-type {\n",
              "        vertical-align: middle;\n",
              "    }\n",
              "\n",
              "    .dataframe tbody tr th {\n",
              "        vertical-align: top;\n",
              "    }\n",
              "\n",
              "    .dataframe thead th {\n",
              "        text-align: right;\n",
              "    }\n",
              "</style>\n",
              "<table border=\"1\" class=\"dataframe\">\n",
              "  <thead>\n",
              "    <tr style=\"text-align: right;\">\n",
              "      <th></th>\n",
              "      <th>Tourist_ID</th>\n",
              "      <th>Country_Visited</th>\n",
              "      <th>City_Visited</th>\n",
              "      <th>Mode_of_Travel</th>\n",
              "      <th>Travel_Duration_Days</th>\n",
              "      <th>Number_of_Companions</th>\n",
              "      <th>Total_Travel_Cost</th>\n",
              "      <th>Accommodation_Type</th>\n",
              "      <th>Main_Purpose</th>\n",
              "      <th>Season_of_Visit</th>\n",
              "      <th>Cost_Per_Day</th>\n",
              "      <th>Latitude</th>\n",
              "      <th>Longitude</th>\n",
              "    </tr>\n",
              "  </thead>\n",
              "  <tbody>\n",
              "    <tr>\n",
              "      <th>0</th>\n",
              "      <td>1</td>\n",
              "      <td>Germany</td>\n",
              "      <td>Hamburg</td>\n",
              "      <td>Flight</td>\n",
              "      <td>8</td>\n",
              "      <td>4</td>\n",
              "      <td>1060</td>\n",
              "      <td>Hotel</td>\n",
              "      <td>Family Visit</td>\n",
              "      <td>Summer</td>\n",
              "      <td>132.500000</td>\n",
              "      <td>53.5511</td>\n",
              "      <td>9.9937</td>\n",
              "    </tr>\n",
              "    <tr>\n",
              "      <th>1</th>\n",
              "      <td>2</td>\n",
              "      <td>Germany</td>\n",
              "      <td>Berlin</td>\n",
              "      <td>Car</td>\n",
              "      <td>16</td>\n",
              "      <td>3</td>\n",
              "      <td>3972</td>\n",
              "      <td>Hostel</td>\n",
              "      <td>Family Visit</td>\n",
              "      <td>Winter</td>\n",
              "      <td>248.250000</td>\n",
              "      <td>52.5200</td>\n",
              "      <td>13.4050</td>\n",
              "    </tr>\n",
              "    <tr>\n",
              "      <th>2</th>\n",
              "      <td>3</td>\n",
              "      <td>UK</td>\n",
              "      <td>Manchester</td>\n",
              "      <td>Bicycle</td>\n",
              "      <td>8</td>\n",
              "      <td>2</td>\n",
              "      <td>666</td>\n",
              "      <td>Camping</td>\n",
              "      <td>Business</td>\n",
              "      <td>Winter</td>\n",
              "      <td>83.250000</td>\n",
              "      <td>53.4808</td>\n",
              "      <td>-2.2426</td>\n",
              "    </tr>\n",
              "    <tr>\n",
              "      <th>3</th>\n",
              "      <td>4</td>\n",
              "      <td>Greece</td>\n",
              "      <td>Thessaloniki</td>\n",
              "      <td>Bicycle</td>\n",
              "      <td>12</td>\n",
              "      <td>3</td>\n",
              "      <td>3644</td>\n",
              "      <td>Hotel</td>\n",
              "      <td>Business</td>\n",
              "      <td>Summer</td>\n",
              "      <td>303.666667</td>\n",
              "      <td>40.6401</td>\n",
              "      <td>22.9444</td>\n",
              "    </tr>\n",
              "    <tr>\n",
              "      <th>4</th>\n",
              "      <td>5</td>\n",
              "      <td>Greece</td>\n",
              "      <td>Thessaloniki</td>\n",
              "      <td>Flight</td>\n",
              "      <td>5</td>\n",
              "      <td>3</td>\n",
              "      <td>1885</td>\n",
              "      <td>Airbnb</td>\n",
              "      <td>Leisure</td>\n",
              "      <td>Spring</td>\n",
              "      <td>377.000000</td>\n",
              "      <td>40.6401</td>\n",
              "      <td>22.9444</td>\n",
              "    </tr>\n",
              "    <tr>\n",
              "      <th>...</th>\n",
              "      <td>...</td>\n",
              "      <td>...</td>\n",
              "      <td>...</td>\n",
              "      <td>...</td>\n",
              "      <td>...</td>\n",
              "      <td>...</td>\n",
              "      <td>...</td>\n",
              "      <td>...</td>\n",
              "      <td>...</td>\n",
              "      <td>...</td>\n",
              "      <td>...</td>\n",
              "      <td>...</td>\n",
              "      <td>...</td>\n",
              "    </tr>\n",
              "    <tr>\n",
              "      <th>995</th>\n",
              "      <td>996</td>\n",
              "      <td>France</td>\n",
              "      <td>Lyon</td>\n",
              "      <td>Bus</td>\n",
              "      <td>20</td>\n",
              "      <td>5</td>\n",
              "      <td>4002</td>\n",
              "      <td>Hotel</td>\n",
              "      <td>Business</td>\n",
              "      <td>Fall</td>\n",
              "      <td>200.100000</td>\n",
              "      <td>45.7640</td>\n",
              "      <td>4.8357</td>\n",
              "    </tr>\n",
              "    <tr>\n",
              "      <th>996</th>\n",
              "      <td>997</td>\n",
              "      <td>Switzerland</td>\n",
              "      <td>Geneva</td>\n",
              "      <td>Bus</td>\n",
              "      <td>19</td>\n",
              "      <td>4</td>\n",
              "      <td>2170</td>\n",
              "      <td>Airbnb</td>\n",
              "      <td>Family Visit</td>\n",
              "      <td>Fall</td>\n",
              "      <td>114.210526</td>\n",
              "      <td>46.2044</td>\n",
              "      <td>6.1432</td>\n",
              "    </tr>\n",
              "    <tr>\n",
              "      <th>997</th>\n",
              "      <td>998</td>\n",
              "      <td>Austria</td>\n",
              "      <td>Vienna</td>\n",
              "      <td>Car</td>\n",
              "      <td>16</td>\n",
              "      <td>4</td>\n",
              "      <td>1102</td>\n",
              "      <td>Hotel</td>\n",
              "      <td>Leisure</td>\n",
              "      <td>Fall</td>\n",
              "      <td>68.875000</td>\n",
              "      <td>48.2082</td>\n",
              "      <td>16.3738</td>\n",
              "    </tr>\n",
              "    <tr>\n",
              "      <th>998</th>\n",
              "      <td>999</td>\n",
              "      <td>UK</td>\n",
              "      <td>Manchester</td>\n",
              "      <td>Flight</td>\n",
              "      <td>14</td>\n",
              "      <td>3</td>\n",
              "      <td>3319</td>\n",
              "      <td>Hotel</td>\n",
              "      <td>Business</td>\n",
              "      <td>Summer</td>\n",
              "      <td>237.071429</td>\n",
              "      <td>53.4808</td>\n",
              "      <td>-2.2426</td>\n",
              "    </tr>\n",
              "    <tr>\n",
              "      <th>999</th>\n",
              "      <td>1000</td>\n",
              "      <td>Austria</td>\n",
              "      <td>Salzburg</td>\n",
              "      <td>Train</td>\n",
              "      <td>10</td>\n",
              "      <td>4</td>\n",
              "      <td>2584</td>\n",
              "      <td>Hostel</td>\n",
              "      <td>Family Visit</td>\n",
              "      <td>Spring</td>\n",
              "      <td>258.400000</td>\n",
              "      <td>47.8095</td>\n",
              "      <td>13.0550</td>\n",
              "    </tr>\n",
              "  </tbody>\n",
              "</table>\n",
              "<p>1000 rows × 13 columns</p>\n",
              "</div>"
            ],
            "text/plain": [
              "     Tourist_ID Country_Visited  City_Visited Mode_of_Travel  \\\n",
              "0             1         Germany       Hamburg         Flight   \n",
              "1             2         Germany        Berlin            Car   \n",
              "2             3              UK    Manchester        Bicycle   \n",
              "3             4          Greece  Thessaloniki        Bicycle   \n",
              "4             5          Greece  Thessaloniki         Flight   \n",
              "..          ...             ...           ...            ...   \n",
              "995         996          France          Lyon            Bus   \n",
              "996         997     Switzerland        Geneva            Bus   \n",
              "997         998         Austria        Vienna            Car   \n",
              "998         999              UK    Manchester         Flight   \n",
              "999        1000         Austria      Salzburg          Train   \n",
              "\n",
              "     Travel_Duration_Days  Number_of_Companions  Total_Travel_Cost  \\\n",
              "0                       8                     4               1060   \n",
              "1                      16                     3               3972   \n",
              "2                       8                     2                666   \n",
              "3                      12                     3               3644   \n",
              "4                       5                     3               1885   \n",
              "..                    ...                   ...                ...   \n",
              "995                    20                     5               4002   \n",
              "996                    19                     4               2170   \n",
              "997                    16                     4               1102   \n",
              "998                    14                     3               3319   \n",
              "999                    10                     4               2584   \n",
              "\n",
              "    Accommodation_Type  Main_Purpose Season_of_Visit  Cost_Per_Day  Latitude  \\\n",
              "0                Hotel  Family Visit          Summer    132.500000   53.5511   \n",
              "1               Hostel  Family Visit          Winter    248.250000   52.5200   \n",
              "2              Camping      Business          Winter     83.250000   53.4808   \n",
              "3                Hotel      Business          Summer    303.666667   40.6401   \n",
              "4               Airbnb       Leisure          Spring    377.000000   40.6401   \n",
              "..                 ...           ...             ...           ...       ...   \n",
              "995              Hotel      Business            Fall    200.100000   45.7640   \n",
              "996             Airbnb  Family Visit            Fall    114.210526   46.2044   \n",
              "997              Hotel       Leisure            Fall     68.875000   48.2082   \n",
              "998              Hotel      Business          Summer    237.071429   53.4808   \n",
              "999             Hostel  Family Visit          Spring    258.400000   47.8095   \n",
              "\n",
              "     Longitude  \n",
              "0       9.9937  \n",
              "1      13.4050  \n",
              "2      -2.2426  \n",
              "3      22.9444  \n",
              "4      22.9444  \n",
              "..         ...  \n",
              "995     4.8357  \n",
              "996     6.1432  \n",
              "997    16.3738  \n",
              "998    -2.2426  \n",
              "999    13.0550  \n",
              "\n",
              "[1000 rows x 13 columns]"
            ]
          },
          "execution_count": 13,
          "metadata": {},
          "output_type": "execute_result"
        }
      ],
      "source": [
        "# Manually mapping known cities to their latitude and longitude coordinates\n",
        "city_coordinates = {\n",
        "    \"Hamburg\": (53.5511, 9.9937),\n",
        "    \"Berlin\": (52.5200, 13.4050),\n",
        "    \"Manchester\": (53.4808, -2.2426),\n",
        "    \"Thessaloniki\": (40.6401, 22.9444),\n",
        "    \"Athens\": (37.9838, 23.7275),\n",
        "    \"Lisbon\": (38.7169, -9.1399),\n",
        "    \"Faro\": (37.0194, -7.9322),\n",
        "    \"Madrid\": (40.4168, -3.7038),\n",
        "    \"Salzburg\": (47.8095, 13.0550),\n",
        "    \"London\": (51.5074, -0.1278),\n",
        "    \"Rome\": (41.9028, 12.4964),\n",
        "    \"Utrecht\": (52.0907, 5.1214),\n",
        "    \"Paris\": (48.8566, 2.3522),\n",
        "    \"Lucerne\": (47.0505, 8.3059),\n",
        "    \"Porto\": (41.1579, -8.6291),\n",
        "    \"Lyon\": (45.7640, 4.8357),\n",
        "    \"Edinburgh\": (55.9533, -3.1883),\n",
        "    \"Seville\": (37.3886, -5.9823),\n",
        "    \"Rotterdam\": (51.9225, 4.4792),\n",
        "    \"Vienna\": (48.2082, 16.3738),\n",
        "    \"Santorini\": (36.3932, 25.4615),\n",
        "    \"Innsbruck\": (47.2692, 11.4041),\n",
        "    \"Barcelona\": (41.3851, 2.1734),\n",
        "    \"Zurich\": (47.3769, 8.5417),\n",
        "    \"Nice\": (43.7102, 7.2620),\n",
        "    \"Geneva\": (46.2044, 6.1432),\n",
        "    \"Amsterdam\": (52.3676, 4.9041),\n",
        "    \"Venice\": (45.4408, 12.3155),\n",
        "    \"Milan\": (45.4642, 9.1900),\n",
        "    \"Munich\": (48.1351, 11.5820)\n",
        "} # Dictionary of city coordinates\n",
        "df_copy = df.copy()\n",
        "# Add latitude and longitude to the dataset\n",
        "df_copy['Latitude'] = df['City_Visited'].map(lambda x: city_coordinates.get(x, (None, None))[0])\n",
        "df_copy['Longitude'] = df['City_Visited'].map(lambda x: city_coordinates.get(x, (None, None))[1])\n",
        "\n",
        "# Save and preview the updated dataset\n",
        "df_copy"
      ]
    },
    {
      "cell_type": "code",
      "execution_count": null,
      "metadata": {},
      "outputs": [
        {
          "data": {
            "application/vnd.plotly.v1+json": {
              "config": {
                "plotlyServerURL": "https://plot.ly"
              },
              "data": [
                {
                  "customdata": [
                    [
                      "Netherlands",
                      10.903225806451612,
                      3,
                      2779.5806451612902
                    ],
                    [
                      "Greece",
                      11.117647058823529,
                      3.0588235294117645,
                      2363.529411764706
                    ],
                    [
                      "Spain",
                      10.333333333333334,
                      2.6666666666666665,
                      2576.7
                    ],
                    [
                      "Germany",
                      9.305555555555555,
                      3.2222222222222223,
                      2536.3333333333335
                    ],
                    [
                      "UK",
                      11.3,
                      2.65,
                      2877.7
                    ],
                    [
                      "Portugal",
                      12.243243243243244,
                      3.027027027027027,
                      2621.2702702702704
                    ],
                    [
                      "Switzerland",
                      9.818181818181818,
                      2.787878787878788,
                      2757.787878787879
                    ],
                    [
                      "Germany",
                      9.975,
                      2.975,
                      2204.1
                    ],
                    [
                      "Austria",
                      11.257142857142858,
                      3.2285714285714286,
                      2565.057142857143
                    ],
                    [
                      "Portugal",
                      11.409090909090908,
                      3.1363636363636362,
                      2528.6363636363635
                    ],
                    [
                      "UK",
                      11.88,
                      2.92,
                      2611.48
                    ],
                    [
                      "Switzerland",
                      10.078947368421053,
                      2.9473684210526314,
                      2388.3947368421054
                    ],
                    [
                      "France",
                      12.678571428571429,
                      2.7857142857142856,
                      2933.0714285714284
                    ],
                    [
                      "Spain",
                      13.074074074074074,
                      3.2222222222222223,
                      2637.185185185185
                    ],
                    [
                      "UK",
                      10.179487179487179,
                      2.923076923076923,
                      2719.846153846154
                    ],
                    [
                      "Italy",
                      10.565217391304348,
                      2.9565217391304346,
                      2444.913043478261
                    ],
                    [
                      "Germany",
                      11.647058823529411,
                      3,
                      2701.4117647058824
                    ],
                    [
                      "France",
                      9.851851851851851,
                      3.3333333333333335,
                      2328.222222222222
                    ],
                    [
                      "France",
                      10.295454545454545,
                      2.7954545454545454,
                      2901.409090909091
                    ],
                    [
                      "Portugal",
                      10.419354838709678,
                      2.806451612903226,
                      2397.064516129032
                    ],
                    [
                      "Italy",
                      9.81081081081081,
                      2.918918918918919,
                      2468.675675675676
                    ],
                    [
                      "Netherlands",
                      10.933333333333334,
                      2.8333333333333335,
                      2394.7
                    ],
                    [
                      "Austria",
                      13.536585365853659,
                      3.097560975609756,
                      2618.1951219512193
                    ],
                    [
                      "Greece",
                      10.552631578947368,
                      3.026315789473684,
                      2378.184210526316
                    ],
                    [
                      "Spain",
                      10.257142857142858,
                      3.1714285714285713,
                      2998.2571428571428
                    ],
                    [
                      "Greece",
                      9.75,
                      2.65,
                      2538.1
                    ],
                    [
                      "Netherlands",
                      10.884615384615385,
                      2.9615384615384617,
                      2850.0384615384614
                    ],
                    [
                      "Italy",
                      10.973684210526315,
                      2.8421052631578947,
                      2952.842105263158
                    ],
                    [
                      "Austria",
                      8.961538461538462,
                      3.5,
                      2385
                    ],
                    [
                      "Switzerland",
                      11.090909090909092,
                      3.0606060606060606,
                      2619.5757575757575
                    ]
                  ],
                  "hovertemplate": "<b>%{hovertext}</b><br><br>Travel_Duration_Days=%{customdata[1]:.2f}<br>Latitude=%{lat}<br>Longitude=%{lon}<br>Country_Visited=%{customdata[0]}<br>Number_of_Companions=%{customdata[2]:.2f}<br>Total_Travel_Cost=%{marker.color:.2f}<extra></extra>",
                  "hovertext": [
                    "Amsterdam",
                    "Athens",
                    "Barcelona",
                    "Berlin",
                    "Edinburgh",
                    "Faro",
                    "Geneva",
                    "Hamburg",
                    "Innsbruck",
                    "Lisbon",
                    "London",
                    "Lucerne",
                    "Lyon",
                    "Madrid",
                    "Manchester",
                    "Milan",
                    "Munich",
                    "Nice",
                    "Paris",
                    "Porto",
                    "Rome",
                    "Rotterdam",
                    "Salzburg",
                    "Santorini",
                    "Seville",
                    "Thessaloniki",
                    "Utrecht",
                    "Venice",
                    "Vienna",
                    "Zurich"
                  ],
                  "lat": [
                    52.3676,
                    37.9838,
                    41.3851,
                    52.52,
                    55.9533,
                    37.0194,
                    46.2044,
                    53.5511,
                    47.2692,
                    38.7169,
                    51.5074,
                    47.0505,
                    45.764,
                    40.4168,
                    53.4808,
                    45.4642,
                    48.1351,
                    43.7102,
                    48.8566,
                    41.1579,
                    41.9028,
                    51.9225,
                    47.8095,
                    36.3932,
                    37.3886,
                    40.6401,
                    52.0907,
                    45.4408,
                    48.2082,
                    47.3769
                  ],
                  "legendgroup": "",
                  "lon": [
                    4.9041,
                    23.7275,
                    2.1734,
                    13.405,
                    -3.1883,
                    -7.9322,
                    6.1432,
                    9.9937,
                    11.4041,
                    -9.1399,
                    -0.1278,
                    8.3059,
                    4.8357,
                    -3.7038,
                    -2.2426,
                    9.19,
                    11.582,
                    7.262,
                    2.3522,
                    -8.6291,
                    12.4964,
                    4.4792,
                    13.055,
                    25.4615,
                    -5.9823,
                    22.9444,
                    5.1214,
                    12.3155,
                    16.3738,
                    8.5417
                  ],
                  "marker": {
                    "color": [
                      2779.5806451612902,
                      2363.529411764706,
                      2576.7,
                      2536.3333333333335,
                      2877.7,
                      2621.2702702702704,
                      2757.787878787879,
                      2204.1,
                      2565.057142857143,
                      2528.6363636363635,
                      2611.48,
                      2388.3947368421054,
                      2933.0714285714284,
                      2637.185185185185,
                      2719.846153846154,
                      2444.913043478261,
                      2701.4117647058824,
                      2328.222222222222,
                      2901.409090909091,
                      2397.064516129032,
                      2468.675675675676,
                      2394.7,
                      2618.1951219512193,
                      2378.184210526316,
                      2998.2571428571428,
                      2538.1,
                      2850.0384615384614,
                      2952.842105263158,
                      2385,
                      2619.5757575757575
                    ],
                    "coloraxis": "coloraxis",
                    "size": [
                      10.903225806451612,
                      11.117647058823529,
                      10.333333333333334,
                      9.305555555555555,
                      11.3,
                      12.243243243243244,
                      9.818181818181818,
                      9.975,
                      11.257142857142858,
                      11.409090909090908,
                      11.88,
                      10.078947368421053,
                      12.678571428571429,
                      13.074074074074074,
                      10.179487179487179,
                      10.565217391304348,
                      11.647058823529411,
                      9.851851851851851,
                      10.295454545454545,
                      10.419354838709678,
                      9.81081081081081,
                      10.933333333333334,
                      13.536585365853659,
                      10.552631578947368,
                      10.257142857142858,
                      9.75,
                      10.884615384615385,
                      10.973684210526315,
                      8.961538461538462,
                      11.090909090909092
                    ],
                    "sizemode": "area",
                    "sizeref": 0.03384146341463415
                  },
                  "mode": "markers",
                  "name": "",
                  "showlegend": false,
                  "subplot": "mapbox",
                  "type": "scattermapbox"
                }
              ],
              "layout": {
                "coloraxis": {
                  "colorbar": {
                    "title": {
                      "text": "Total_Travel_Cost"
                    }
                  },
                  "colorscale": [
                    [
                      0,
                      "#0d0887"
                    ],
                    [
                      0.1111111111111111,
                      "#46039f"
                    ],
                    [
                      0.2222222222222222,
                      "#7201a8"
                    ],
                    [
                      0.3333333333333333,
                      "#9c179e"
                    ],
                    [
                      0.4444444444444444,
                      "#bd3786"
                    ],
                    [
                      0.5555555555555556,
                      "#d8576b"
                    ],
                    [
                      0.6666666666666666,
                      "#ed7953"
                    ],
                    [
                      0.7777777777777778,
                      "#fb9f3a"
                    ],
                    [
                      0.8888888888888888,
                      "#fdca26"
                    ],
                    [
                      1,
                      "#f0f921"
                    ]
                  ]
                },
                "legend": {
                  "itemsizing": "constant",
                  "tracegroupgap": 0
                },
                "mapbox": {
                  "center": {
                    "lat": 45.922920000000005,
                    "lon": 6.504056666666667
                  },
                  "domain": {
                    "x": [
                      0,
                      1
                    ],
                    "y": [
                      0,
                      1
                    ]
                  },
                  "style": "carto-positron",
                  "zoom": 3
                },
                "template": {
                  "data": {
                    "bar": [
                      {
                        "error_x": {
                          "color": "#2a3f5f"
                        },
                        "error_y": {
                          "color": "#2a3f5f"
                        },
                        "marker": {
                          "line": {
                            "color": "#E5ECF6",
                            "width": 0.5
                          },
                          "pattern": {
                            "fillmode": "overlay",
                            "size": 10,
                            "solidity": 0.2
                          }
                        },
                        "type": "bar"
                      }
                    ],
                    "barpolar": [
                      {
                        "marker": {
                          "line": {
                            "color": "#E5ECF6",
                            "width": 0.5
                          },
                          "pattern": {
                            "fillmode": "overlay",
                            "size": 10,
                            "solidity": 0.2
                          }
                        },
                        "type": "barpolar"
                      }
                    ],
                    "carpet": [
                      {
                        "aaxis": {
                          "endlinecolor": "#2a3f5f",
                          "gridcolor": "white",
                          "linecolor": "white",
                          "minorgridcolor": "white",
                          "startlinecolor": "#2a3f5f"
                        },
                        "baxis": {
                          "endlinecolor": "#2a3f5f",
                          "gridcolor": "white",
                          "linecolor": "white",
                          "minorgridcolor": "white",
                          "startlinecolor": "#2a3f5f"
                        },
                        "type": "carpet"
                      }
                    ],
                    "choropleth": [
                      {
                        "colorbar": {
                          "outlinewidth": 0,
                          "ticks": ""
                        },
                        "type": "choropleth"
                      }
                    ],
                    "contour": [
                      {
                        "colorbar": {
                          "outlinewidth": 0,
                          "ticks": ""
                        },
                        "colorscale": [
                          [
                            0,
                            "#0d0887"
                          ],
                          [
                            0.1111111111111111,
                            "#46039f"
                          ],
                          [
                            0.2222222222222222,
                            "#7201a8"
                          ],
                          [
                            0.3333333333333333,
                            "#9c179e"
                          ],
                          [
                            0.4444444444444444,
                            "#bd3786"
                          ],
                          [
                            0.5555555555555556,
                            "#d8576b"
                          ],
                          [
                            0.6666666666666666,
                            "#ed7953"
                          ],
                          [
                            0.7777777777777778,
                            "#fb9f3a"
                          ],
                          [
                            0.8888888888888888,
                            "#fdca26"
                          ],
                          [
                            1,
                            "#f0f921"
                          ]
                        ],
                        "type": "contour"
                      }
                    ],
                    "contourcarpet": [
                      {
                        "colorbar": {
                          "outlinewidth": 0,
                          "ticks": ""
                        },
                        "type": "contourcarpet"
                      }
                    ],
                    "heatmap": [
                      {
                        "colorbar": {
                          "outlinewidth": 0,
                          "ticks": ""
                        },
                        "colorscale": [
                          [
                            0,
                            "#0d0887"
                          ],
                          [
                            0.1111111111111111,
                            "#46039f"
                          ],
                          [
                            0.2222222222222222,
                            "#7201a8"
                          ],
                          [
                            0.3333333333333333,
                            "#9c179e"
                          ],
                          [
                            0.4444444444444444,
                            "#bd3786"
                          ],
                          [
                            0.5555555555555556,
                            "#d8576b"
                          ],
                          [
                            0.6666666666666666,
                            "#ed7953"
                          ],
                          [
                            0.7777777777777778,
                            "#fb9f3a"
                          ],
                          [
                            0.8888888888888888,
                            "#fdca26"
                          ],
                          [
                            1,
                            "#f0f921"
                          ]
                        ],
                        "type": "heatmap"
                      }
                    ],
                    "heatmapgl": [
                      {
                        "colorbar": {
                          "outlinewidth": 0,
                          "ticks": ""
                        },
                        "colorscale": [
                          [
                            0,
                            "#0d0887"
                          ],
                          [
                            0.1111111111111111,
                            "#46039f"
                          ],
                          [
                            0.2222222222222222,
                            "#7201a8"
                          ],
                          [
                            0.3333333333333333,
                            "#9c179e"
                          ],
                          [
                            0.4444444444444444,
                            "#bd3786"
                          ],
                          [
                            0.5555555555555556,
                            "#d8576b"
                          ],
                          [
                            0.6666666666666666,
                            "#ed7953"
                          ],
                          [
                            0.7777777777777778,
                            "#fb9f3a"
                          ],
                          [
                            0.8888888888888888,
                            "#fdca26"
                          ],
                          [
                            1,
                            "#f0f921"
                          ]
                        ],
                        "type": "heatmapgl"
                      }
                    ],
                    "histogram": [
                      {
                        "marker": {
                          "pattern": {
                            "fillmode": "overlay",
                            "size": 10,
                            "solidity": 0.2
                          }
                        },
                        "type": "histogram"
                      }
                    ],
                    "histogram2d": [
                      {
                        "colorbar": {
                          "outlinewidth": 0,
                          "ticks": ""
                        },
                        "colorscale": [
                          [
                            0,
                            "#0d0887"
                          ],
                          [
                            0.1111111111111111,
                            "#46039f"
                          ],
                          [
                            0.2222222222222222,
                            "#7201a8"
                          ],
                          [
                            0.3333333333333333,
                            "#9c179e"
                          ],
                          [
                            0.4444444444444444,
                            "#bd3786"
                          ],
                          [
                            0.5555555555555556,
                            "#d8576b"
                          ],
                          [
                            0.6666666666666666,
                            "#ed7953"
                          ],
                          [
                            0.7777777777777778,
                            "#fb9f3a"
                          ],
                          [
                            0.8888888888888888,
                            "#fdca26"
                          ],
                          [
                            1,
                            "#f0f921"
                          ]
                        ],
                        "type": "histogram2d"
                      }
                    ],
                    "histogram2dcontour": [
                      {
                        "colorbar": {
                          "outlinewidth": 0,
                          "ticks": ""
                        },
                        "colorscale": [
                          [
                            0,
                            "#0d0887"
                          ],
                          [
                            0.1111111111111111,
                            "#46039f"
                          ],
                          [
                            0.2222222222222222,
                            "#7201a8"
                          ],
                          [
                            0.3333333333333333,
                            "#9c179e"
                          ],
                          [
                            0.4444444444444444,
                            "#bd3786"
                          ],
                          [
                            0.5555555555555556,
                            "#d8576b"
                          ],
                          [
                            0.6666666666666666,
                            "#ed7953"
                          ],
                          [
                            0.7777777777777778,
                            "#fb9f3a"
                          ],
                          [
                            0.8888888888888888,
                            "#fdca26"
                          ],
                          [
                            1,
                            "#f0f921"
                          ]
                        ],
                        "type": "histogram2dcontour"
                      }
                    ],
                    "mesh3d": [
                      {
                        "colorbar": {
                          "outlinewidth": 0,
                          "ticks": ""
                        },
                        "type": "mesh3d"
                      }
                    ],
                    "parcoords": [
                      {
                        "line": {
                          "colorbar": {
                            "outlinewidth": 0,
                            "ticks": ""
                          }
                        },
                        "type": "parcoords"
                      }
                    ],
                    "pie": [
                      {
                        "automargin": true,
                        "type": "pie"
                      }
                    ],
                    "scatter": [
                      {
                        "fillpattern": {
                          "fillmode": "overlay",
                          "size": 10,
                          "solidity": 0.2
                        },
                        "type": "scatter"
                      }
                    ],
                    "scatter3d": [
                      {
                        "line": {
                          "colorbar": {
                            "outlinewidth": 0,
                            "ticks": ""
                          }
                        },
                        "marker": {
                          "colorbar": {
                            "outlinewidth": 0,
                            "ticks": ""
                          }
                        },
                        "type": "scatter3d"
                      }
                    ],
                    "scattercarpet": [
                      {
                        "marker": {
                          "colorbar": {
                            "outlinewidth": 0,
                            "ticks": ""
                          }
                        },
                        "type": "scattercarpet"
                      }
                    ],
                    "scattergeo": [
                      {
                        "marker": {
                          "colorbar": {
                            "outlinewidth": 0,
                            "ticks": ""
                          }
                        },
                        "type": "scattergeo"
                      }
                    ],
                    "scattergl": [
                      {
                        "marker": {
                          "colorbar": {
                            "outlinewidth": 0,
                            "ticks": ""
                          }
                        },
                        "type": "scattergl"
                      }
                    ],
                    "scattermapbox": [
                      {
                        "marker": {
                          "colorbar": {
                            "outlinewidth": 0,
                            "ticks": ""
                          }
                        },
                        "type": "scattermapbox"
                      }
                    ],
                    "scatterpolar": [
                      {
                        "marker": {
                          "colorbar": {
                            "outlinewidth": 0,
                            "ticks": ""
                          }
                        },
                        "type": "scatterpolar"
                      }
                    ],
                    "scatterpolargl": [
                      {
                        "marker": {
                          "colorbar": {
                            "outlinewidth": 0,
                            "ticks": ""
                          }
                        },
                        "type": "scatterpolargl"
                      }
                    ],
                    "scatterternary": [
                      {
                        "marker": {
                          "colorbar": {
                            "outlinewidth": 0,
                            "ticks": ""
                          }
                        },
                        "type": "scatterternary"
                      }
                    ],
                    "surface": [
                      {
                        "colorbar": {
                          "outlinewidth": 0,
                          "ticks": ""
                        },
                        "colorscale": [
                          [
                            0,
                            "#0d0887"
                          ],
                          [
                            0.1111111111111111,
                            "#46039f"
                          ],
                          [
                            0.2222222222222222,
                            "#7201a8"
                          ],
                          [
                            0.3333333333333333,
                            "#9c179e"
                          ],
                          [
                            0.4444444444444444,
                            "#bd3786"
                          ],
                          [
                            0.5555555555555556,
                            "#d8576b"
                          ],
                          [
                            0.6666666666666666,
                            "#ed7953"
                          ],
                          [
                            0.7777777777777778,
                            "#fb9f3a"
                          ],
                          [
                            0.8888888888888888,
                            "#fdca26"
                          ],
                          [
                            1,
                            "#f0f921"
                          ]
                        ],
                        "type": "surface"
                      }
                    ],
                    "table": [
                      {
                        "cells": {
                          "fill": {
                            "color": "#EBF0F8"
                          },
                          "line": {
                            "color": "white"
                          }
                        },
                        "header": {
                          "fill": {
                            "color": "#C8D4E3"
                          },
                          "line": {
                            "color": "white"
                          }
                        },
                        "type": "table"
                      }
                    ]
                  },
                  "layout": {
                    "annotationdefaults": {
                      "arrowcolor": "#2a3f5f",
                      "arrowhead": 0,
                      "arrowwidth": 1
                    },
                    "autotypenumbers": "strict",
                    "coloraxis": {
                      "colorbar": {
                        "outlinewidth": 0,
                        "ticks": ""
                      }
                    },
                    "colorscale": {
                      "diverging": [
                        [
                          0,
                          "#8e0152"
                        ],
                        [
                          0.1,
                          "#c51b7d"
                        ],
                        [
                          0.2,
                          "#de77ae"
                        ],
                        [
                          0.3,
                          "#f1b6da"
                        ],
                        [
                          0.4,
                          "#fde0ef"
                        ],
                        [
                          0.5,
                          "#f7f7f7"
                        ],
                        [
                          0.6,
                          "#e6f5d0"
                        ],
                        [
                          0.7,
                          "#b8e186"
                        ],
                        [
                          0.8,
                          "#7fbc41"
                        ],
                        [
                          0.9,
                          "#4d9221"
                        ],
                        [
                          1,
                          "#276419"
                        ]
                      ],
                      "sequential": [
                        [
                          0,
                          "#0d0887"
                        ],
                        [
                          0.1111111111111111,
                          "#46039f"
                        ],
                        [
                          0.2222222222222222,
                          "#7201a8"
                        ],
                        [
                          0.3333333333333333,
                          "#9c179e"
                        ],
                        [
                          0.4444444444444444,
                          "#bd3786"
                        ],
                        [
                          0.5555555555555556,
                          "#d8576b"
                        ],
                        [
                          0.6666666666666666,
                          "#ed7953"
                        ],
                        [
                          0.7777777777777778,
                          "#fb9f3a"
                        ],
                        [
                          0.8888888888888888,
                          "#fdca26"
                        ],
                        [
                          1,
                          "#f0f921"
                        ]
                      ],
                      "sequentialminus": [
                        [
                          0,
                          "#0d0887"
                        ],
                        [
                          0.1111111111111111,
                          "#46039f"
                        ],
                        [
                          0.2222222222222222,
                          "#7201a8"
                        ],
                        [
                          0.3333333333333333,
                          "#9c179e"
                        ],
                        [
                          0.4444444444444444,
                          "#bd3786"
                        ],
                        [
                          0.5555555555555556,
                          "#d8576b"
                        ],
                        [
                          0.6666666666666666,
                          "#ed7953"
                        ],
                        [
                          0.7777777777777778,
                          "#fb9f3a"
                        ],
                        [
                          0.8888888888888888,
                          "#fdca26"
                        ],
                        [
                          1,
                          "#f0f921"
                        ]
                      ]
                    },
                    "colorway": [
                      "#636efa",
                      "#EF553B",
                      "#00cc96",
                      "#ab63fa",
                      "#FFA15A",
                      "#19d3f3",
                      "#FF6692",
                      "#B6E880",
                      "#FF97FF",
                      "#FECB52"
                    ],
                    "font": {
                      "color": "#2a3f5f"
                    },
                    "geo": {
                      "bgcolor": "white",
                      "lakecolor": "white",
                      "landcolor": "#E5ECF6",
                      "showlakes": true,
                      "showland": true,
                      "subunitcolor": "white"
                    },
                    "hoverlabel": {
                      "align": "left"
                    },
                    "hovermode": "closest",
                    "mapbox": {
                      "style": "light"
                    },
                    "paper_bgcolor": "white",
                    "plot_bgcolor": "#E5ECF6",
                    "polar": {
                      "angularaxis": {
                        "gridcolor": "white",
                        "linecolor": "white",
                        "ticks": ""
                      },
                      "bgcolor": "#E5ECF6",
                      "radialaxis": {
                        "gridcolor": "white",
                        "linecolor": "white",
                        "ticks": ""
                      }
                    },
                    "scene": {
                      "xaxis": {
                        "backgroundcolor": "#E5ECF6",
                        "gridcolor": "white",
                        "gridwidth": 2,
                        "linecolor": "white",
                        "showbackground": true,
                        "ticks": "",
                        "zerolinecolor": "white"
                      },
                      "yaxis": {
                        "backgroundcolor": "#E5ECF6",
                        "gridcolor": "white",
                        "gridwidth": 2,
                        "linecolor": "white",
                        "showbackground": true,
                        "ticks": "",
                        "zerolinecolor": "white"
                      },
                      "zaxis": {
                        "backgroundcolor": "#E5ECF6",
                        "gridcolor": "white",
                        "gridwidth": 2,
                        "linecolor": "white",
                        "showbackground": true,
                        "ticks": "",
                        "zerolinecolor": "white"
                      }
                    },
                    "shapedefaults": {
                      "line": {
                        "color": "#2a3f5f"
                      }
                    },
                    "ternary": {
                      "aaxis": {
                        "gridcolor": "white",
                        "linecolor": "white",
                        "ticks": ""
                      },
                      "baxis": {
                        "gridcolor": "white",
                        "linecolor": "white",
                        "ticks": ""
                      },
                      "bgcolor": "#E5ECF6",
                      "caxis": {
                        "gridcolor": "white",
                        "linecolor": "white",
                        "ticks": ""
                      }
                    },
                    "title": {
                      "x": 0.05
                    },
                    "xaxis": {
                      "automargin": true,
                      "gridcolor": "white",
                      "linecolor": "white",
                      "ticks": "",
                      "title": {
                        "standoff": 15
                      },
                      "zerolinecolor": "white",
                      "zerolinewidth": 2
                    },
                    "yaxis": {
                      "automargin": true,
                      "gridcolor": "white",
                      "linecolor": "white",
                      "ticks": "",
                      "title": {
                        "standoff": 15
                      },
                      "zerolinecolor": "white",
                      "zerolinewidth": 2
                    }
                  }
                },
                "title": {
                  "text": "Mapbox: Travel Cost, Duration & Companions"
                }
              }
            }
          },
          "metadata": {},
          "output_type": "display_data"
        }
      ],
      "source": [
        "\n",
        "\n",
        "df_grouped = df_copy.groupby([\"City_Visited\", \"Country_Visited\", \"Latitude\", \"Longitude\"], as_index=False).agg(\n",
        "    {\n",
        "        \"Travel_Duration_Days\": \"mean\",\n",
        "        \"Number_of_Companions\": \"mean\",\n",
        "        \"Total_Travel_Cost\": \"mean\"\n",
        "    }\n",
        ")\n",
        "\n",
        "# Create a Mapbox scatter plot\n",
        "fig = px.scatter_mapbox(\n",
        "    df_grouped,\n",
        "    lat=\"Latitude\",\n",
        "    lon=\"Longitude\",\n",
        "    hover_name=\"City_Visited\",\n",
        "    hover_data={\n",
        "        \"Country_Visited\": True,\n",
        "        \"Travel_Duration_Days\": \":.2f\",  # Show averages with 2 decimal places\n",
        "        \"Number_of_Companions\": \":.2f\",\n",
        "        \"Total_Travel_Cost\": \":.2f\"\n",
        "    }, # Include additional columns in hover data\n",
        "    color=\"Total_Travel_Cost\",  # Color by travel cost\n",
        "    size=\"Travel_Duration_Days\",  # Size represents travel duration\n",
        "    size_max=20,  # Increase max size for better differentiation\n",
        "    zoom=3,\n",
        "    mapbox_style=\"carto-positron\",\n",
        "    title=\"Mapbox: Travel Cost, Duration & Companions\"\n",
        ")\n",
        "\n",
        "fig.show()\n"
      ]
    },
    {
      "cell_type": "markdown",
      "metadata": {},
      "source": [
        "  # Average Travel Cost by Mode of Travel #\n",
        " \n",
        "  The use of a horizontal barchart to visualise the cost of travel in relation to mode of transport."
      ]
    },
    {
      "cell_type": "code",
      "execution_count": 26,
      "metadata": {},
      "outputs": [
        {
          "data": {
            "application/vnd.plotly.v1+json": {
              "config": {
                "plotlyServerURL": "https://plot.ly"
              },
              "data": [
                {
                  "alignmentgroup": "True",
                  "hovertemplate": "Average Travel Cost (€)=%{marker.color}<br>Mode of Travel=%{y}<extra></extra>",
                  "legendgroup": "",
                  "marker": {
                    "color": [
                      2716.848214285714,
                      2580,
                      2513.054945054945,
                      2542.0376569037658,
                      2640.3241758241757
                    ],
                    "coloraxis": "coloraxis",
                    "pattern": {
                      "shape": ""
                    }
                  },
                  "name": "",
                  "offsetgroup": "",
                  "orientation": "h",
                  "showlegend": false,
                  "textposition": "auto",
                  "type": "bar",
                  "x": [
                    2716.848214285714,
                    2580,
                    2513.054945054945,
                    2542.0376569037658,
                    2640.3241758241757
                  ],
                  "xaxis": "x",
                  "y": [
                    "Bicycle",
                    "Bus",
                    "Car",
                    "Flight",
                    "Train"
                  ],
                  "yaxis": "y"
                }
              ],
              "layout": {
                "barmode": "relative",
                "coloraxis": {
                  "colorbar": {
                    "title": {
                      "text": "Average Travel Cost (€)"
                    }
                  },
                  "colorscale": [
                    [
                      0,
                      "#440154"
                    ],
                    [
                      0.1111111111111111,
                      "#482878"
                    ],
                    [
                      0.2222222222222222,
                      "#3e4989"
                    ],
                    [
                      0.3333333333333333,
                      "#31688e"
                    ],
                    [
                      0.4444444444444444,
                      "#26828e"
                    ],
                    [
                      0.5555555555555556,
                      "#1f9e89"
                    ],
                    [
                      0.6666666666666666,
                      "#35b779"
                    ],
                    [
                      0.7777777777777778,
                      "#6ece58"
                    ],
                    [
                      0.8888888888888888,
                      "#b5de2b"
                    ],
                    [
                      1,
                      "#fde725"
                    ]
                  ]
                },
                "legend": {
                  "tracegroupgap": 0
                },
                "plot_bgcolor": "white",
                "template": {
                  "data": {
                    "bar": [
                      {
                        "error_x": {
                          "color": "#2a3f5f"
                        },
                        "error_y": {
                          "color": "#2a3f5f"
                        },
                        "marker": {
                          "line": {
                            "color": "#E5ECF6",
                            "width": 0.5
                          },
                          "pattern": {
                            "fillmode": "overlay",
                            "size": 10,
                            "solidity": 0.2
                          }
                        },
                        "type": "bar"
                      }
                    ],
                    "barpolar": [
                      {
                        "marker": {
                          "line": {
                            "color": "#E5ECF6",
                            "width": 0.5
                          },
                          "pattern": {
                            "fillmode": "overlay",
                            "size": 10,
                            "solidity": 0.2
                          }
                        },
                        "type": "barpolar"
                      }
                    ],
                    "carpet": [
                      {
                        "aaxis": {
                          "endlinecolor": "#2a3f5f",
                          "gridcolor": "white",
                          "linecolor": "white",
                          "minorgridcolor": "white",
                          "startlinecolor": "#2a3f5f"
                        },
                        "baxis": {
                          "endlinecolor": "#2a3f5f",
                          "gridcolor": "white",
                          "linecolor": "white",
                          "minorgridcolor": "white",
                          "startlinecolor": "#2a3f5f"
                        },
                        "type": "carpet"
                      }
                    ],
                    "choropleth": [
                      {
                        "colorbar": {
                          "outlinewidth": 0,
                          "ticks": ""
                        },
                        "type": "choropleth"
                      }
                    ],
                    "contour": [
                      {
                        "colorbar": {
                          "outlinewidth": 0,
                          "ticks": ""
                        },
                        "colorscale": [
                          [
                            0,
                            "#0d0887"
                          ],
                          [
                            0.1111111111111111,
                            "#46039f"
                          ],
                          [
                            0.2222222222222222,
                            "#7201a8"
                          ],
                          [
                            0.3333333333333333,
                            "#9c179e"
                          ],
                          [
                            0.4444444444444444,
                            "#bd3786"
                          ],
                          [
                            0.5555555555555556,
                            "#d8576b"
                          ],
                          [
                            0.6666666666666666,
                            "#ed7953"
                          ],
                          [
                            0.7777777777777778,
                            "#fb9f3a"
                          ],
                          [
                            0.8888888888888888,
                            "#fdca26"
                          ],
                          [
                            1,
                            "#f0f921"
                          ]
                        ],
                        "type": "contour"
                      }
                    ],
                    "contourcarpet": [
                      {
                        "colorbar": {
                          "outlinewidth": 0,
                          "ticks": ""
                        },
                        "type": "contourcarpet"
                      }
                    ],
                    "heatmap": [
                      {
                        "colorbar": {
                          "outlinewidth": 0,
                          "ticks": ""
                        },
                        "colorscale": [
                          [
                            0,
                            "#0d0887"
                          ],
                          [
                            0.1111111111111111,
                            "#46039f"
                          ],
                          [
                            0.2222222222222222,
                            "#7201a8"
                          ],
                          [
                            0.3333333333333333,
                            "#9c179e"
                          ],
                          [
                            0.4444444444444444,
                            "#bd3786"
                          ],
                          [
                            0.5555555555555556,
                            "#d8576b"
                          ],
                          [
                            0.6666666666666666,
                            "#ed7953"
                          ],
                          [
                            0.7777777777777778,
                            "#fb9f3a"
                          ],
                          [
                            0.8888888888888888,
                            "#fdca26"
                          ],
                          [
                            1,
                            "#f0f921"
                          ]
                        ],
                        "type": "heatmap"
                      }
                    ],
                    "heatmapgl": [
                      {
                        "colorbar": {
                          "outlinewidth": 0,
                          "ticks": ""
                        },
                        "colorscale": [
                          [
                            0,
                            "#0d0887"
                          ],
                          [
                            0.1111111111111111,
                            "#46039f"
                          ],
                          [
                            0.2222222222222222,
                            "#7201a8"
                          ],
                          [
                            0.3333333333333333,
                            "#9c179e"
                          ],
                          [
                            0.4444444444444444,
                            "#bd3786"
                          ],
                          [
                            0.5555555555555556,
                            "#d8576b"
                          ],
                          [
                            0.6666666666666666,
                            "#ed7953"
                          ],
                          [
                            0.7777777777777778,
                            "#fb9f3a"
                          ],
                          [
                            0.8888888888888888,
                            "#fdca26"
                          ],
                          [
                            1,
                            "#f0f921"
                          ]
                        ],
                        "type": "heatmapgl"
                      }
                    ],
                    "histogram": [
                      {
                        "marker": {
                          "pattern": {
                            "fillmode": "overlay",
                            "size": 10,
                            "solidity": 0.2
                          }
                        },
                        "type": "histogram"
                      }
                    ],
                    "histogram2d": [
                      {
                        "colorbar": {
                          "outlinewidth": 0,
                          "ticks": ""
                        },
                        "colorscale": [
                          [
                            0,
                            "#0d0887"
                          ],
                          [
                            0.1111111111111111,
                            "#46039f"
                          ],
                          [
                            0.2222222222222222,
                            "#7201a8"
                          ],
                          [
                            0.3333333333333333,
                            "#9c179e"
                          ],
                          [
                            0.4444444444444444,
                            "#bd3786"
                          ],
                          [
                            0.5555555555555556,
                            "#d8576b"
                          ],
                          [
                            0.6666666666666666,
                            "#ed7953"
                          ],
                          [
                            0.7777777777777778,
                            "#fb9f3a"
                          ],
                          [
                            0.8888888888888888,
                            "#fdca26"
                          ],
                          [
                            1,
                            "#f0f921"
                          ]
                        ],
                        "type": "histogram2d"
                      }
                    ],
                    "histogram2dcontour": [
                      {
                        "colorbar": {
                          "outlinewidth": 0,
                          "ticks": ""
                        },
                        "colorscale": [
                          [
                            0,
                            "#0d0887"
                          ],
                          [
                            0.1111111111111111,
                            "#46039f"
                          ],
                          [
                            0.2222222222222222,
                            "#7201a8"
                          ],
                          [
                            0.3333333333333333,
                            "#9c179e"
                          ],
                          [
                            0.4444444444444444,
                            "#bd3786"
                          ],
                          [
                            0.5555555555555556,
                            "#d8576b"
                          ],
                          [
                            0.6666666666666666,
                            "#ed7953"
                          ],
                          [
                            0.7777777777777778,
                            "#fb9f3a"
                          ],
                          [
                            0.8888888888888888,
                            "#fdca26"
                          ],
                          [
                            1,
                            "#f0f921"
                          ]
                        ],
                        "type": "histogram2dcontour"
                      }
                    ],
                    "mesh3d": [
                      {
                        "colorbar": {
                          "outlinewidth": 0,
                          "ticks": ""
                        },
                        "type": "mesh3d"
                      }
                    ],
                    "parcoords": [
                      {
                        "line": {
                          "colorbar": {
                            "outlinewidth": 0,
                            "ticks": ""
                          }
                        },
                        "type": "parcoords"
                      }
                    ],
                    "pie": [
                      {
                        "automargin": true,
                        "type": "pie"
                      }
                    ],
                    "scatter": [
                      {
                        "fillpattern": {
                          "fillmode": "overlay",
                          "size": 10,
                          "solidity": 0.2
                        },
                        "type": "scatter"
                      }
                    ],
                    "scatter3d": [
                      {
                        "line": {
                          "colorbar": {
                            "outlinewidth": 0,
                            "ticks": ""
                          }
                        },
                        "marker": {
                          "colorbar": {
                            "outlinewidth": 0,
                            "ticks": ""
                          }
                        },
                        "type": "scatter3d"
                      }
                    ],
                    "scattercarpet": [
                      {
                        "marker": {
                          "colorbar": {
                            "outlinewidth": 0,
                            "ticks": ""
                          }
                        },
                        "type": "scattercarpet"
                      }
                    ],
                    "scattergeo": [
                      {
                        "marker": {
                          "colorbar": {
                            "outlinewidth": 0,
                            "ticks": ""
                          }
                        },
                        "type": "scattergeo"
                      }
                    ],
                    "scattergl": [
                      {
                        "marker": {
                          "colorbar": {
                            "outlinewidth": 0,
                            "ticks": ""
                          }
                        },
                        "type": "scattergl"
                      }
                    ],
                    "scattermapbox": [
                      {
                        "marker": {
                          "colorbar": {
                            "outlinewidth": 0,
                            "ticks": ""
                          }
                        },
                        "type": "scattermapbox"
                      }
                    ],
                    "scatterpolar": [
                      {
                        "marker": {
                          "colorbar": {
                            "outlinewidth": 0,
                            "ticks": ""
                          }
                        },
                        "type": "scatterpolar"
                      }
                    ],
                    "scatterpolargl": [
                      {
                        "marker": {
                          "colorbar": {
                            "outlinewidth": 0,
                            "ticks": ""
                          }
                        },
                        "type": "scatterpolargl"
                      }
                    ],
                    "scatterternary": [
                      {
                        "marker": {
                          "colorbar": {
                            "outlinewidth": 0,
                            "ticks": ""
                          }
                        },
                        "type": "scatterternary"
                      }
                    ],
                    "surface": [
                      {
                        "colorbar": {
                          "outlinewidth": 0,
                          "ticks": ""
                        },
                        "colorscale": [
                          [
                            0,
                            "#0d0887"
                          ],
                          [
                            0.1111111111111111,
                            "#46039f"
                          ],
                          [
                            0.2222222222222222,
                            "#7201a8"
                          ],
                          [
                            0.3333333333333333,
                            "#9c179e"
                          ],
                          [
                            0.4444444444444444,
                            "#bd3786"
                          ],
                          [
                            0.5555555555555556,
                            "#d8576b"
                          ],
                          [
                            0.6666666666666666,
                            "#ed7953"
                          ],
                          [
                            0.7777777777777778,
                            "#fb9f3a"
                          ],
                          [
                            0.8888888888888888,
                            "#fdca26"
                          ],
                          [
                            1,
                            "#f0f921"
                          ]
                        ],
                        "type": "surface"
                      }
                    ],
                    "table": [
                      {
                        "cells": {
                          "fill": {
                            "color": "#EBF0F8"
                          },
                          "line": {
                            "color": "white"
                          }
                        },
                        "header": {
                          "fill": {
                            "color": "#C8D4E3"
                          },
                          "line": {
                            "color": "white"
                          }
                        },
                        "type": "table"
                      }
                    ]
                  },
                  "layout": {
                    "annotationdefaults": {
                      "arrowcolor": "#2a3f5f",
                      "arrowhead": 0,
                      "arrowwidth": 1
                    },
                    "autotypenumbers": "strict",
                    "coloraxis": {
                      "colorbar": {
                        "outlinewidth": 0,
                        "ticks": ""
                      }
                    },
                    "colorscale": {
                      "diverging": [
                        [
                          0,
                          "#8e0152"
                        ],
                        [
                          0.1,
                          "#c51b7d"
                        ],
                        [
                          0.2,
                          "#de77ae"
                        ],
                        [
                          0.3,
                          "#f1b6da"
                        ],
                        [
                          0.4,
                          "#fde0ef"
                        ],
                        [
                          0.5,
                          "#f7f7f7"
                        ],
                        [
                          0.6,
                          "#e6f5d0"
                        ],
                        [
                          0.7,
                          "#b8e186"
                        ],
                        [
                          0.8,
                          "#7fbc41"
                        ],
                        [
                          0.9,
                          "#4d9221"
                        ],
                        [
                          1,
                          "#276419"
                        ]
                      ],
                      "sequential": [
                        [
                          0,
                          "#0d0887"
                        ],
                        [
                          0.1111111111111111,
                          "#46039f"
                        ],
                        [
                          0.2222222222222222,
                          "#7201a8"
                        ],
                        [
                          0.3333333333333333,
                          "#9c179e"
                        ],
                        [
                          0.4444444444444444,
                          "#bd3786"
                        ],
                        [
                          0.5555555555555556,
                          "#d8576b"
                        ],
                        [
                          0.6666666666666666,
                          "#ed7953"
                        ],
                        [
                          0.7777777777777778,
                          "#fb9f3a"
                        ],
                        [
                          0.8888888888888888,
                          "#fdca26"
                        ],
                        [
                          1,
                          "#f0f921"
                        ]
                      ],
                      "sequentialminus": [
                        [
                          0,
                          "#0d0887"
                        ],
                        [
                          0.1111111111111111,
                          "#46039f"
                        ],
                        [
                          0.2222222222222222,
                          "#7201a8"
                        ],
                        [
                          0.3333333333333333,
                          "#9c179e"
                        ],
                        [
                          0.4444444444444444,
                          "#bd3786"
                        ],
                        [
                          0.5555555555555556,
                          "#d8576b"
                        ],
                        [
                          0.6666666666666666,
                          "#ed7953"
                        ],
                        [
                          0.7777777777777778,
                          "#fb9f3a"
                        ],
                        [
                          0.8888888888888888,
                          "#fdca26"
                        ],
                        [
                          1,
                          "#f0f921"
                        ]
                      ]
                    },
                    "colorway": [
                      "#636efa",
                      "#EF553B",
                      "#00cc96",
                      "#ab63fa",
                      "#FFA15A",
                      "#19d3f3",
                      "#FF6692",
                      "#B6E880",
                      "#FF97FF",
                      "#FECB52"
                    ],
                    "font": {
                      "color": "#2a3f5f"
                    },
                    "geo": {
                      "bgcolor": "white",
                      "lakecolor": "white",
                      "landcolor": "#E5ECF6",
                      "showlakes": true,
                      "showland": true,
                      "subunitcolor": "white"
                    },
                    "hoverlabel": {
                      "align": "left"
                    },
                    "hovermode": "closest",
                    "mapbox": {
                      "style": "light"
                    },
                    "paper_bgcolor": "white",
                    "plot_bgcolor": "#E5ECF6",
                    "polar": {
                      "angularaxis": {
                        "gridcolor": "white",
                        "linecolor": "white",
                        "ticks": ""
                      },
                      "bgcolor": "#E5ECF6",
                      "radialaxis": {
                        "gridcolor": "white",
                        "linecolor": "white",
                        "ticks": ""
                      }
                    },
                    "scene": {
                      "xaxis": {
                        "backgroundcolor": "#E5ECF6",
                        "gridcolor": "white",
                        "gridwidth": 2,
                        "linecolor": "white",
                        "showbackground": true,
                        "ticks": "",
                        "zerolinecolor": "white"
                      },
                      "yaxis": {
                        "backgroundcolor": "#E5ECF6",
                        "gridcolor": "white",
                        "gridwidth": 2,
                        "linecolor": "white",
                        "showbackground": true,
                        "ticks": "",
                        "zerolinecolor": "white"
                      },
                      "zaxis": {
                        "backgroundcolor": "#E5ECF6",
                        "gridcolor": "white",
                        "gridwidth": 2,
                        "linecolor": "white",
                        "showbackground": true,
                        "ticks": "",
                        "zerolinecolor": "white"
                      }
                    },
                    "shapedefaults": {
                      "line": {
                        "color": "#2a3f5f"
                      }
                    },
                    "ternary": {
                      "aaxis": {
                        "gridcolor": "white",
                        "linecolor": "white",
                        "ticks": ""
                      },
                      "baxis": {
                        "gridcolor": "white",
                        "linecolor": "white",
                        "ticks": ""
                      },
                      "bgcolor": "#E5ECF6",
                      "caxis": {
                        "gridcolor": "white",
                        "linecolor": "white",
                        "ticks": ""
                      }
                    },
                    "title": {
                      "x": 0.05
                    },
                    "xaxis": {
                      "automargin": true,
                      "gridcolor": "white",
                      "linecolor": "white",
                      "ticks": "",
                      "title": {
                        "standoff": 15
                      },
                      "zerolinecolor": "white",
                      "zerolinewidth": 2
                    },
                    "yaxis": {
                      "automargin": true,
                      "gridcolor": "white",
                      "linecolor": "white",
                      "ticks": "",
                      "title": {
                        "standoff": 15
                      },
                      "zerolinecolor": "white",
                      "zerolinewidth": 2
                    }
                  }
                },
                "title": {
                  "text": "Average Travel Cost by Mode of Travel"
                },
                "xaxis": {
                  "anchor": "y",
                  "domain": [
                    0,
                    1
                  ],
                  "showgrid": true,
                  "title": {
                    "text": "Average Travel Cost (€)"
                  }
                },
                "yaxis": {
                  "anchor": "x",
                  "domain": [
                    0,
                    1
                  ],
                  "title": {
                    "text": "Mode of Travel"
                  }
                }
              }
            }
          },
          "metadata": {},
          "output_type": "display_data"
        }
      ],
      "source": [
        "# Calculate average travel cost by mode of travel\n",
        "df_travel_mode = df.groupby(\"Mode_of_Travel\", as_index=False)[\"Total_Travel_Cost\"].mean()\n",
        "\n",
        "# Create bar plot using Plotly\n",
        "fig = px.bar(\n",
        "    df_travel_mode, \n",
        "    x=\"Total_Travel_Cost\", \n",
        "    y=\"Mode_of_Travel\", \n",
        "    orientation='h', \n",
        "    color=\"Total_Travel_Cost\", \n",
        "    color_continuous_scale=\"viridis\",\n",
        "    title=\"Average Travel Cost by Mode of Travel\",\n",
        "    labels={\"Total_Travel_Cost\": \"Average Travel Cost (€)\", \"Mode_of_Travel\": \"Mode of Travel\"}\n",
        ")\n",
        "\n",
        "# Update layout for better readability\n",
        "fig.update_layout(\n",
        "    xaxis_title=\"Average Travel Cost (€)\",\n",
        "    yaxis_title=\"Mode of Travel\",\n",
        "    xaxis_showgrid=True,\n",
        "    plot_bgcolor=\"white\"\n",
        ")\n",
        "\n",
        "# Show plot\n",
        "fig.show()"
      ]
    },
    {
      "cell_type": "markdown",

      "metadata": {},
      "source": [
        "---"
      ]
    },
    {
      "cell_type": "markdown",
      "metadata": {},
      "source": [
        "Heatmap which visualises the relationship between Total Travel Cost, Season of Visit, and Main Purpose of Travel. This will help identify whether costs vary based on the season and travel purpose (e.g., business, leisure, family visits)."
      ]
    },
    {
      "cell_type": "code",
      "execution_count": null,
      "metadata": {},
      "outputs": [
        {
          "data": {
            "image/png": "[encoded data removed]",
            "text/plain": [
              "<Figure size 1000x600 with 2 Axes>"
            ]
          },
          "metadata": {},
          "output_type": "display_data"
        }
      ],
      "source": [
        "import pandas as pd # Importing the pandas library\n",
        "import seaborn as sns\n",
        "import matplotlib.pyplot as plt\n",
        "heatmap_data = df.pivot_table(index=\"Season_of_Visit\", #    # Create a pivot table\n",
        "                              columns=\"Main_Purpose\", \n",
        "                              values=\"Total_Travel_Cost\", \n",
        "                              aggfunc=\"mean\")\n",
        "\n",
        "# Plot heatmap    # Heatmap of average travel cost by season and purpose\n",
        "plt.figure(figsize=(10, 6))\n",
        "sns.heatmap(heatmap_data, annot=True, cmap=\"coolwarm\", linewidths=0.5)\n",
        "\n",
        "# Formatting the plot  # Add labels and title\n",
        "plt.title(\"Average Travel Cost by Season & Purpose\")\n",
        "plt.xlabel(\"Main Purpose of Travel\")\n",
        "plt.ylabel(\"Season of Visit\")\n",
        "plt.xticks(rotation=45)  # Rotate x-axis labels for better readability\n",
        "plt.show()  # Show the plot\n"
      ]
    },
    {
      "cell_type": "markdown",
      "metadata": {},
      "source": [
        "We can more add filters to this heatmap which give additional information country visited and mode of travel which will make more interactive to user. These Filters will be displayed in Tabaleu Dashboard."
      ]
    },
    {
      "cell_type": "markdown",
      "metadata": {},
      "source": [

        "---"
      ]
    },
    {
      "cell_type": "markdown",
      "metadata": {
        "id": "ltNetd085qHf"
      },
      "source": [
        "## Conclusion and Next Steps"
      ]
    },
    {
      "cell_type": "markdown",
      "metadata": {},
      "source": [
        "The Tourist Travel Modes in Europe dataset reveals key trends in how travelers move, spend, and experience destinations across Europe. Travel preferences vary significantly based on purpose, season, and location. Business travelers typically spend more on flights and hotels, while leisure travelers opt for budget-friendly options like Airbnb and hostels. Seasonal trends heavily influence costs, with summer and winter being the most expensive travel periods. Additionally, longer trips tend to increase overall costs, though travelers may benefit from discounts on accommodations and travel packages.\n",
        "This study provides the following insights into the actors involved:\n",
        "    •\tTravelers may therefore choose wisely where they would want their trip: cheap destinations during off-peak seasons.\n",
        "    •\tMarketing, pricing strategies, and service development for the tourism sector may be improved according to traveler behavior.\n",
        "    •\tTransporting and accommodation service providers may be able to adjust their offerings accordingly based on the needs of different tourist segments.\n",
        "\n",
        "Future work can be extend further predictive modeling toward estimating travel costs related to various influential factors. The incorporation of external data such as flight prices, economic conditions, or local events might significantly increase the accuracy of travel forecast trends.\n",
        "\n",
        "Overall, the project serves as a base to understand European tourism trends and offers practical recommendations for which travelers and personnel within the Travel industry can benefit.\n"
      ]
    }
  ],
  "metadata": {
    "accelerator": "GPU",
    "colab": {
      "name": "Data Practitioner Jupyter Notebook.ipynb",
      "provenance": [],
      "toc_visible": true
    },
    "kernelspec": {
      "display_name": ".venv",
      "language": "python",
      "name": "python3"
    },
    "language_info": {
      "codemirror_mode": {
        "name": "ipython",
        "version": 3
      },
      "file_extension": ".py",
      "mimetype": "text/x-python",
      "name": "python",
      "nbconvert_exporter": "python",
      "pygments_lexer": "ipython3",
      "version": "3.12.8"
    },
    "orig_nbformat": 2
  },
  "nbformat": 4,
  "nbformat_minor": 2
}
